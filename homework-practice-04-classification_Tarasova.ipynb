{
 "cells": [
  {
   "cell_type": "markdown",
   "metadata": {},
   "source": [
    "# Машинное обучение, ФКН ВШЭ\n",
    "\n",
    "## Практическое задание 4. Классификация. \n",
    "\n",
    "### Общая информация\n",
    "Дата выдачи: 29.10.2021\n",
    "\n",
    "Мягкий дедлайн: 23:59MSK 10.11.2021 (за каждый день просрочки снимается 1 балл)\n",
    "\n",
    "Жесткий дедлайн: 23:59MSK 13.11.2021"
   ]
  },
  {
   "cell_type": "markdown",
   "metadata": {},
   "source": [
    "### О задании\n",
    "\n",
    "В этом задании вы:\n",
    "- ознакомитесь с тем, что происходит \"внутри\" метода опорных векторов и логистической регрессии\n",
    "- познакомитесь с калибровкой вероятности\n",
    "- изучите методы трансформации переменных и методы отбора признаков\n",
    "- попробуете оценить экономический эффект модели\n",
    "\n",
    "\n",
    "### Оценивание и штрафы\n",
    "Каждая из задач имеет определенную «стоимость» (указана в скобках около задачи). Максимально допустимая оценка за работу — 10 баллов.\n",
    "\n",
    "Сдавать задание после указанного срока сдачи нельзя. При выставлении неполного балла за задание в связи с наличием ошибок на усмотрение проверяющего предусмотрена возможность исправить работу на указанных в ответном письме условиях.\n",
    "\n",
    "Задание выполняется самостоятельно. «Похожие» решения считаются плагиатом и все задействованные студенты (в том числе те, у кого списали) не могут получить за него больше 0 баллов (подробнее о плагиате см. на странице курса). Если вы нашли решение какого-то из заданий (или его часть) в открытом источнике, необходимо указать ссылку на этот источник в отдельном блоке в конце вашей работы (скорее всего вы будете не единственным, кто это нашел, поэтому чтобы исключить подозрение в плагиате, необходима ссылка на источник).\n",
    "\n",
    "Неэффективная реализация кода может негативно отразиться на оценке.\n",
    "\n",
    "\n",
    "### Формат сдачи\n",
    "Для сдачи задания переименуйте получившийся файл *.ipynb в соответствии со следующим форматом: homework-practice-04-classification-Username.ipynb, где Username — ваша фамилия и имя на латинице именно в таком порядке (например, homework-practice-04-classification-IvanovIvan.ipynb).\n",
    "\n",
    "Для удобства проверки самостоятельно посчитайте свою максимальную оценку (исходя из набора решенных задач) и укажите ниже.\n",
    "\n",
    "**Оценка**: "
   ]
  },
  {
   "cell_type": "code",
   "execution_count": 2,
   "metadata": {},
   "outputs": [],
   "source": [
    "import numpy as np\n",
    "import pandas as pd\n",
    "import matplotlib.pyplot as plt\n",
    "%matplotlib inline\n",
    "\n",
    "pd.set_option('display.max_rows', 100)\n",
    "pd.set_option('display.max_columns', 100)"
   ]
  },
  {
   "cell_type": "markdown",
   "metadata": {},
   "source": [
    "# Часть 0. SVM, LR и калибровка вероятностей. "
   ]
  },
  {
   "cell_type": "markdown",
   "metadata": {},
   "source": [
    "Сгенерируем синтетические данные."
   ]
  },
  {
   "cell_type": "code",
   "execution_count": 3,
   "metadata": {},
   "outputs": [],
   "source": [
    "from sklearn.datasets import make_classification\n",
    "from sklearn.model_selection import train_test_split\n",
    "\n",
    "X, y = make_classification(\n",
    "    n_samples=10000, n_features=10, n_informative=5, n_redundant=5,\n",
    "    random_state=42)\n",
    "\n",
    "X_train, X_test, y_train, y_test = train_test_split(\n",
    "    X, y, test_size=0.3, random_state=42)"
   ]
  },
  {
   "cell_type": "code",
   "execution_count": 4,
   "metadata": {},
   "outputs": [
    {
     "name": "stdout",
     "output_type": "stream",
     "text": [
      "0.4995\n"
     ]
    }
   ],
   "source": [
    "print(y.mean())"
   ]
  },
  {
   "cell_type": "code",
   "execution_count": 5,
   "metadata": {},
   "outputs": [],
   "source": [
    "from sklearn.svm import SVC"
   ]
  },
  {
   "cell_type": "code",
   "execution_count": 6,
   "metadata": {},
   "outputs": [],
   "source": [
    "import pandas as pd\n",
    "import numpy as np\n",
    "import seaborn as sns\n",
    "import matplotlib.pyplot as plt\n",
    "\n",
    "from sklearn.preprocessing import StandardScaler\n",
    "from sklearn.metrics import roc_auc_score, make_scorer, auc, precision_recall_curve\n",
    "from sklearn.model_selection import train_test_split, GridSearchCV\n",
    "\n",
    "from sklearn.svm import LinearSVC\n",
    "from sklearn.linear_model import LogisticRegression\n",
    "\n",
    "from sklearn.calibration import CalibratedClassifierCV, calibration_curve\n",
    "from scipy.special import expit\n",
    "from sklearn.pipeline import Pipeline\n"
   ]
  },
  {
   "cell_type": "code",
   "execution_count": 7,
   "metadata": {},
   "outputs": [],
   "source": [
    "sns.set_style('whitegrid')\n",
    "plt.rcParams.update({'font.size': 14})"
   ]
  },
  {
   "cell_type": "markdown",
   "metadata": {},
   "source": [
    "__Задание 1.__ Обучение и применение метода опорных векторов и логистической регрессии.\n",
    "\n",
    "__(1 балл)__\n",
    "\n",
    "Обучите метод опорных векторов. На занятиях мы проходили линейный вариант без ядрового перехода, что соответствует линейному ядру (`LinearSVC` или же `SVC(kernel='linear')` в `sklearn.svm`). Подберите параметр регуляризации `C` (можете воспользоваться кросс-валидацией или отделить валидационную выборку от обучающей). __Здесь и далее, если не сказано иначе, подбирайте оптимальные гиперпараметры с точки зрения AUC-PR.__"
   ]
  },
  {
   "cell_type": "code",
   "execution_count": 8,
   "metadata": {},
   "outputs": [],
   "source": [
    "scaler = StandardScaler().fit(X_train)\n",
    "X_train = scaler.transform(X_train)\n",
    "X_test = scaler.transform(X_test)"
   ]
  },
  {
   "cell_type": "code",
   "execution_count": 9,
   "metadata": {},
   "outputs": [],
   "source": [
    "def pr_auc_score(y_true, y_score):\n",
    "    \"\"\"\n",
    "    Generates the Area Under the Curve for precision and recall.\n",
    "    \"\"\"\n",
    "    precision, recall, thresholds = \\\n",
    "        precision_recall_curve(y_true, y_score)\n",
    "    return auc(recall, precision)\n",
    "\n",
    "pr_auc_scorer = make_scorer(pr_auc_score, greater_is_better=True,\n",
    "                            needs_proba=False)"
   ]
  },
  {
   "cell_type": "code",
   "execution_count": 24,
   "metadata": {},
   "outputs": [],
   "source": [
    "grid = GridSearchCV(LinearSVC(max_iter=1000000, tol=1e-2), param_grid={'C': np.logspace(-3, 1, 10)}, cv = 5,\n",
    "                    scoring=pr_auc_scorer)\n"
   ]
  },
  {
   "cell_type": "code",
   "execution_count": 25,
   "metadata": {},
   "outputs": [
    {
     "data": {
      "text/plain": [
       "GridSearchCV(cv=5, error_score='raise-deprecating',\n",
       "             estimator=LinearSVC(C=1.0, class_weight=None, dual=True,\n",
       "                                 fit_intercept=True, intercept_scaling=1,\n",
       "                                 loss='squared_hinge', max_iter=1000000,\n",
       "                                 multi_class='ovr', penalty='l2',\n",
       "                                 random_state=None, tol=0.01, verbose=0),\n",
       "             iid='warn', n_jobs=None,\n",
       "             param_grid={'C': array([1.00000000e-03, 2.78255940e-03, 7.74263683e-03, 2.15443469e-02,\n",
       "       5.99484250e-02, 1.66810054e-01, 4.64158883e-01, 1.29154967e+00,\n",
       "       3.59381366e+00, 1.00000000e+01])},\n",
       "             pre_dispatch='2*n_jobs', refit=True, return_train_score=False,\n",
       "             scoring=make_scorer(pr_auc_score), verbose=0)"
      ]
     },
     "execution_count": 25,
     "metadata": {},
     "output_type": "execute_result"
    }
   ],
   "source": [
    "grid"
   ]
  },
  {
   "cell_type": "code",
   "execution_count": 26,
   "metadata": {
    "scrolled": true
   },
   "outputs": [
    {
     "name": "stdout",
     "output_type": "stream",
     "text": [
      "Best C = 0.0010\n"
     ]
    }
   ],
   "source": [
    "grid.fit(X_train, y_train)\n",
    "best_C = grid.best_params_['C']\n",
    "print(\"Best C = %.4f\" % best_C)"
   ]
  },
  {
   "cell_type": "markdown",
   "metadata": {},
   "source": [
    "На тестовой части постройте ROC и PR кривые, а также посчитайте AUC-ROC, AUC-PR с точностью до 5 знаков. Сравните AUC-ROC и AUC-PR для вашей модели с этими же метриками для случайного классификатора (который на каждом объекте выдаёт один из двух классов с равными вероятностями)."
   ]
  },
  {
   "cell_type": "code",
   "execution_count": 27,
   "metadata": {},
   "outputs": [
    {
     "name": "stdout",
     "output_type": "stream",
     "text": [
      "SVC AUC-PR: 0.83058\n",
      "SVC ROC-AUC: 0.84718\n"
     ]
    }
   ],
   "source": [
    "svc = LinearSVC(max_iter=100000, C=best_C).fit(X_train, y_train)\n",
    "svc_pred = svc.decision_function(X_test)\n",
    "print('SVC AUC-PR: %.5f' % pr_auc_score(y_test, svc_pred))\n",
    "print('SVC ROC-AUC: %.5f' %roc_auc_score(y_test, svc_pred))"
   ]
  },
  {
   "cell_type": "code",
   "execution_count": 28,
   "metadata": {},
   "outputs": [
    {
     "data": {
      "image/png": "[encoded data removed]",
      "text/plain": [
       "<Figure size 432x288 with 1 Axes>"
      ]
     },
     "metadata": {},
     "output_type": "display_data"
    }
   ],
   "source": [
    "import sklearn.metrics as metrics\n",
    "import matplotlib.pyplot as plt\n",
    "\n",
    "fpr, tpr, threshold = metrics.roc_curve(y_test, svc_pred)\n",
    "roc_auc = metrics.auc(fpr, tpr)\n",
    "\n",
    "\n",
    "plt.title('ROC')\n",
    "plt.plot(fpr, tpr, 'b', label = 'AUC = %0.4f' % roc_auc)\n",
    "plt.legend(loc = 'lower right')\n",
    "plt.plot([0, 1], [0, 1],'g--')\n",
    "plt.xlim([0, 1])\n",
    "plt.ylim([0, 1])\n",
    "plt.ylabel('True Positive Rate')\n",
    "plt.xlabel('False Positive Rate')\n",
    "plt.show()\n"
   ]
  },
  {
   "cell_type": "code",
   "execution_count": 29,
   "metadata": {},
   "outputs": [
    {
     "data": {
      "image/png": "[encoded data removed]",
      "text/plain": [
       "<Figure size 432x288 with 1 Axes>"
      ]
     },
     "metadata": {},
     "output_type": "display_data"
    }
   ],
   "source": [
    "import sklearn.metrics as metrics\n",
    "import matplotlib.pyplot as plt\n",
    "\n",
    "precision, recall, thresholds = precision_recall_curve(y_test, svc_pred)\n",
    "auc_pr = metrics.auc(recall, precision)\n",
    "\n",
    "\n",
    "plt.title('AUC-PR')\n",
    "plt.plot(recall, precision, 'b', label = 'AUC-PR = %0.4f' % auc_pr)\n",
    "plt.legend(loc = 'lower right')\n",
    "plt.plot([0, 1], [0.5, 0.5], 'g--')\n",
    "plt.xlim([0, 1])\n",
    "plt.ylim([0, 1])\n",
    "plt.ylabel('Precision')\n",
    "plt.xlabel('Recall')\n",
    "plt.show()\n"
   ]
  },
  {
   "cell_type": "markdown",
   "metadata": {},
   "source": [
    "А теперь проделайте все то же самое для логистической регрессии (LR) — обучение, подбор параметра регуляризации (используйте L2-регуляризацию), вычисление всех метрик и построение кривых. Сравните результаты LR и SVM с точки зрения всех вычисленных критериев качества, объясните различия (если они есть)."
   ]
  },
  {
   "cell_type": "code",
   "execution_count": 30,
   "metadata": {},
   "outputs": [],
   "source": [
    "grid_lr = GridSearchCV(LogisticRegression(solver='lbfgs', max_iter=100000, tol=1e-2), param_grid={'C': np.logspace(-2, 1, 20)}, cv = 5,\n",
    "                    scoring=pr_auc_scorer)\n"
   ]
  },
  {
   "cell_type": "code",
   "execution_count": 31,
   "metadata": {},
   "outputs": [
    {
     "name": "stdout",
     "output_type": "stream",
     "text": [
      "Best C_lr = 0.2637\n"
     ]
    }
   ],
   "source": [
    "grid_lr.fit(X_train, y_train)\n",
    "best_C_lr = grid_lr.best_params_['C']\n",
    "print(\"Best C_lr = %.4f\" % best_C_lr)"
   ]
  },
  {
   "cell_type": "code",
   "execution_count": 32,
   "metadata": {},
   "outputs": [
    {
     "name": "stdout",
     "output_type": "stream",
     "text": [
      "Logistic regression AUC-PR: 0.82914\n",
      "Logistic regression ROC-AUC: 0.84785\n"
     ]
    }
   ],
   "source": [
    "lr = LogisticRegression(max_iter=100000, C=best_C_lr, solver='lbfgs').fit(X_train, y_train)\n",
    "lr_pred = lr.decision_function(X_test)\n",
    "print('Logistic regression AUC-PR: %.5f' % pr_auc_score(y_test, lr_pred))\n",
    "print('Logistic regression ROC-AUC: %.5f' %roc_auc_score(y_test, lr_pred))"
   ]
  },
  {
   "cell_type": "code",
   "execution_count": 33,
   "metadata": {},
   "outputs": [
    {
     "data": {
      "image/png": "[encoded data removed]",
      "text/plain": [
       "<Figure size 432x288 with 1 Axes>"
      ]
     },
     "metadata": {},
     "output_type": "display_data"
    }
   ],
   "source": [
    "fpr, tpr, threshold = metrics.roc_curve(y_test, lr_pred)\n",
    "roc_auc = metrics.auc(fpr, tpr)\n",
    "\n",
    "\n",
    "plt.title('ROC')\n",
    "plt.plot(fpr, tpr, 'b', label = 'AUC = %0.4f' % roc_auc)\n",
    "plt.legend(loc = 'lower right')\n",
    "plt.plot([0, 1], [0, 1],'g--')\n",
    "plt.xlim([0, 1])\n",
    "plt.ylim([0, 1])\n",
    "plt.ylabel('True Positive Rate')\n",
    "plt.xlabel('False Positive Rate')\n",
    "plt.show()"
   ]
  },
  {
   "cell_type": "code",
   "execution_count": 34,
   "metadata": {},
   "outputs": [
    {
     "data": {
      "image/png": "[encoded data removed]",
      "text/plain": [
       "<Figure size 432x288 with 1 Axes>"
      ]
     },
     "metadata": {},
     "output_type": "display_data"
    }
   ],
   "source": [
    "precision, recall, thresholds = precision_recall_curve(y_test, lr_pred)\n",
    "auc_pr = metrics.auc(recall, precision)\n",
    "\n",
    "\n",
    "plt.title('AUC-PR')\n",
    "plt.plot(recall, precision, 'b', label = 'AUC-PR = %0.4f' % auc_pr)\n",
    "plt.legend(loc = 'lower right')\n",
    "plt.plot([0, 1], [0.5, 0.5], 'g--')\n",
    "plt.xlim([0, 1])\n",
    "plt.ylim([0, 1])\n",
    "plt.ylabel('Precision')\n",
    "plt.xlabel('Recall')\n",
    "plt.show()"
   ]
  },
  {
   "cell_type": "markdown",
   "metadata": {},
   "source": [
    "В названии метода опорных векторов присутствуют некоторые \"опорные векторы\". Сгенерируйте синтетические данные с помощью `make_classification` с 2 признаками, обучите на нём метод опорных векторов. Визуализируйте разделяющую прямую, все объекты и выделите опорные векторы (атрибут `support_vectors_`). В этот раз, если необходимо, вместо `LinearSVC` воспользуйтесь `SVC(kernel='linear')`, так как только в нём есть информация об опорных векторах."
   ]
  },
  {
   "cell_type": "code",
   "execution_count": 35,
   "metadata": {},
   "outputs": [],
   "source": [
    "X_, y_ = make_classification(n_samples=50, n_features=2, random_state=0, n_redundant = 0)"
   ]
  },
  {
   "cell_type": "code",
   "execution_count": 36,
   "metadata": {},
   "outputs": [
    {
     "data": {
      "text/plain": [
       "SVC(C=1.0, cache_size=200, class_weight=None, coef0=0.0,\n",
       "    decision_function_shape='ovr', degree=3, gamma='auto_deprecated',\n",
       "    kernel='linear', max_iter=-1, probability=False, random_state=None,\n",
       "    shrinking=True, tol=0.001, verbose=False)"
      ]
     },
     "execution_count": 36,
     "metadata": {},
     "output_type": "execute_result"
    }
   ],
   "source": [
    "model = SVC(kernel='linear')\n",
    "model.fit(X_, y_)"
   ]
  },
  {
   "cell_type": "code",
   "execution_count": 37,
   "metadata": {},
   "outputs": [
    {
     "data": {
      "image/png": "[encoded data removed]",
      "text/plain": [
       "<Figure size 432x288 with 1 Axes>"
      ]
     },
     "metadata": {},
     "output_type": "display_data"
    }
   ],
   "source": [
    "ax = plt.gca()\n",
    "plt.scatter(X_[:,0], X_[:,1], c = y_, cmap='autumn')\n",
    "\n",
    "\n",
    "xlim = ax.get_xlim()\n",
    "ylim = ax.get_ylim()\n",
    "\n",
    "xx = np.linspace(xlim[0], xlim[1], 30)\n",
    "yy = np.linspace(ylim[0], ylim[1], 30)\n",
    "YY, XX = np.meshgrid(yy, xx)\n",
    "xy = np.vstack([XX.ravel(), YY.ravel()]).T\n",
    "Z = model.decision_function(xy).reshape(XX.shape)\n",
    "\n",
    "ax.contour(XX, YY, Z, colors='k', levels=[-1, 0, 1], alpha=0.5,\n",
    "           linestyles=['--', '-', '--'])\n",
    "\n",
    "ax.scatter(model.support_vectors_[:, 0], model.support_vectors_[:, 1], s=100,\n",
    "           linewidth=1, facecolors='none', edgecolors='k')\n",
    "plt.show()"
   ]
  },
  {
   "cell_type": "markdown",
   "metadata": {},
   "source": [
    "В отличие от метода опорных векторов, логистическая регрессия не пытается построить разделяющую гиперплоскость с максимальным отступом, а приближает в каждой точке пространства объектов вероятность положительных ответов $p(y=+1|x)$. Попробуйте нарисовать это распределение на плоскости, не забудьте отметить на ней все объекты. Вам может помочь функция `plt.pcolor`."
   ]
  },
  {
   "cell_type": "code",
   "execution_count": 38,
   "metadata": {},
   "outputs": [
    {
     "data": {
      "text/plain": [
       "array([ 3.68355617, -5.03715175,  1.30049217, -1.87590774,  2.56751438,\n",
       "       -0.83174997,  2.42632811,  2.19111588,  3.65861444,  2.53451242,\n",
       "        1.95954356, -2.31197854, -2.96353084, -1.93254605, -3.57135218,\n",
       "       -5.28090655,  4.30014279,  1.81151946,  3.39746485, -2.89362042,\n",
       "       -4.89534807,  4.45570149, -2.46863349, -3.35948775,  3.18689991,\n",
       "        3.56976155,  0.18423819, -1.87863618, -3.72469356,  3.07759579,\n",
       "        2.07171058, -2.87148258,  0.6353827 , -3.163611  , -2.73535036,\n",
       "        2.85563066, -2.35724684,  3.27074204, -1.6848496 ,  1.27591424,\n",
       "        2.31833125,  3.72916599, -2.69786962,  2.65253106, -0.04764633,\n",
       "       -3.763701  , -4.6231374 , -0.82940654,  4.2694009 , -2.40288307])"
      ]
     },
     "execution_count": 38,
     "metadata": {},
     "output_type": "execute_result"
    }
   ],
   "source": [
    "lr2 = LogisticRegression(solver = 'lbfgs', max_iter=100000).fit(X_, y_)\n",
    "lr2_pred = lr2.decision_function(X_)\n",
    "lr2_pred"
   ]
  },
  {
   "cell_type": "markdown",
   "metadata": {},
   "source": [
    "***Какая_то хрень! Надо сделать по-нормальному!!!!!***"
   ]
  },
  {
   "cell_type": "code",
   "execution_count": 136,
   "metadata": {},
   "outputs": [
    {
     "data": {
      "image/png": "[encoded data removed]",
      "text/plain": [
       "<Figure size 576x432 with 2 Axes>"
      ]
     },
     "metadata": {},
     "output_type": "display_data"
    }
   ],
   "source": [
    "f, ax = plt.subplots(figsize=(8, 6))\n",
    "\n",
    "logreg = LogisticRegression(C=1e5,solver='lbfgs')\n",
    "logreg.fit(X_, y_)\n",
    "\n",
    "# Plot the decision boundary. For that, we will assign a color to each\n",
    "# point in the mesh [x_min, x_max]x[y_min, y_max].\n",
    "x_min, x_max = X_[:, 0].min() - 0.5, X_[:, 0].max() + 0.5\n",
    "y_min, y_max = X_[:, 1].min() - 0.5, X_[:, 1].max() + 0.5\n",
    "h = 0.02  # step size in the mesh\n",
    "xx, yy = np.meshgrid(np.arange(x_min, x_max, h), np.arange(y_min, y_max, h))\n",
    "#Z = logreg.predict(np.c_[xx.ravel(), yy.ravel()])\n",
    "Z = logreg.decision_function(np.c_[xx.ravel(), yy.ravel()])\n",
    "\n",
    "# Put the result into a color plot\n",
    "Z = Z.reshape(xx.shape)\n",
    "#plt.figure(1, figsize=(12, 9))\n",
    "#plt.pcolormesh(xx, yy, Z, cmap=plt.cm.Paired)\n",
    "graph = ax.pcolor(xx, yy, Z, alpha = 0.4)\n",
    "ax.set(xlim=(xx.min(), xx.max()), ylim=(yy.min(), yy.max()),\n",
    "       xlabel=\"$X_1$\", ylabel=\"$X_2$\", title = 'Logistic Regression')\n",
    "ax_c = f.colorbar(graph)\n",
    "ax_c.set_label(\"P(y = 1)\")\n",
    "\n",
    "ax_c.ax.tick_params(length = 1)\n",
    "#ax_c.ax.yaxis.set_ticks([1, 2, 3], minor=True)\n",
    "ax.scatter(X_[:, 0], X_[:, 1], c=y_, edgecolors=\"k\", cmap=plt.cm.Paired, vmin=-.2, vmax=1.2, edgecolor=\"pink\", linewidth=1)\n",
    "plt.show()"
   ]
  },
  {
   "cell_type": "markdown",
   "metadata": {},
   "source": [
    "__Задание 2.__ Калибровка вероятностей.\n",
    "\n",
    "__(1 балл)__\n",
    "\n",
    "Перейдём к оценке качества выдаваемых алгоритмами вероятностей. Начнём с калибровочных кривых. \n",
    "\n",
    "Допустим, алгоритм возвращает некоторые числа от нуля до единицы. Хорошо ли они оценивают вероятность? Для этого разобьем отрезок $[0, 1]$ на несколько маленьких отрезков одинаковой длины. Рассмотрим $i$-й отрезок с границами $[a_i, b_i]$ и предсказания $p_1, p_2, \\dots, p_k$, которые попали в него. Пусть им соответствуют истинные ответы $y_1, y_2, \\dots, y_k$. Если алгоритм выдает корректные вероятности, то среди этих истинных ответов должно быть примерно $(a_i + b_i) / 2$ единиц. Иными словами, если нарисовать кривую, у которой по оси X отложены центры отрезков, а по оси Y — доли единичных ответов этих в отрезках, то она должна оказаться диагональной. Ниже приведена функция, которая должна рисовать такие кривые. В ней допущено две ошибки — найдите и исправьте их."
   ]
  },
  {
   "cell_type": "code",
   "execution_count": 40,
   "metadata": {},
   "outputs": [],
   "source": [
    "def plot_calibration_curve(y_test, preds):\n",
    "    bin_middle_points = []\n",
    "    bin_real_ratios = []\n",
    "    n_bins = 10\n",
    "    for i in range(n_bins):\n",
    "        l = 1.0 / n_bins * i\n",
    "        r = 1.0 / n_bins * (i + 1)\n",
    "        bin_middle_points.append((l - r) / 2) \n",
    "        bin_real_ratios.append(np.min(y_test[(preds >= l) & (preds < r)] == 1)) \n",
    "    plt.figure(figsize=(6,6))\n",
    "    plt.plot(bin_middle_points, bin_real_ratios)\n",
    "    plt.ylim([-0.05, 1.05])\n",
    "    plt.grid()"
   ]
  },
  {
   "cell_type": "code",
   "execution_count": 41,
   "metadata": {},
   "outputs": [],
   "source": [
    "def plot_calibration_curve(y_test, preds):\n",
    "    bin_middle_points = []\n",
    "    bin_real_ratios = []\n",
    "    n_bins = 10\n",
    "    for i in range(n_bins):\n",
    "        l = 1.0 / n_bins * i\n",
    "        r = 1.0 / n_bins * (i + 1)\n",
    "        bin_middle_points.append((l + r) / 2)\n",
    "        bin_real_ratios.append(np.sum(y_test[(preds >= l) & (preds < r)] == 1)/(y_test[(preds >= l) & (preds < r)].size)) \n",
    "    plt.figure(figsize=(6,6))\n",
    "    plt.plot(bin_middle_points, bin_real_ratios)\n",
    "    plt.ylim([-0.05, 1.05])\n",
    "    plt.grid()"
   ]
  },
  {
   "cell_type": "markdown",
   "metadata": {},
   "source": [
    "Сгенерируйте синтетические данные аналогично использованным в самом первом задании. Постройте калибровочные кривые на тестовой части для логистической регрессии и метода опорных векторов (не забудьте перевести его предсказания в $[0;1]$). Изучите распределение ответов классификаторов (постройте гистограммы с помощью `plt.hist`). Чем они различаются? Чем вы можете объяснить это?"
   ]
  },
  {
   "cell_type": "code",
   "execution_count": 42,
   "metadata": {},
   "outputs": [],
   "source": [
    "X, y = make_classification(\n",
    "    n_samples=10000, n_features=10, n_informative=5, n_redundant=5,\n",
    "    random_state=42)\n",
    "\n",
    "X_train, X_test, y_train, y_test = train_test_split(\n",
    "    X, y, test_size=0.3, random_state=42)"
   ]
  },
  {
   "cell_type": "code",
   "execution_count": 43,
   "metadata": {},
   "outputs": [
    {
     "data": {
      "text/plain": [
       "array([[-0.42254394, -0.55830354,  1.29161232, ..., -3.42421283,\n",
       "         0.6405143 ,  0.83272736],\n",
       "       [-2.05830274, -5.22087431,  1.30545504, ...,  2.98498342,\n",
       "         4.83276657, -0.72073202],\n",
       "       [ 0.5072411 , -2.42547815,  1.67703688, ...,  1.75838788,\n",
       "         2.97596395, -0.63890401],\n",
       "       ...,\n",
       "       [-0.10222285, -4.353089  ,  3.11928353, ...,  2.46030904,\n",
       "         4.81010498, -1.05638972],\n",
       "       [ 0.29191017,  0.62736831,  0.49553516, ..., -2.18872512,\n",
       "        -1.55223637,  0.1434533 ],\n",
       "       [ 1.62812226,  3.00256674, -1.45886668, ...,  0.15108645,\n",
       "        -2.59795758,  0.05484047]])"
      ]
     },
     "execution_count": 43,
     "metadata": {},
     "output_type": "execute_result"
    }
   ],
   "source": [
    "X_test"
   ]
  },
  {
   "cell_type": "code",
   "execution_count": 44,
   "metadata": {},
   "outputs": [],
   "source": [
    "\n",
    "pipeline = Pipeline(steps=[\n",
    "    ('scaling', StandardScaler()),\n",
    "    ('classifier', LogisticRegression(solver='liblinear'))\n",
    "])\n",
    "model_hey = pipeline.fit(X_train, y_train)\n",
    "lr_pred = model_hey.decision_function(X_test)\n",
    "lr_pred_proba = model_hey.predict_proba(X_test)[:, 1]\n"
   ]
  },
  {
   "cell_type": "code",
   "execution_count": 45,
   "metadata": {},
   "outputs": [
    {
     "data": {
      "image/png": "[encoded data removed]",
      "text/plain": [
       "<Figure size 432x432 with 1 Axes>"
      ]
     },
     "metadata": {},
     "output_type": "display_data"
    }
   ],
   "source": [
    "plot_calibration_curve(y_test, lr_pred_proba)"
   ]
  },
  {
   "cell_type": "code",
   "execution_count": 46,
   "metadata": {},
   "outputs": [
    {
     "data": {
      "text/plain": [
       "array([ 0.88876989, -4.37373603, -1.52179873, ..., -2.75339124,\n",
       "        1.85542931,  2.56327129])"
      ]
     },
     "execution_count": 46,
     "metadata": {},
     "output_type": "execute_result"
    }
   ],
   "source": [
    "lr_pred"
   ]
  },
  {
   "cell_type": "code",
   "execution_count": 47,
   "metadata": {},
   "outputs": [],
   "source": [
    "pipeline = Pipeline(steps=[\n",
    "    ('scaling', StandardScaler()),\n",
    "    ('classifier', LinearSVC(max_iter=100000))\n",
    "])\n",
    "model = pipeline.fit(X_train, y_train)\n",
    "svm_pred = model.decision_function(X_test)"
   ]
  },
  {
   "cell_type": "code",
   "execution_count": 48,
   "metadata": {},
   "outputs": [],
   "source": [
    "svm_pred = (svm_pred - svm_pred.min()) / (svm_pred.max() - svm_pred.min())"
   ]
  },
  {
   "cell_type": "code",
   "execution_count": 49,
   "metadata": {},
   "outputs": [
    {
     "data": {
      "image/png": "[encoded data removed]",
      "text/plain": [
       "<Figure size 432x432 with 1 Axes>"
      ]
     },
     "metadata": {},
     "output_type": "display_data"
    }
   ],
   "source": [
    "plot_calibration_curve(y_test, svm_pred)"
   ]
  },
  {
   "cell_type": "code",
   "execution_count": 50,
   "metadata": {},
   "outputs": [
    {
     "data": {
      "image/png": "[encoded data removed]",
      "text/plain": [
       "<Figure size 1008x504 with 2 Axes>"
      ]
     },
     "metadata": {},
     "output_type": "display_data"
    }
   ],
   "source": [
    "ig, axs = plt.subplots(1, 2, figsize=(14, 7))\n",
    "\n",
    "axs[0].hist(svm_pred, bins=20, color='blue', density='True')\n",
    "axs[1].hist(lr_pred, bins=20, color='orange', density='True')\n",
    "\n",
    "axs[0].set_title('SVC')\n",
    "axs[1].set_title('Logistic regression')\n",
    "\n",
    "plt.suptitle('Outputs distribution')\n",
    "plt.show()\n"
   ]
  },
  {
   "cell_type": "markdown",
   "metadata": {},
   "source": [
    "Воспользуйтесь `CalibratedClassifierCV` из `sklearn` для калибровки вероятностей метода опорных векторов на обучении и постройте с его помощью предсказания для тестовой выборки. Нарисуйте для них калибровочную кривую. Улучшилась ли она?"
   ]
  },
  {
   "cell_type": "code",
   "execution_count": 51,
   "metadata": {},
   "outputs": [
    {
     "name": "stdout",
     "output_type": "stream",
     "text": [
      "SVC ROC-AUC: 0.8473790633552487\n"
     ]
    }
   ],
   "source": [
    "sigmoid_svc = CalibratedClassifierCV(svc, cv=3).fit(X_train, y_train)\n",
    "sigmoid_svc_pred = sigmoid_svc.predict_proba(X_test)[:, 1]\n",
    "print('SVC ROC-AUC:', roc_auc_score(y_test, sigmoid_svc_pred))"
   ]
  },
  {
   "cell_type": "code",
   "execution_count": 52,
   "metadata": {},
   "outputs": [
    {
     "data": {
      "image/png": "[encoded data removed]",
      "text/plain": [
       "<Figure size 432x432 with 1 Axes>"
      ]
     },
     "metadata": {},
     "output_type": "display_data"
    }
   ],
   "source": [
    "plot_calibration_curve(y_test, sigmoid_svc_pred)"
   ]
  },
  {
   "cell_type": "code",
   "execution_count": 53,
   "metadata": {},
   "outputs": [
    {
     "data": {
      "text/plain": [
       "array([0.69088831, 0.01336613, 0.18333051, ..., 0.06278668, 0.85080266,\n",
       "       0.92549163])"
      ]
     },
     "execution_count": 53,
     "metadata": {},
     "output_type": "execute_result"
    }
   ],
   "source": [
    "sigmoid_svc_pred"
   ]
  },
  {
   "cell_type": "markdown",
   "metadata": {},
   "source": [
    "__Бонусное задание (0.5 балла).__ Реализуйте свою функцию для калибровки вероятностей. Опишите ваш подход и продемонстрируйте результаты. Ключевые слова для вдохновения: `Platt`, `Isotonic`."
   ]
  },
  {
   "cell_type": "code",
   "execution_count": 54,
   "metadata": {},
   "outputs": [],
   "source": [
    "#your code here"
   ]
  },
  {
   "cell_type": "markdown",
   "metadata": {},
   "source": [
    "# Часть 1. Работа с переменными."
   ]
  },
  {
   "cell_type": "markdown",
   "metadata": {},
   "source": [
    "В этой части мы научимся обрабатывать категориальные переменные, так как закодировать их в виде чисел недостаточно (это задаёт некоторый порядок, которого на категориальных переменных может и не быть). Существует два основных способа обработки категориальных значений:\n",
    "- One-hot-кодирование\n",
    "- Счётчики (CTR, mean-target кодирование, ...) — каждый категориальный признак заменяется на среднее значение целевой переменной по всем объектам, имеющим одинаковое значение в этом признаке.\n",
    "\n",
    "Начнём с one-hot-кодирования. Допустим наш категориальный признак $f_j(x)$ принимает значения из множества $C=\\{c_1, \\dots, c_m\\}$. Заменим его на $m$ бинарных признаков $b_1(x), \\dots, b_m(x)$, каждый из которых является индикатором одного из возможных категориальных значений:\n",
    "$$\n",
    "b_i(x) = [f_j(x) = c_i]\n",
    "$$"
   ]
  },
  {
   "cell_type": "markdown",
   "metadata": {},
   "source": [
    "__Подготовка данных.__\n",
    "\n",
    "Загрузим данные [UCI Bank Marketing Dataset](https://archive.ics.uci.edu/ml/datasets/bank+marketing). Этот датасет содержит информацию о банковском телефонном маркетинге, объектом в нем является телефонный звонок потенциальному клиенту с предложением некоторой услуги (утверждается, что это краткосрочный депозит), целевой переменной - ответ клиента (согласился ли он открыть депозит?). В качестве признакового описания используются характеристики клиента (образование, брак и т.д.), данные о звонке и различные экономические индикаторы - более подробная информация представлена в файле `bank-additional-names.txt`."
   ]
  },
  {
   "cell_type": "code",
   "execution_count": null,
   "metadata": {},
   "outputs": [
    {
     "name": "stdout",
     "output_type": "stream",
     "text": [
      "--2022-02-09 19:39:56--  https://archive.ics.uci.edu/ml/machine-learning-databases/00222/bank-additional.zip\n",
      "Распознаётся archive.ics.uci.edu (archive.ics.uci.edu)… 128.195.10.252\n",
      "Подключение к archive.ics.uci.edu (archive.ics.uci.edu)|128.195.10.252|:443... соединение установлено.\n",
      "HTTP-запрос отправлен. Ожидание ответа… 200 OK\n",
      "Длина: 444572 (434K) [application/x-httpd-php]\n",
      "Сохранение в: «bank-additional.zip.6»\n",
      "\n",
      "bank-additional.zip 100%[===================>] 434,15K   302KB/s    за 1,4s    \n",
      "\n",
      "2022-02-09 19:39:59 (302 KB/s) - «bank-additional.zip.6» сохранён [444572/444572]\n",
      "\n",
      "Archive:  bank-additional.zip\n",
      "replace bank-additional/.DS_Store? [y]es, [n]o, [A]ll, [N]one, [r]ename: "
     ]
    }
   ],
   "source": [
    "!wget https://archive.ics.uci.edu/ml/machine-learning-databases/00222/bank-additional.zip\n",
    "!unzip bank-additional.zip\n",
    "#df = pd.read_csv('bank-additional/bank-additional-full.csv', sep=';')"
   ]
  },
  {
   "cell_type": "code",
   "execution_count": 602,
   "metadata": {},
   "outputs": [
    {
     "data": {
      "text/html": [
       "<div>\n",
       "<style scoped>\n",
       "    .dataframe tbody tr th:only-of-type {\n",
       "        vertical-align: middle;\n",
       "    }\n",
       "\n",
       "    .dataframe tbody tr th {\n",
       "        vertical-align: top;\n",
       "    }\n",
       "\n",
       "    .dataframe thead th {\n",
       "        text-align: right;\n",
       "    }\n",
       "</style>\n",
       "<table border=\"1\" class=\"dataframe\">\n",
       "  <thead>\n",
       "    <tr style=\"text-align: right;\">\n",
       "      <th></th>\n",
       "      <th>age</th>\n",
       "      <th>job</th>\n",
       "      <th>marital</th>\n",
       "      <th>education</th>\n",
       "      <th>default</th>\n",
       "      <th>housing</th>\n",
       "      <th>loan</th>\n",
       "      <th>contact</th>\n",
       "      <th>month</th>\n",
       "      <th>day_of_week</th>\n",
       "      <th>duration</th>\n",
       "      <th>campaign</th>\n",
       "      <th>pdays</th>\n",
       "      <th>previous</th>\n",
       "      <th>poutcome</th>\n",
       "      <th>emp.var.rate</th>\n",
       "      <th>cons.price.idx</th>\n",
       "      <th>cons.conf.idx</th>\n",
       "      <th>euribor3m</th>\n",
       "      <th>nr.employed</th>\n",
       "      <th>y</th>\n",
       "    </tr>\n",
       "  </thead>\n",
       "  <tbody>\n",
       "    <tr>\n",
       "      <td>0</td>\n",
       "      <td>56</td>\n",
       "      <td>housemaid</td>\n",
       "      <td>married</td>\n",
       "      <td>basic.4y</td>\n",
       "      <td>no</td>\n",
       "      <td>no</td>\n",
       "      <td>no</td>\n",
       "      <td>telephone</td>\n",
       "      <td>may</td>\n",
       "      <td>mon</td>\n",
       "      <td>261</td>\n",
       "      <td>1</td>\n",
       "      <td>999</td>\n",
       "      <td>0</td>\n",
       "      <td>nonexistent</td>\n",
       "      <td>1.1</td>\n",
       "      <td>93.994</td>\n",
       "      <td>-36.4</td>\n",
       "      <td>4.857</td>\n",
       "      <td>5191.0</td>\n",
       "      <td>no</td>\n",
       "    </tr>\n",
       "    <tr>\n",
       "      <td>1</td>\n",
       "      <td>57</td>\n",
       "      <td>services</td>\n",
       "      <td>married</td>\n",
       "      <td>high.school</td>\n",
       "      <td>unknown</td>\n",
       "      <td>no</td>\n",
       "      <td>no</td>\n",
       "      <td>telephone</td>\n",
       "      <td>may</td>\n",
       "      <td>mon</td>\n",
       "      <td>149</td>\n",
       "      <td>1</td>\n",
       "      <td>999</td>\n",
       "      <td>0</td>\n",
       "      <td>nonexistent</td>\n",
       "      <td>1.1</td>\n",
       "      <td>93.994</td>\n",
       "      <td>-36.4</td>\n",
       "      <td>4.857</td>\n",
       "      <td>5191.0</td>\n",
       "      <td>no</td>\n",
       "    </tr>\n",
       "    <tr>\n",
       "      <td>2</td>\n",
       "      <td>37</td>\n",
       "      <td>services</td>\n",
       "      <td>married</td>\n",
       "      <td>high.school</td>\n",
       "      <td>no</td>\n",
       "      <td>yes</td>\n",
       "      <td>no</td>\n",
       "      <td>telephone</td>\n",
       "      <td>may</td>\n",
       "      <td>mon</td>\n",
       "      <td>226</td>\n",
       "      <td>1</td>\n",
       "      <td>999</td>\n",
       "      <td>0</td>\n",
       "      <td>nonexistent</td>\n",
       "      <td>1.1</td>\n",
       "      <td>93.994</td>\n",
       "      <td>-36.4</td>\n",
       "      <td>4.857</td>\n",
       "      <td>5191.0</td>\n",
       "      <td>no</td>\n",
       "    </tr>\n",
       "    <tr>\n",
       "      <td>3</td>\n",
       "      <td>40</td>\n",
       "      <td>admin.</td>\n",
       "      <td>married</td>\n",
       "      <td>basic.6y</td>\n",
       "      <td>no</td>\n",
       "      <td>no</td>\n",
       "      <td>no</td>\n",
       "      <td>telephone</td>\n",
       "      <td>may</td>\n",
       "      <td>mon</td>\n",
       "      <td>151</td>\n",
       "      <td>1</td>\n",
       "      <td>999</td>\n",
       "      <td>0</td>\n",
       "      <td>nonexistent</td>\n",
       "      <td>1.1</td>\n",
       "      <td>93.994</td>\n",
       "      <td>-36.4</td>\n",
       "      <td>4.857</td>\n",
       "      <td>5191.0</td>\n",
       "      <td>no</td>\n",
       "    </tr>\n",
       "    <tr>\n",
       "      <td>4</td>\n",
       "      <td>56</td>\n",
       "      <td>services</td>\n",
       "      <td>married</td>\n",
       "      <td>high.school</td>\n",
       "      <td>no</td>\n",
       "      <td>no</td>\n",
       "      <td>yes</td>\n",
       "      <td>telephone</td>\n",
       "      <td>may</td>\n",
       "      <td>mon</td>\n",
       "      <td>307</td>\n",
       "      <td>1</td>\n",
       "      <td>999</td>\n",
       "      <td>0</td>\n",
       "      <td>nonexistent</td>\n",
       "      <td>1.1</td>\n",
       "      <td>93.994</td>\n",
       "      <td>-36.4</td>\n",
       "      <td>4.857</td>\n",
       "      <td>5191.0</td>\n",
       "      <td>no</td>\n",
       "    </tr>\n",
       "  </tbody>\n",
       "</table>\n",
       "</div>"
      ],
      "text/plain": [
       "   age        job  marital    education  default housing loan    contact  \\\n",
       "0   56  housemaid  married     basic.4y       no      no   no  telephone   \n",
       "1   57   services  married  high.school  unknown      no   no  telephone   \n",
       "2   37   services  married  high.school       no     yes   no  telephone   \n",
       "3   40     admin.  married     basic.6y       no      no   no  telephone   \n",
       "4   56   services  married  high.school       no      no  yes  telephone   \n",
       "\n",
       "  month day_of_week  duration  campaign  pdays  previous     poutcome  \\\n",
       "0   may         mon       261         1    999         0  nonexistent   \n",
       "1   may         mon       149         1    999         0  nonexistent   \n",
       "2   may         mon       226         1    999         0  nonexistent   \n",
       "3   may         mon       151         1    999         0  nonexistent   \n",
       "4   may         mon       307         1    999         0  nonexistent   \n",
       "\n",
       "   emp.var.rate  cons.price.idx  cons.conf.idx  euribor3m  nr.employed   y  \n",
       "0           1.1          93.994          -36.4      4.857       5191.0  no  \n",
       "1           1.1          93.994          -36.4      4.857       5191.0  no  \n",
       "2           1.1          93.994          -36.4      4.857       5191.0  no  \n",
       "3           1.1          93.994          -36.4      4.857       5191.0  no  \n",
       "4           1.1          93.994          -36.4      4.857       5191.0  no  "
      ]
     },
     "execution_count": 602,
     "metadata": {},
     "output_type": "execute_result"
    }
   ],
   "source": [
    "df.head()\n"
   ]
  },
  {
   "cell_type": "markdown",
   "metadata": {},
   "source": [
    "__Задание 3 (0.5 балла).__ Разделите выборку на обучающую и тестовую в соотношении 3:1. Зафиксируйте `random_state=777`, также используйте `stratify`. Один из столбцов в данных не несет информации для решения задачи — какой? Отбросьте его. \n",
    "\n"
   ]
  },
  {
   "cell_type": "code",
   "execution_count": 603,
   "metadata": {},
   "outputs": [],
   "source": [
    "df = df.drop(\"duration\", axis=1)"
   ]
  },
  {
   "cell_type": "code",
   "execution_count": 755,
   "metadata": {},
   "outputs": [
    {
     "data": {
      "text/html": [
       "<div>\n",
       "<style scoped>\n",
       "    .dataframe tbody tr th:only-of-type {\n",
       "        vertical-align: middle;\n",
       "    }\n",
       "\n",
       "    .dataframe tbody tr th {\n",
       "        vertical-align: top;\n",
       "    }\n",
       "\n",
       "    .dataframe thead th {\n",
       "        text-align: right;\n",
       "    }\n",
       "</style>\n",
       "<table border=\"1\" class=\"dataframe\">\n",
       "  <thead>\n",
       "    <tr style=\"text-align: right;\">\n",
       "      <th></th>\n",
       "      <th>age</th>\n",
       "      <th>job</th>\n",
       "      <th>marital</th>\n",
       "      <th>education</th>\n",
       "      <th>default</th>\n",
       "      <th>housing</th>\n",
       "      <th>loan</th>\n",
       "      <th>contact</th>\n",
       "      <th>month</th>\n",
       "      <th>day_of_week</th>\n",
       "      <th>campaign</th>\n",
       "      <th>pdays</th>\n",
       "      <th>previous</th>\n",
       "      <th>poutcome</th>\n",
       "      <th>emp.var.rate</th>\n",
       "      <th>cons.price.idx</th>\n",
       "      <th>cons.conf.idx</th>\n",
       "      <th>euribor3m</th>\n",
       "      <th>nr.employed</th>\n",
       "      <th>y</th>\n",
       "    </tr>\n",
       "  </thead>\n",
       "  <tbody>\n",
       "    <tr>\n",
       "      <td>0</td>\n",
       "      <td>56</td>\n",
       "      <td>housemaid</td>\n",
       "      <td>married</td>\n",
       "      <td>basic.4y</td>\n",
       "      <td>no</td>\n",
       "      <td>no</td>\n",
       "      <td>no</td>\n",
       "      <td>telephone</td>\n",
       "      <td>may</td>\n",
       "      <td>mon</td>\n",
       "      <td>1</td>\n",
       "      <td>999</td>\n",
       "      <td>0</td>\n",
       "      <td>nonexistent</td>\n",
       "      <td>1.1</td>\n",
       "      <td>93.994</td>\n",
       "      <td>-36.4</td>\n",
       "      <td>4.857</td>\n",
       "      <td>5191.0</td>\n",
       "      <td>0</td>\n",
       "    </tr>\n",
       "    <tr>\n",
       "      <td>1</td>\n",
       "      <td>57</td>\n",
       "      <td>services</td>\n",
       "      <td>married</td>\n",
       "      <td>high.school</td>\n",
       "      <td>unknown</td>\n",
       "      <td>no</td>\n",
       "      <td>no</td>\n",
       "      <td>telephone</td>\n",
       "      <td>may</td>\n",
       "      <td>mon</td>\n",
       "      <td>1</td>\n",
       "      <td>999</td>\n",
       "      <td>0</td>\n",
       "      <td>nonexistent</td>\n",
       "      <td>1.1</td>\n",
       "      <td>93.994</td>\n",
       "      <td>-36.4</td>\n",
       "      <td>4.857</td>\n",
       "      <td>5191.0</td>\n",
       "      <td>0</td>\n",
       "    </tr>\n",
       "    <tr>\n",
       "      <td>2</td>\n",
       "      <td>37</td>\n",
       "      <td>services</td>\n",
       "      <td>married</td>\n",
       "      <td>high.school</td>\n",
       "      <td>no</td>\n",
       "      <td>yes</td>\n",
       "      <td>no</td>\n",
       "      <td>telephone</td>\n",
       "      <td>may</td>\n",
       "      <td>mon</td>\n",
       "      <td>1</td>\n",
       "      <td>999</td>\n",
       "      <td>0</td>\n",
       "      <td>nonexistent</td>\n",
       "      <td>1.1</td>\n",
       "      <td>93.994</td>\n",
       "      <td>-36.4</td>\n",
       "      <td>4.857</td>\n",
       "      <td>5191.0</td>\n",
       "      <td>0</td>\n",
       "    </tr>\n",
       "    <tr>\n",
       "      <td>3</td>\n",
       "      <td>40</td>\n",
       "      <td>admin.</td>\n",
       "      <td>married</td>\n",
       "      <td>basic.6y</td>\n",
       "      <td>no</td>\n",
       "      <td>no</td>\n",
       "      <td>no</td>\n",
       "      <td>telephone</td>\n",
       "      <td>may</td>\n",
       "      <td>mon</td>\n",
       "      <td>1</td>\n",
       "      <td>999</td>\n",
       "      <td>0</td>\n",
       "      <td>nonexistent</td>\n",
       "      <td>1.1</td>\n",
       "      <td>93.994</td>\n",
       "      <td>-36.4</td>\n",
       "      <td>4.857</td>\n",
       "      <td>5191.0</td>\n",
       "      <td>0</td>\n",
       "    </tr>\n",
       "    <tr>\n",
       "      <td>4</td>\n",
       "      <td>56</td>\n",
       "      <td>services</td>\n",
       "      <td>married</td>\n",
       "      <td>high.school</td>\n",
       "      <td>no</td>\n",
       "      <td>no</td>\n",
       "      <td>yes</td>\n",
       "      <td>telephone</td>\n",
       "      <td>may</td>\n",
       "      <td>mon</td>\n",
       "      <td>1</td>\n",
       "      <td>999</td>\n",
       "      <td>0</td>\n",
       "      <td>nonexistent</td>\n",
       "      <td>1.1</td>\n",
       "      <td>93.994</td>\n",
       "      <td>-36.4</td>\n",
       "      <td>4.857</td>\n",
       "      <td>5191.0</td>\n",
       "      <td>0</td>\n",
       "    </tr>\n",
       "    <tr>\n",
       "      <td>...</td>\n",
       "      <td>...</td>\n",
       "      <td>...</td>\n",
       "      <td>...</td>\n",
       "      <td>...</td>\n",
       "      <td>...</td>\n",
       "      <td>...</td>\n",
       "      <td>...</td>\n",
       "      <td>...</td>\n",
       "      <td>...</td>\n",
       "      <td>...</td>\n",
       "      <td>...</td>\n",
       "      <td>...</td>\n",
       "      <td>...</td>\n",
       "      <td>...</td>\n",
       "      <td>...</td>\n",
       "      <td>...</td>\n",
       "      <td>...</td>\n",
       "      <td>...</td>\n",
       "      <td>...</td>\n",
       "      <td>...</td>\n",
       "    </tr>\n",
       "    <tr>\n",
       "      <td>41183</td>\n",
       "      <td>73</td>\n",
       "      <td>retired</td>\n",
       "      <td>married</td>\n",
       "      <td>professional.course</td>\n",
       "      <td>no</td>\n",
       "      <td>yes</td>\n",
       "      <td>no</td>\n",
       "      <td>cellular</td>\n",
       "      <td>nov</td>\n",
       "      <td>fri</td>\n",
       "      <td>1</td>\n",
       "      <td>999</td>\n",
       "      <td>0</td>\n",
       "      <td>nonexistent</td>\n",
       "      <td>-1.1</td>\n",
       "      <td>94.767</td>\n",
       "      <td>-50.8</td>\n",
       "      <td>1.028</td>\n",
       "      <td>4963.6</td>\n",
       "      <td>1</td>\n",
       "    </tr>\n",
       "    <tr>\n",
       "      <td>41184</td>\n",
       "      <td>46</td>\n",
       "      <td>blue-collar</td>\n",
       "      <td>married</td>\n",
       "      <td>professional.course</td>\n",
       "      <td>no</td>\n",
       "      <td>no</td>\n",
       "      <td>no</td>\n",
       "      <td>cellular</td>\n",
       "      <td>nov</td>\n",
       "      <td>fri</td>\n",
       "      <td>1</td>\n",
       "      <td>999</td>\n",
       "      <td>0</td>\n",
       "      <td>nonexistent</td>\n",
       "      <td>-1.1</td>\n",
       "      <td>94.767</td>\n",
       "      <td>-50.8</td>\n",
       "      <td>1.028</td>\n",
       "      <td>4963.6</td>\n",
       "      <td>0</td>\n",
       "    </tr>\n",
       "    <tr>\n",
       "      <td>41185</td>\n",
       "      <td>56</td>\n",
       "      <td>retired</td>\n",
       "      <td>married</td>\n",
       "      <td>university.degree</td>\n",
       "      <td>no</td>\n",
       "      <td>yes</td>\n",
       "      <td>no</td>\n",
       "      <td>cellular</td>\n",
       "      <td>nov</td>\n",
       "      <td>fri</td>\n",
       "      <td>2</td>\n",
       "      <td>999</td>\n",
       "      <td>0</td>\n",
       "      <td>nonexistent</td>\n",
       "      <td>-1.1</td>\n",
       "      <td>94.767</td>\n",
       "      <td>-50.8</td>\n",
       "      <td>1.028</td>\n",
       "      <td>4963.6</td>\n",
       "      <td>0</td>\n",
       "    </tr>\n",
       "    <tr>\n",
       "      <td>41186</td>\n",
       "      <td>44</td>\n",
       "      <td>technician</td>\n",
       "      <td>married</td>\n",
       "      <td>professional.course</td>\n",
       "      <td>no</td>\n",
       "      <td>no</td>\n",
       "      <td>no</td>\n",
       "      <td>cellular</td>\n",
       "      <td>nov</td>\n",
       "      <td>fri</td>\n",
       "      <td>1</td>\n",
       "      <td>999</td>\n",
       "      <td>0</td>\n",
       "      <td>nonexistent</td>\n",
       "      <td>-1.1</td>\n",
       "      <td>94.767</td>\n",
       "      <td>-50.8</td>\n",
       "      <td>1.028</td>\n",
       "      <td>4963.6</td>\n",
       "      <td>1</td>\n",
       "    </tr>\n",
       "    <tr>\n",
       "      <td>41187</td>\n",
       "      <td>74</td>\n",
       "      <td>retired</td>\n",
       "      <td>married</td>\n",
       "      <td>professional.course</td>\n",
       "      <td>no</td>\n",
       "      <td>yes</td>\n",
       "      <td>no</td>\n",
       "      <td>cellular</td>\n",
       "      <td>nov</td>\n",
       "      <td>fri</td>\n",
       "      <td>3</td>\n",
       "      <td>999</td>\n",
       "      <td>1</td>\n",
       "      <td>failure</td>\n",
       "      <td>-1.1</td>\n",
       "      <td>94.767</td>\n",
       "      <td>-50.8</td>\n",
       "      <td>1.028</td>\n",
       "      <td>4963.6</td>\n",
       "      <td>0</td>\n",
       "    </tr>\n",
       "  </tbody>\n",
       "</table>\n",
       "<p>41188 rows × 20 columns</p>\n",
       "</div>"
      ],
      "text/plain": [
       "       age          job  marital            education  default housing loan  \\\n",
       "0       56    housemaid  married             basic.4y       no      no   no   \n",
       "1       57     services  married          high.school  unknown      no   no   \n",
       "2       37     services  married          high.school       no     yes   no   \n",
       "3       40       admin.  married             basic.6y       no      no   no   \n",
       "4       56     services  married          high.school       no      no  yes   \n",
       "...    ...          ...      ...                  ...      ...     ...  ...   \n",
       "41183   73      retired  married  professional.course       no     yes   no   \n",
       "41184   46  blue-collar  married  professional.course       no      no   no   \n",
       "41185   56      retired  married    university.degree       no     yes   no   \n",
       "41186   44   technician  married  professional.course       no      no   no   \n",
       "41187   74      retired  married  professional.course       no     yes   no   \n",
       "\n",
       "         contact month day_of_week  campaign  pdays  previous     poutcome  \\\n",
       "0      telephone   may         mon         1    999         0  nonexistent   \n",
       "1      telephone   may         mon         1    999         0  nonexistent   \n",
       "2      telephone   may         mon         1    999         0  nonexistent   \n",
       "3      telephone   may         mon         1    999         0  nonexistent   \n",
       "4      telephone   may         mon         1    999         0  nonexistent   \n",
       "...          ...   ...         ...       ...    ...       ...          ...   \n",
       "41183   cellular   nov         fri         1    999         0  nonexistent   \n",
       "41184   cellular   nov         fri         1    999         0  nonexistent   \n",
       "41185   cellular   nov         fri         2    999         0  nonexistent   \n",
       "41186   cellular   nov         fri         1    999         0  nonexistent   \n",
       "41187   cellular   nov         fri         3    999         1      failure   \n",
       "\n",
       "       emp.var.rate  cons.price.idx  cons.conf.idx  euribor3m  nr.employed  y  \n",
       "0               1.1          93.994          -36.4      4.857       5191.0  0  \n",
       "1               1.1          93.994          -36.4      4.857       5191.0  0  \n",
       "2               1.1          93.994          -36.4      4.857       5191.0  0  \n",
       "3               1.1          93.994          -36.4      4.857       5191.0  0  \n",
       "4               1.1          93.994          -36.4      4.857       5191.0  0  \n",
       "...             ...             ...            ...        ...          ... ..  \n",
       "41183          -1.1          94.767          -50.8      1.028       4963.6  1  \n",
       "41184          -1.1          94.767          -50.8      1.028       4963.6  0  \n",
       "41185          -1.1          94.767          -50.8      1.028       4963.6  0  \n",
       "41186          -1.1          94.767          -50.8      1.028       4963.6  1  \n",
       "41187          -1.1          94.767          -50.8      1.028       4963.6  0  \n",
       "\n",
       "[41188 rows x 20 columns]"
      ]
     },
     "execution_count": 755,
     "metadata": {},
     "output_type": "execute_result"
    }
   ],
   "source": [
    "df"
   ]
  },
  {
   "cell_type": "code",
   "execution_count": 756,
   "metadata": {},
   "outputs": [],
   "source": [
    "df.y=df.y.replace(({'no': 0, 'yes': 1}))\n",
    "df.contact=df.contact.replace(({'cellular': 0, 'telephone': 1}))"
   ]
  },
  {
   "cell_type": "code",
   "execution_count": 757,
   "metadata": {},
   "outputs": [],
   "source": [
    "df_X = df.drop('y', axis=1)\n",
    "df_y = df['y']"
   ]
  },
  {
   "cell_type": "code",
   "execution_count": 758,
   "metadata": {},
   "outputs": [],
   "source": [
    "from sklearn.model_selection import train_test_split\n",
    "X_train, X_test, y_train, y_test = train_test_split(df_X, df_y, test_size=0.25, random_state=777, stratify = df_y)"
   ]
  },
  {
   "cell_type": "markdown",
   "metadata": {},
   "source": [
    "Закодируйте категориальные признаки с помощью `OrdinalEncoder`. Посчитайте качество (в этом задании будем работать c `AUC-PR`) при применении логистической регрессии. Замерьте время, потребовавшееся на обучение модели (с учетом кодирования признаков).\n",
    "\n",
    "__Вопрос__: почему в данном задании мы выбрали метрикой именно `AUC-PR`, а не, к примеру, `AUC-ROC`?\n",
    "\n",
    "__Ваш ответ__:"
   ]
  },
  {
   "cell_type": "code",
   "execution_count": 759,
   "metadata": {},
   "outputs": [
    {
     "data": {
      "text/html": [
       "<div>\n",
       "<style scoped>\n",
       "    .dataframe tbody tr th:only-of-type {\n",
       "        vertical-align: middle;\n",
       "    }\n",
       "\n",
       "    .dataframe tbody tr th {\n",
       "        vertical-align: top;\n",
       "    }\n",
       "\n",
       "    .dataframe thead th {\n",
       "        text-align: right;\n",
       "    }\n",
       "</style>\n",
       "<table border=\"1\" class=\"dataframe\">\n",
       "  <thead>\n",
       "    <tr style=\"text-align: right;\">\n",
       "      <th></th>\n",
       "      <th>age</th>\n",
       "      <th>job</th>\n",
       "      <th>marital</th>\n",
       "      <th>education</th>\n",
       "      <th>default</th>\n",
       "      <th>housing</th>\n",
       "      <th>loan</th>\n",
       "      <th>contact</th>\n",
       "      <th>month</th>\n",
       "      <th>day_of_week</th>\n",
       "      <th>campaign</th>\n",
       "      <th>pdays</th>\n",
       "      <th>previous</th>\n",
       "      <th>poutcome</th>\n",
       "      <th>emp.var.rate</th>\n",
       "      <th>cons.price.idx</th>\n",
       "      <th>cons.conf.idx</th>\n",
       "      <th>euribor3m</th>\n",
       "      <th>nr.employed</th>\n",
       "      <th>y</th>\n",
       "    </tr>\n",
       "  </thead>\n",
       "  <tbody>\n",
       "    <tr>\n",
       "      <td>0</td>\n",
       "      <td>56</td>\n",
       "      <td>housemaid</td>\n",
       "      <td>married</td>\n",
       "      <td>basic.4y</td>\n",
       "      <td>no</td>\n",
       "      <td>no</td>\n",
       "      <td>no</td>\n",
       "      <td>1</td>\n",
       "      <td>may</td>\n",
       "      <td>mon</td>\n",
       "      <td>1</td>\n",
       "      <td>999</td>\n",
       "      <td>0</td>\n",
       "      <td>nonexistent</td>\n",
       "      <td>1.1</td>\n",
       "      <td>93.994</td>\n",
       "      <td>-36.4</td>\n",
       "      <td>4.857</td>\n",
       "      <td>5191.0</td>\n",
       "      <td>0</td>\n",
       "    </tr>\n",
       "    <tr>\n",
       "      <td>1</td>\n",
       "      <td>57</td>\n",
       "      <td>services</td>\n",
       "      <td>married</td>\n",
       "      <td>high.school</td>\n",
       "      <td>unknown</td>\n",
       "      <td>no</td>\n",
       "      <td>no</td>\n",
       "      <td>1</td>\n",
       "      <td>may</td>\n",
       "      <td>mon</td>\n",
       "      <td>1</td>\n",
       "      <td>999</td>\n",
       "      <td>0</td>\n",
       "      <td>nonexistent</td>\n",
       "      <td>1.1</td>\n",
       "      <td>93.994</td>\n",
       "      <td>-36.4</td>\n",
       "      <td>4.857</td>\n",
       "      <td>5191.0</td>\n",
       "      <td>0</td>\n",
       "    </tr>\n",
       "    <tr>\n",
       "      <td>2</td>\n",
       "      <td>37</td>\n",
       "      <td>services</td>\n",
       "      <td>married</td>\n",
       "      <td>high.school</td>\n",
       "      <td>no</td>\n",
       "      <td>yes</td>\n",
       "      <td>no</td>\n",
       "      <td>1</td>\n",
       "      <td>may</td>\n",
       "      <td>mon</td>\n",
       "      <td>1</td>\n",
       "      <td>999</td>\n",
       "      <td>0</td>\n",
       "      <td>nonexistent</td>\n",
       "      <td>1.1</td>\n",
       "      <td>93.994</td>\n",
       "      <td>-36.4</td>\n",
       "      <td>4.857</td>\n",
       "      <td>5191.0</td>\n",
       "      <td>0</td>\n",
       "    </tr>\n",
       "    <tr>\n",
       "      <td>3</td>\n",
       "      <td>40</td>\n",
       "      <td>admin.</td>\n",
       "      <td>married</td>\n",
       "      <td>basic.6y</td>\n",
       "      <td>no</td>\n",
       "      <td>no</td>\n",
       "      <td>no</td>\n",
       "      <td>1</td>\n",
       "      <td>may</td>\n",
       "      <td>mon</td>\n",
       "      <td>1</td>\n",
       "      <td>999</td>\n",
       "      <td>0</td>\n",
       "      <td>nonexistent</td>\n",
       "      <td>1.1</td>\n",
       "      <td>93.994</td>\n",
       "      <td>-36.4</td>\n",
       "      <td>4.857</td>\n",
       "      <td>5191.0</td>\n",
       "      <td>0</td>\n",
       "    </tr>\n",
       "    <tr>\n",
       "      <td>4</td>\n",
       "      <td>56</td>\n",
       "      <td>services</td>\n",
       "      <td>married</td>\n",
       "      <td>high.school</td>\n",
       "      <td>no</td>\n",
       "      <td>no</td>\n",
       "      <td>yes</td>\n",
       "      <td>1</td>\n",
       "      <td>may</td>\n",
       "      <td>mon</td>\n",
       "      <td>1</td>\n",
       "      <td>999</td>\n",
       "      <td>0</td>\n",
       "      <td>nonexistent</td>\n",
       "      <td>1.1</td>\n",
       "      <td>93.994</td>\n",
       "      <td>-36.4</td>\n",
       "      <td>4.857</td>\n",
       "      <td>5191.0</td>\n",
       "      <td>0</td>\n",
       "    </tr>\n",
       "    <tr>\n",
       "      <td>...</td>\n",
       "      <td>...</td>\n",
       "      <td>...</td>\n",
       "      <td>...</td>\n",
       "      <td>...</td>\n",
       "      <td>...</td>\n",
       "      <td>...</td>\n",
       "      <td>...</td>\n",
       "      <td>...</td>\n",
       "      <td>...</td>\n",
       "      <td>...</td>\n",
       "      <td>...</td>\n",
       "      <td>...</td>\n",
       "      <td>...</td>\n",
       "      <td>...</td>\n",
       "      <td>...</td>\n",
       "      <td>...</td>\n",
       "      <td>...</td>\n",
       "      <td>...</td>\n",
       "      <td>...</td>\n",
       "      <td>...</td>\n",
       "    </tr>\n",
       "    <tr>\n",
       "      <td>41183</td>\n",
       "      <td>73</td>\n",
       "      <td>retired</td>\n",
       "      <td>married</td>\n",
       "      <td>professional.course</td>\n",
       "      <td>no</td>\n",
       "      <td>yes</td>\n",
       "      <td>no</td>\n",
       "      <td>0</td>\n",
       "      <td>nov</td>\n",
       "      <td>fri</td>\n",
       "      <td>1</td>\n",
       "      <td>999</td>\n",
       "      <td>0</td>\n",
       "      <td>nonexistent</td>\n",
       "      <td>-1.1</td>\n",
       "      <td>94.767</td>\n",
       "      <td>-50.8</td>\n",
       "      <td>1.028</td>\n",
       "      <td>4963.6</td>\n",
       "      <td>1</td>\n",
       "    </tr>\n",
       "    <tr>\n",
       "      <td>41184</td>\n",
       "      <td>46</td>\n",
       "      <td>blue-collar</td>\n",
       "      <td>married</td>\n",
       "      <td>professional.course</td>\n",
       "      <td>no</td>\n",
       "      <td>no</td>\n",
       "      <td>no</td>\n",
       "      <td>0</td>\n",
       "      <td>nov</td>\n",
       "      <td>fri</td>\n",
       "      <td>1</td>\n",
       "      <td>999</td>\n",
       "      <td>0</td>\n",
       "      <td>nonexistent</td>\n",
       "      <td>-1.1</td>\n",
       "      <td>94.767</td>\n",
       "      <td>-50.8</td>\n",
       "      <td>1.028</td>\n",
       "      <td>4963.6</td>\n",
       "      <td>0</td>\n",
       "    </tr>\n",
       "    <tr>\n",
       "      <td>41185</td>\n",
       "      <td>56</td>\n",
       "      <td>retired</td>\n",
       "      <td>married</td>\n",
       "      <td>university.degree</td>\n",
       "      <td>no</td>\n",
       "      <td>yes</td>\n",
       "      <td>no</td>\n",
       "      <td>0</td>\n",
       "      <td>nov</td>\n",
       "      <td>fri</td>\n",
       "      <td>2</td>\n",
       "      <td>999</td>\n",
       "      <td>0</td>\n",
       "      <td>nonexistent</td>\n",
       "      <td>-1.1</td>\n",
       "      <td>94.767</td>\n",
       "      <td>-50.8</td>\n",
       "      <td>1.028</td>\n",
       "      <td>4963.6</td>\n",
       "      <td>0</td>\n",
       "    </tr>\n",
       "    <tr>\n",
       "      <td>41186</td>\n",
       "      <td>44</td>\n",
       "      <td>technician</td>\n",
       "      <td>married</td>\n",
       "      <td>professional.course</td>\n",
       "      <td>no</td>\n",
       "      <td>no</td>\n",
       "      <td>no</td>\n",
       "      <td>0</td>\n",
       "      <td>nov</td>\n",
       "      <td>fri</td>\n",
       "      <td>1</td>\n",
       "      <td>999</td>\n",
       "      <td>0</td>\n",
       "      <td>nonexistent</td>\n",
       "      <td>-1.1</td>\n",
       "      <td>94.767</td>\n",
       "      <td>-50.8</td>\n",
       "      <td>1.028</td>\n",
       "      <td>4963.6</td>\n",
       "      <td>1</td>\n",
       "    </tr>\n",
       "    <tr>\n",
       "      <td>41187</td>\n",
       "      <td>74</td>\n",
       "      <td>retired</td>\n",
       "      <td>married</td>\n",
       "      <td>professional.course</td>\n",
       "      <td>no</td>\n",
       "      <td>yes</td>\n",
       "      <td>no</td>\n",
       "      <td>0</td>\n",
       "      <td>nov</td>\n",
       "      <td>fri</td>\n",
       "      <td>3</td>\n",
       "      <td>999</td>\n",
       "      <td>1</td>\n",
       "      <td>failure</td>\n",
       "      <td>-1.1</td>\n",
       "      <td>94.767</td>\n",
       "      <td>-50.8</td>\n",
       "      <td>1.028</td>\n",
       "      <td>4963.6</td>\n",
       "      <td>0</td>\n",
       "    </tr>\n",
       "  </tbody>\n",
       "</table>\n",
       "<p>41188 rows × 20 columns</p>\n",
       "</div>"
      ],
      "text/plain": [
       "       age          job  marital            education  default housing loan  \\\n",
       "0       56    housemaid  married             basic.4y       no      no   no   \n",
       "1       57     services  married          high.school  unknown      no   no   \n",
       "2       37     services  married          high.school       no     yes   no   \n",
       "3       40       admin.  married             basic.6y       no      no   no   \n",
       "4       56     services  married          high.school       no      no  yes   \n",
       "...    ...          ...      ...                  ...      ...     ...  ...   \n",
       "41183   73      retired  married  professional.course       no     yes   no   \n",
       "41184   46  blue-collar  married  professional.course       no      no   no   \n",
       "41185   56      retired  married    university.degree       no     yes   no   \n",
       "41186   44   technician  married  professional.course       no      no   no   \n",
       "41187   74      retired  married  professional.course       no     yes   no   \n",
       "\n",
       "       contact month day_of_week  campaign  pdays  previous     poutcome  \\\n",
       "0            1   may         mon         1    999         0  nonexistent   \n",
       "1            1   may         mon         1    999         0  nonexistent   \n",
       "2            1   may         mon         1    999         0  nonexistent   \n",
       "3            1   may         mon         1    999         0  nonexistent   \n",
       "4            1   may         mon         1    999         0  nonexistent   \n",
       "...        ...   ...         ...       ...    ...       ...          ...   \n",
       "41183        0   nov         fri         1    999         0  nonexistent   \n",
       "41184        0   nov         fri         1    999         0  nonexistent   \n",
       "41185        0   nov         fri         2    999         0  nonexistent   \n",
       "41186        0   nov         fri         1    999         0  nonexistent   \n",
       "41187        0   nov         fri         3    999         1      failure   \n",
       "\n",
       "       emp.var.rate  cons.price.idx  cons.conf.idx  euribor3m  nr.employed  y  \n",
       "0               1.1          93.994          -36.4      4.857       5191.0  0  \n",
       "1               1.1          93.994          -36.4      4.857       5191.0  0  \n",
       "2               1.1          93.994          -36.4      4.857       5191.0  0  \n",
       "3               1.1          93.994          -36.4      4.857       5191.0  0  \n",
       "4               1.1          93.994          -36.4      4.857       5191.0  0  \n",
       "...             ...             ...            ...        ...          ... ..  \n",
       "41183          -1.1          94.767          -50.8      1.028       4963.6  1  \n",
       "41184          -1.1          94.767          -50.8      1.028       4963.6  0  \n",
       "41185          -1.1          94.767          -50.8      1.028       4963.6  0  \n",
       "41186          -1.1          94.767          -50.8      1.028       4963.6  1  \n",
       "41187          -1.1          94.767          -50.8      1.028       4963.6  0  \n",
       "\n",
       "[41188 rows x 20 columns]"
      ]
     },
     "execution_count": 759,
     "metadata": {},
     "output_type": "execute_result"
    }
   ],
   "source": [
    "df"
   ]
  },
  {
   "cell_type": "code",
   "execution_count": 772,
   "metadata": {},
   "outputs": [],
   "source": [
    "numeric = df.drop('y', axis = 1).select_dtypes(include=np.number).columns.tolist()\n",
    "numeric.remove('contact')\n",
    "categorical = df.select_dtypes(include=object).columns.tolist()"
   ]
  },
  {
   "cell_type": "code",
   "execution_count": 774,
   "metadata": {},
   "outputs": [
    {
     "name": "stdout",
     "output_type": "stream",
     "text": [
      "914 ms ± 32.5 ms per loop (mean ± std. dev. of 7 runs, 1 loop each)\n",
      "Logistic Regression PR-AUC OrdinalEncoder on train data: 0.432869486\n",
      "Logistic Regression PR-AUC OrdinalEncoder on test data: 0.433532153\n"
     ]
    }
   ],
   "source": [
    "from sklearn.preprocessing import OrdinalEncoder\n",
    "from sklearn.compose import ColumnTransformer\n",
    "from sklearn.pipeline import Pipeline\n",
    "\n",
    "column_transformer = ColumnTransformer([\n",
    "    ('encoding', OrdinalEncoder(), categorical),\n",
    "    ('scaling', StandardScaler(), numeric)\n",
    "])\n",
    "\n",
    "pipeline = Pipeline(steps=[\n",
    "    ('encoding_and_scaling', column_transformer),\n",
    "    ('regression', LogisticRegression(solver = 'lbfgs', max_iter=100000))\n",
    "])\n",
    "\n",
    "model_ordinal_encoder = pipeline.fit(X_train, y_train)\n",
    "%timeit model_ordinal_encoder = pipeline.fit(X_train, y_train)\n",
    "print('Logistic Regression PR-AUC OrdinalEncoder on train data: %.9f' %pr_auc_score(y_train, model_ordinal_encoder.decision_function(X_train)))\n",
    "print('Logistic Regression PR-AUC OrdinalEncoder on test data: %.9f' %pr_auc_score(y_test, model_ordinal_encoder.decision_function(X_test)))"
   ]
  },
  {
   "cell_type": "markdown",
   "metadata": {},
   "source": [
    "__Задание 4 (0.5 балла).__ Закодируйте все категориальные признаки с помощью one-hot-кодирования. Обучите логистическую регрессию и посмотрите, как изменилось качество модели (с тем, что было до кодирования). Измерьте время, потребовавшееся на кодирование категориальных признаков и обучение модели.\n",
    "\n"
   ]
  },
  {
   "cell_type": "code",
   "execution_count": 775,
   "metadata": {},
   "outputs": [
    {
     "name": "stdout",
     "output_type": "stream",
     "text": [
      "5.22 s ± 1.06 s per loop (mean ± std. dev. of 7 runs, 1 loop each)\n",
      "Logistic Regression PR-AUC OneHotEncoder on train data: 0.448465279\n",
      "Logistic Regression PR-AUC OneHotEncoder on test data: 0.443414477\n"
     ]
    }
   ],
   "source": [
    "from sklearn.preprocessing import OneHotEncoder\n",
    "\n",
    "column_transformer = ColumnTransformer([\n",
    "    ('encoding', OneHotEncoder(handle_unknown='ignore'), categorical),\n",
    "    ('scaling', StandardScaler(), numeric)\n",
    "])\n",
    "\n",
    "pipeline = Pipeline(steps=[\n",
    "    ('encoding_and_scaling', column_transformer),\n",
    "    ('regression', LogisticRegression(solver = 'lbfgs', max_iter=100000))\n",
    "])\n",
    "\n",
    "model_ohe = pipeline.fit(X_train, y_train)\n",
    "%timeit model_ohe = pipeline.fit(X_train, y_train)\n",
    "\n",
    "print('Logistic Regression PR-AUC OneHotEncoder on train data: %.9f' %pr_auc_score(y_train, model_ohe.decision_function(X_train)))\n",
    "print('Logistic Regression PR-AUC OneHotEncoder on test data: %.9f' %pr_auc_score(y_test, model_ohe.decision_function(X_test)))"
   ]
  },
  {
   "cell_type": "markdown",
   "metadata": {},
   "source": [
    "Качество стало хуже и выполняется в разы дольше."
   ]
  },
  {
   "cell_type": "markdown",
   "metadata": {},
   "source": [
    "Как можно было заменить, one-hot-кодирование может сильно увеличивать количество признаков, что сказывается на памяти, особенно, если некоторый признак имеет большое количество значений. Эту проблему решает другой способ кодирования категориальных признаков — mean-target encoding (для простоты будем называть это счётчиками). Основная идея в том, что нам важны не сами категории, а значения целевой переменной, которые имеют объекты этой категории. Каждый категориальный признак мы заменим средним значением целевой переменной по всем объектам этой же категории:\n",
    "$$\n",
    "g_j(x, X) = \\frac{\\sum_{i=1}^{l} [f_j(x) = f_j(x_i)][y_i = +1]}{\\sum_{i=1}^{l} [f_j(x) = f_j(x_i)]}\n",
    "$$\n",
    "\n",
    "__Задание 5 (1 балл).__ Закодируйте категориальные переменные с помощью счётчиков (ровно так, как описано выше без каких-либо хитростей). Обучите логистическую регрессию и посмотрите на качество модели на тестовом множестве. Сравните время обучения с предыдущими экспериментами (с учетом кодирования признаков). Заметили ли вы что-то интересное?\n",
    "\n",
    "\n",
    "__Бонус (1 балл)__: Здесь и далее реализуйте вычисление счетчиков с помощью трансформера (наследуйтесь от классов `BaseEstimator, TransformerMixin` из `sklearn.base`). Обратите внимание, что все вычисления должны быть векторизованными, трансформер не должен модифицировать передаваемую ему выборку inplace, а все необходимые статистики нужно считать только по обучающей выборке в методе `fit`. Ваш трансформер должен принимать при инициализации список из категориальных признаков и изменять только их. \n"
   ]
  },
  {
   "cell_type": "code",
   "execution_count": 764,
   "metadata": {
    "scrolled": true
   },
   "outputs": [],
   "source": [
    "#pip install --upgrade category_encoders"
   ]
  },
  {
   "cell_type": "code",
   "execution_count": 776,
   "metadata": {},
   "outputs": [],
   "source": [
    "from sklearn.base import BaseEstimator, TransformerMixin\n",
    "from category_encoders.ordinal import OrdinalEncoder\n",
    "import category_encoders.utils as util"
   ]
  },
  {
   "cell_type": "code",
   "execution_count": 777,
   "metadata": {},
   "outputs": [],
   "source": [
    "class MeanTargetEncoder(BaseEstimator, TransformerMixin):\n",
    "    \n",
    "\n",
    "    def __init__(self, categorical_list=None, smoothing=0):\n",
    "        self.categorical_list = categorical_list\n",
    "        self.smoothing = smoothing\n",
    "        self._dim = None\n",
    "        self.mapping = None\n",
    "        #self.handle_unknown = handle_unknown\n",
    "        self._mean = None\n",
    "        self.united_df = None\n",
    "        \n",
    "\n",
    "    def fit(self, X, y, **kwargs):\n",
    "     \n",
    "        self.united_df = pd.concat([X, y], axis = 1)\n",
    "        self.dim = X.shape[1]\n",
    "\n",
    "\n",
    "        if self.categorical_list is None:\n",
    "            self.categorical_list = X.columns.tolist()\n",
    "        self.mapping = self.fit_target_encoding(X, y)\n",
    "        \n",
    "        return self\n",
    "\n",
    "    def fit_target_encoding(self, X, y):\n",
    "        mapping = {}\n",
    "        \n",
    "        for cat in self.categorical_list:\n",
    "            prior = y.mean()\n",
    "            self._mean = y.mean()\n",
    "            n = self.united_df.groupby(cat).size()\n",
    "            val_mean = self.united_df.groupby(cat).mean().iloc[:, -1]\n",
    "            smoothed = (n * val_mean + self.smoothing * prior) / (n + self.smoothing)\n",
    "            smoothed[n == 1] = prior\n",
    "            \n",
    "            mapping[cat] = smoothed\n",
    "        return mapping\n",
    "\n",
    "    def transform(self, X, y=None, override_return_df=False):\n",
    "        X = self.target_encode(X)\n",
    "        return X\n",
    "        \n",
    "\n",
    "    def target_encode(self, X_in):\n",
    "        X = X_in.copy(deep=True)\n",
    "        ni = 0\n",
    "\n",
    "        for col in self.categorical_list:\n",
    "            X[col] = X[col].map(self.mapping[col])\n",
    "            X[col] = X[col].fillna(float(self._mean))\n",
    "        return X\n"
   ]
  },
  {
   "cell_type": "code",
   "execution_count": 778,
   "metadata": {},
   "outputs": [
    {
     "data": {
      "text/html": [
       "<div>\n",
       "<style scoped>\n",
       "    .dataframe tbody tr th:only-of-type {\n",
       "        vertical-align: middle;\n",
       "    }\n",
       "\n",
       "    .dataframe tbody tr th {\n",
       "        vertical-align: top;\n",
       "    }\n",
       "\n",
       "    .dataframe thead th {\n",
       "        text-align: right;\n",
       "    }\n",
       "</style>\n",
       "<table border=\"1\" class=\"dataframe\">\n",
       "  <thead>\n",
       "    <tr style=\"text-align: right;\">\n",
       "      <th></th>\n",
       "      <th>age</th>\n",
       "      <th>job</th>\n",
       "      <th>marital</th>\n",
       "      <th>education</th>\n",
       "      <th>default</th>\n",
       "      <th>housing</th>\n",
       "      <th>loan</th>\n",
       "      <th>contact</th>\n",
       "      <th>month</th>\n",
       "      <th>day_of_week</th>\n",
       "      <th>campaign</th>\n",
       "      <th>pdays</th>\n",
       "      <th>previous</th>\n",
       "      <th>poutcome</th>\n",
       "      <th>emp.var.rate</th>\n",
       "      <th>cons.price.idx</th>\n",
       "      <th>cons.conf.idx</th>\n",
       "      <th>euribor3m</th>\n",
       "      <th>nr.employed</th>\n",
       "    </tr>\n",
       "  </thead>\n",
       "  <tbody>\n",
       "    <tr>\n",
       "      <td>23424</td>\n",
       "      <td>0.118656</td>\n",
       "      <td>0.109551</td>\n",
       "      <td>0.101269</td>\n",
       "      <td>0.102727</td>\n",
       "      <td>0.128569</td>\n",
       "      <td>0.110367</td>\n",
       "      <td>0.113835</td>\n",
       "      <td>0</td>\n",
       "      <td>0.107735</td>\n",
       "      <td>0.116111</td>\n",
       "      <td>1.624580</td>\n",
       "      <td>0.193689</td>\n",
       "      <td>-0.348918</td>\n",
       "      <td>0.088848</td>\n",
       "      <td>0.837897</td>\n",
       "      <td>-0.230348</td>\n",
       "      <td>0.951188</td>\n",
       "      <td>0.772841</td>\n",
       "      <td>0.842328</td>\n",
       "    </tr>\n",
       "    <tr>\n",
       "      <td>39990</td>\n",
       "      <td>0.097681</td>\n",
       "      <td>0.067515</td>\n",
       "      <td>0.101269</td>\n",
       "      <td>0.102727</td>\n",
       "      <td>0.128569</td>\n",
       "      <td>0.115024</td>\n",
       "      <td>0.113835</td>\n",
       "      <td>1</td>\n",
       "      <td>0.104400</td>\n",
       "      <td>0.116210</td>\n",
       "      <td>-0.568529</td>\n",
       "      <td>0.193689</td>\n",
       "      <td>1.681298</td>\n",
       "      <td>0.142140</td>\n",
       "      <td>-1.136492</td>\n",
       "      <td>0.824624</td>\n",
       "      <td>0.150726</td>\n",
       "      <td>-1.651314</td>\n",
       "      <td>-2.423109</td>\n",
       "    </tr>\n",
       "    <tr>\n",
       "      <td>9340</td>\n",
       "      <td>0.141104</td>\n",
       "      <td>0.315133</td>\n",
       "      <td>0.139834</td>\n",
       "      <td>0.104057</td>\n",
       "      <td>0.051851</td>\n",
       "      <td>0.110367</td>\n",
       "      <td>0.113835</td>\n",
       "      <td>1</td>\n",
       "      <td>0.104400</td>\n",
       "      <td>0.110226</td>\n",
       "      <td>-0.568529</td>\n",
       "      <td>0.193689</td>\n",
       "      <td>-0.348918</td>\n",
       "      <td>0.088848</td>\n",
       "      <td>0.837897</td>\n",
       "      <td>1.532542</td>\n",
       "      <td>-0.281956</td>\n",
       "      <td>0.774572</td>\n",
       "      <td>0.842328</td>\n",
       "    </tr>\n",
       "    <tr>\n",
       "      <td>5365</td>\n",
       "      <td>0.102326</td>\n",
       "      <td>0.067515</td>\n",
       "      <td>0.101269</td>\n",
       "      <td>0.081501</td>\n",
       "      <td>0.128569</td>\n",
       "      <td>0.115024</td>\n",
       "      <td>0.113835</td>\n",
       "      <td>1</td>\n",
       "      <td>0.063396</td>\n",
       "      <td>0.110226</td>\n",
       "      <td>-0.568529</td>\n",
       "      <td>0.193689</td>\n",
       "      <td>-0.348918</td>\n",
       "      <td>0.088848</td>\n",
       "      <td>0.646827</td>\n",
       "      <td>0.719299</td>\n",
       "      <td>0.886286</td>\n",
       "      <td>0.711127</td>\n",
       "      <td>0.330075</td>\n",
       "    </tr>\n",
       "    <tr>\n",
       "      <td>2797</td>\n",
       "      <td>0.086957</td>\n",
       "      <td>0.109059</td>\n",
       "      <td>0.101269</td>\n",
       "      <td>0.081501</td>\n",
       "      <td>0.128569</td>\n",
       "      <td>0.110367</td>\n",
       "      <td>0.113835</td>\n",
       "      <td>1</td>\n",
       "      <td>0.063396</td>\n",
       "      <td>0.116111</td>\n",
       "      <td>-0.568529</td>\n",
       "      <td>0.193689</td>\n",
       "      <td>-0.348918</td>\n",
       "      <td>0.088848</td>\n",
       "      <td>0.646827</td>\n",
       "      <td>0.719299</td>\n",
       "      <td>0.886286</td>\n",
       "      <td>0.712281</td>\n",
       "      <td>0.330075</td>\n",
       "    </tr>\n",
       "    <tr>\n",
       "      <td>...</td>\n",
       "      <td>...</td>\n",
       "      <td>...</td>\n",
       "      <td>...</td>\n",
       "      <td>...</td>\n",
       "      <td>...</td>\n",
       "      <td>...</td>\n",
       "      <td>...</td>\n",
       "      <td>...</td>\n",
       "      <td>...</td>\n",
       "      <td>...</td>\n",
       "      <td>...</td>\n",
       "      <td>...</td>\n",
       "      <td>...</td>\n",
       "      <td>...</td>\n",
       "      <td>...</td>\n",
       "      <td>...</td>\n",
       "      <td>...</td>\n",
       "      <td>...</td>\n",
       "      <td>...</td>\n",
       "    </tr>\n",
       "    <tr>\n",
       "      <td>15182</td>\n",
       "      <td>0.189112</td>\n",
       "      <td>0.109059</td>\n",
       "      <td>0.139834</td>\n",
       "      <td>0.082738</td>\n",
       "      <td>0.128569</td>\n",
       "      <td>0.115024</td>\n",
       "      <td>0.113835</td>\n",
       "      <td>0</td>\n",
       "      <td>0.093472</td>\n",
       "      <td>0.122736</td>\n",
       "      <td>1.624580</td>\n",
       "      <td>0.193689</td>\n",
       "      <td>-0.348918</td>\n",
       "      <td>0.088848</td>\n",
       "      <td>0.837897</td>\n",
       "      <td>0.588075</td>\n",
       "      <td>-0.476662</td>\n",
       "      <td>0.769381</td>\n",
       "      <td>0.842328</td>\n",
       "    </tr>\n",
       "    <tr>\n",
       "      <td>12996</td>\n",
       "      <td>0.152968</td>\n",
       "      <td>0.067515</td>\n",
       "      <td>0.139834</td>\n",
       "      <td>0.102727</td>\n",
       "      <td>0.128569</td>\n",
       "      <td>0.115024</td>\n",
       "      <td>0.107575</td>\n",
       "      <td>0</td>\n",
       "      <td>0.093472</td>\n",
       "      <td>0.116210</td>\n",
       "      <td>0.162508</td>\n",
       "      <td>0.193689</td>\n",
       "      <td>-0.348918</td>\n",
       "      <td>0.088848</td>\n",
       "      <td>0.837897</td>\n",
       "      <td>0.588075</td>\n",
       "      <td>-0.476662</td>\n",
       "      <td>0.771688</td>\n",
       "      <td>0.842328</td>\n",
       "    </tr>\n",
       "    <tr>\n",
       "      <td>9453</td>\n",
       "      <td>0.081998</td>\n",
       "      <td>0.129947</td>\n",
       "      <td>0.139834</td>\n",
       "      <td>0.139504</td>\n",
       "      <td>0.051851</td>\n",
       "      <td>0.110367</td>\n",
       "      <td>0.113835</td>\n",
       "      <td>1</td>\n",
       "      <td>0.104400</td>\n",
       "      <td>0.110226</td>\n",
       "      <td>0.893544</td>\n",
       "      <td>0.193689</td>\n",
       "      <td>-0.348918</td>\n",
       "      <td>0.088848</td>\n",
       "      <td>0.837897</td>\n",
       "      <td>1.532542</td>\n",
       "      <td>-0.281956</td>\n",
       "      <td>0.774572</td>\n",
       "      <td>0.842328</td>\n",
       "    </tr>\n",
       "    <tr>\n",
       "      <td>31206</td>\n",
       "      <td>0.083236</td>\n",
       "      <td>0.081045</td>\n",
       "      <td>0.101269</td>\n",
       "      <td>0.104057</td>\n",
       "      <td>0.128569</td>\n",
       "      <td>0.110367</td>\n",
       "      <td>0.113835</td>\n",
       "      <td>0</td>\n",
       "      <td>0.063396</td>\n",
       "      <td>0.116111</td>\n",
       "      <td>-0.568529</td>\n",
       "      <td>0.193689</td>\n",
       "      <td>-0.348918</td>\n",
       "      <td>0.088848</td>\n",
       "      <td>-1.200182</td>\n",
       "      <td>-1.181721</td>\n",
       "      <td>-1.233856</td>\n",
       "      <td>-1.320826</td>\n",
       "      <td>-0.938820</td>\n",
       "    </tr>\n",
       "    <tr>\n",
       "      <td>19924</td>\n",
       "      <td>0.059072</td>\n",
       "      <td>0.067515</td>\n",
       "      <td>0.101269</td>\n",
       "      <td>0.141762</td>\n",
       "      <td>0.051851</td>\n",
       "      <td>0.115024</td>\n",
       "      <td>0.113835</td>\n",
       "      <td>0</td>\n",
       "      <td>0.107735</td>\n",
       "      <td>0.110226</td>\n",
       "      <td>0.162508</td>\n",
       "      <td>0.193689</td>\n",
       "      <td>-0.348918</td>\n",
       "      <td>0.088848</td>\n",
       "      <td>0.837897</td>\n",
       "      <td>-0.230348</td>\n",
       "      <td>0.951188</td>\n",
       "      <td>0.773995</td>\n",
       "      <td>0.842328</td>\n",
       "    </tr>\n",
       "  </tbody>\n",
       "</table>\n",
       "<p>30891 rows × 19 columns</p>\n",
       "</div>"
      ],
      "text/plain": [
       "            age       job   marital  education   default   housing      loan  \\\n",
       "23424  0.118656  0.109551  0.101269   0.102727  0.128569  0.110367  0.113835   \n",
       "39990  0.097681  0.067515  0.101269   0.102727  0.128569  0.115024  0.113835   \n",
       "9340   0.141104  0.315133  0.139834   0.104057  0.051851  0.110367  0.113835   \n",
       "5365   0.102326  0.067515  0.101269   0.081501  0.128569  0.115024  0.113835   \n",
       "2797   0.086957  0.109059  0.101269   0.081501  0.128569  0.110367  0.113835   \n",
       "...         ...       ...       ...        ...       ...       ...       ...   \n",
       "15182  0.189112  0.109059  0.139834   0.082738  0.128569  0.115024  0.113835   \n",
       "12996  0.152968  0.067515  0.139834   0.102727  0.128569  0.115024  0.107575   \n",
       "9453   0.081998  0.129947  0.139834   0.139504  0.051851  0.110367  0.113835   \n",
       "31206  0.083236  0.081045  0.101269   0.104057  0.128569  0.110367  0.113835   \n",
       "19924  0.059072  0.067515  0.101269   0.141762  0.051851  0.115024  0.113835   \n",
       "\n",
       "       contact     month  day_of_week  campaign     pdays  previous  poutcome  \\\n",
       "23424        0  0.107735     0.116111  1.624580  0.193689 -0.348918  0.088848   \n",
       "39990        1  0.104400     0.116210 -0.568529  0.193689  1.681298  0.142140   \n",
       "9340         1  0.104400     0.110226 -0.568529  0.193689 -0.348918  0.088848   \n",
       "5365         1  0.063396     0.110226 -0.568529  0.193689 -0.348918  0.088848   \n",
       "2797         1  0.063396     0.116111 -0.568529  0.193689 -0.348918  0.088848   \n",
       "...        ...       ...          ...       ...       ...       ...       ...   \n",
       "15182        0  0.093472     0.122736  1.624580  0.193689 -0.348918  0.088848   \n",
       "12996        0  0.093472     0.116210  0.162508  0.193689 -0.348918  0.088848   \n",
       "9453         1  0.104400     0.110226  0.893544  0.193689 -0.348918  0.088848   \n",
       "31206        0  0.063396     0.116111 -0.568529  0.193689 -0.348918  0.088848   \n",
       "19924        0  0.107735     0.110226  0.162508  0.193689 -0.348918  0.088848   \n",
       "\n",
       "       emp.var.rate  cons.price.idx  cons.conf.idx  euribor3m  nr.employed  \n",
       "23424      0.837897       -0.230348       0.951188   0.772841     0.842328  \n",
       "39990     -1.136492        0.824624       0.150726  -1.651314    -2.423109  \n",
       "9340       0.837897        1.532542      -0.281956   0.774572     0.842328  \n",
       "5365       0.646827        0.719299       0.886286   0.711127     0.330075  \n",
       "2797       0.646827        0.719299       0.886286   0.712281     0.330075  \n",
       "...             ...             ...            ...        ...          ...  \n",
       "15182      0.837897        0.588075      -0.476662   0.769381     0.842328  \n",
       "12996      0.837897        0.588075      -0.476662   0.771688     0.842328  \n",
       "9453       0.837897        1.532542      -0.281956   0.774572     0.842328  \n",
       "31206     -1.200182       -1.181721      -1.233856  -1.320826    -0.938820  \n",
       "19924      0.837897       -0.230348       0.951188   0.773995     0.842328  \n",
       "\n",
       "[30891 rows x 19 columns]"
      ]
     },
     "execution_count": 778,
     "metadata": {},
     "output_type": "execute_result"
    }
   ],
   "source": [
    "X_train_mt"
   ]
  },
  {
   "cell_type": "code",
   "execution_count": 779,
   "metadata": {},
   "outputs": [],
   "source": [
    "X_train_mt = X_train.copy()\n",
    "X_test_mt = X_test.copy()"
   ]
  },
  {
   "cell_type": "code",
   "execution_count": 753,
   "metadata": {},
   "outputs": [
    {
     "name": "stdout",
     "output_type": "stream",
     "text": [
      "120 ms ± 10.3 ms per loop (mean ± std. dev. of 7 runs, 10 loops each)\n",
      "Logistic Regression PR-AUC mean-target encoding on train data: 0.442753133\n",
      "Logistic Regression PR-AUC mean-target encoding on test data: 0.437105762\n"
     ]
    }
   ],
   "source": [
    "mte = MeanTargetEncoder(categorical_list= categorical, smoothing=0).fit(X_train, y_train)\n",
    "%timeit mte = MeanTargetEncoder(categorical_list= categorical, smoothing=0).fit(X_train, y_train)\n",
    "X_train_mt = mte.transform(X_train)\n",
    "X_test_mt = mte.transform(X_test)\n",
    "sc = StandardScaler().fit(X_train[numeric])\n",
    "X_train_mt[numeric] = sc.transform(X_train[numeric])\n",
    "X_test_mt[numeric] = sc.transform(X_test[numeric])\n",
    "lg = LogisticRegression(solver = 'lbfgs', max_iter=1000).fit(X_train_mt, y_train)\n",
    "print('Logistic Regression PR-AUC mean-target encoding on train data: %.9f' %pr_auc_score(y_train, lg.decision_function(X_train_mt)))\n",
    "auc_mt = pr_auc_score(y_test, lg.decision_function(X_test_mt))\n",
    "print('Logistic Regression PR-AUC mean-target encoding on test data: %.9f' %auc_mt)"
   ]
  },
  {
   "cell_type": "markdown",
   "metadata": {},
   "source": [
    "Отметим, что такие признаки сами по себе являются классификаторами и, обучаясь на них, мы допускаем \"утечку\" целевой переменной в признаки. Это ведёт к переобучению, поэтому считать такие признаки необходимо таким образом, чтобы при вычислении для конкретного объекта его целевая метка не использовалась. Это можно делать следующими способами:\n",
    "1. Вычислять значение счётчика по всем объектам расположенным выше в датасете (например, если у нас выборка отсортирована по времени).\n",
    "2. Вычислять по фолдам, то есть делить выборку на некоторое количество частей и подсчитывать значение признаков по всем фолдам кроме текущего (как делается в кросс-валидации).\n",
    "3. Внесение некоторого шума в посчитанные признаки. \n",
    "\n",
    "__Задание 6.__ Реализуйте корректное вычисление счётчиков самым простым способом — добавление шума к значениям (постарайтесь найти баланс между борьбой с переобучением и сохранением полезности признаков). Снова обучите логистическую регрессию, оцените качество. Сделайте выводы.\n",
    "\n",
    "__(0.5 балла)__"
   ]
  },
  {
   "cell_type": "code",
   "execution_count": 784,
   "metadata": {},
   "outputs": [],
   "source": [
    "X_train_mt = X_train.copy()\n",
    "X_test_mt = X_test.copy()"
   ]
  },
  {
   "cell_type": "code",
   "execution_count": 785,
   "metadata": {},
   "outputs": [
    {
     "name": "stdout",
     "output_type": "stream",
     "text": [
      "112 ms ± 15.2 ms per loop (mean ± std. dev. of 7 runs, 10 loops each)\n",
      "Logistic Regression PR-AUC mean-target encoding with noise on train data: 0.439225023\n",
      "Logistic Regression PR-AUC mean-target encoding with noise on test data: 0.441759328\n"
     ]
    }
   ],
   "source": [
    "mte = MeanTargetEncoder(categorical_list= categorical, smoothing=0).fit(X_train, y_train)\n",
    "%timeit mte = MeanTargetEncoder(categorical_list= categorical, smoothing=0).fit(X_train, y_train)\n",
    "X_train_mt = mte.transform(X_train) \n",
    "X_train_mt[categorical] += 1e-2 * np.random.randn(X_train[categorical].shape[0], X_train[categorical].shape[1])\n",
    "X_test_mt = mte.transform(X_test)\n",
    "sc = StandardScaler().fit(X_train[numeric])\n",
    "X_train_mt[numeric] = sc.transform(X_train[numeric])\n",
    "X_test_mt[numeric] = sc.transform(X_test[numeric])\n",
    " \n",
    "lg = LogisticRegression(solver = 'lbfgs', max_iter=1000).fit(X_train_mt, y_train)\n",
    "print('Logistic Regression PR-AUC mean-target encoding with noise on train data: %.9f' %pr_auc_score(y_train, lg.decision_function(X_train_mt)))\n",
    "auc_mt = pr_auc_score(y_test, lg.decision_function(X_test_mt))\n",
    "print('Logistic Regression PR-AUC mean-target encoding with noise on test data: %.9f' %auc_mt)"
   ]
  },
  {
   "cell_type": "markdown",
   "metadata": {},
   "source": [
    "Качество стало лучше на 4 тысячных."
   ]
  },
  {
   "cell_type": "markdown",
   "metadata": {},
   "source": [
    "__(Бонусная часть, 0.5 балла)__ Посчитайте корректные счётчики первым или вторым способов из описанных выше (не забудьте добавить и шум). \n",
    "\n"
   ]
  },
  {
   "cell_type": "code",
   "execution_count": 786,
   "metadata": {},
   "outputs": [],
   "source": [
    "#your code here"
   ]
  },
  {
   "cell_type": "markdown",
   "metadata": {},
   "source": [
    "А теперь ответьте на следующий вопрос: что будет, если некоторая категория встречается в выборке всего несколько раз? По этой причине производится сглаживание счётчиков. Например, на практике хорошие результаты показывает использование сглаживания средним по всей выборке:\n",
    "$$\n",
    "g_j(x, X) = \\frac{\\sum_{i=1}^{\\ell} [f_j(x) = f_j(x_i)][y_i = +1] + C \\times global\\_mean}{\\sum_{i=1}^{\\ell} [f_j(x) = f_j(x_i)] + C}\n",
    "$$\n",
    "где $global\\_mean$ — доля объектов положительного класса в выборке, $C$ — параметр, определяющий степень сглаживания (например, можно использовать 10 или подобрать для каждого признака свой). Основная идея в том, что мы \"разбавляем\" среднее значение по некоторой категории глобальным средним значением. И тем меньше, чем большее количество объектов этой категории встречается в выборке. \n",
    "\n",
    "Однако для сглаживания вместо среднего значения целевой переменной можно использовать любое другое значение от 0 до 1 (этот параметр иногда называют $prior$). Можно сделать несколько признаков с разными значениями параметра. На практике в задачах бинарной классификации полезными бывают даже отрицательные значения!\n"
   ]
  },
  {
   "cell_type": "markdown",
   "metadata": {},
   "source": [
    "__Задание 7 (1 балл).__ Добавьте сглаживание, описанное выше и повторите эксперименты."
   ]
  },
  {
   "cell_type": "code",
   "execution_count": 813,
   "metadata": {},
   "outputs": [],
   "source": [
    "categorical = ['job', 'marital', 'education','default', 'housing', 'loan','month','day_of_week','poutcome']\n",
    "numeric = ['age', 'campaign', 'pdays', 'previous', 'emp.var.rate', 'cons.price.idx', 'cons.conf.idx', 'euribor3m', 'nr.employed']"
   ]
  },
  {
   "cell_type": "code",
   "execution_count": 794,
   "metadata": {},
   "outputs": [],
   "source": [
    "X_train_mt = X_train.copy()\n",
    "X_test_mt = X_test.copy()"
   ]
  },
  {
   "cell_type": "code",
   "execution_count": 795,
   "metadata": {},
   "outputs": [
    {
     "name": "stdout",
     "output_type": "stream",
     "text": [
      "111 ms ± 6.8 ms per loop (mean ± std. dev. of 7 runs, 10 loops each)\n",
      "Logistic Regression PR-AUC mean-target encoding on train data: 0.440055181\n",
      "Logistic Regression PR-AUC mean-target encoding on test data: 0.442006778\n"
     ]
    }
   ],
   "source": [
    "mte = MeanTargetEncoder(categorical_list= categorical, smoothing=0).fit(X_train, y_train)\n",
    "%timeit mte = MeanTargetEncoder(categorical_list= categorical, smoothing=10).fit(X_train, y_train)\n",
    "X_train_mt = mte.transform(X_train)\n",
    "X_test_mt = mte.transform(X_test)\n",
    "sc = StandardScaler().fit(X_train[numeric])\n",
    "X_train_mt[numeric] = sc.transform(X_train[numeric])\n",
    "X_test_mt[numeric] = sc.transform(X_test[numeric])\n",
    "lg = LogisticRegression(solver = 'lbfgs', max_iter=1000).fit(X_train_mt, y_train)\n",
    "\n",
    "\n",
    "print('Logistic Regression PR-AUC mean-target encoding on train data: %.9f' %pr_auc_score(y_train, lg.decision_function(X_train_mt)))\n",
    "print('Logistic Regression PR-AUC mean-target encoding on test data: %.9f' %pr_auc_score(y_test, lg.decision_function(X_test_mt)))"
   ]
  },
  {
   "cell_type": "markdown",
   "metadata": {},
   "source": [
    "Качество стало лучше еще на 1 тысячную."
   ]
  },
  {
   "cell_type": "markdown",
   "metadata": {},
   "source": [
    "__Задание 8 (0.5 балла).__ В данных имеется признак \"возраст клиента\". Сейчас мы интерпретируем его как числовой, что в общем случае для линейной модели может быть неверной гипотезой. Тем не менее, у этого признака есть довольно много уникальных значений (сколько?), поэтому применять к нему one-hot кодирование может оказаться излишним. Попробуйте закодировать возраст с помощью счетчиков. Стало ли лучше?\n",
    "\n"
   ]
  },
  {
   "cell_type": "code",
   "execution_count": 814,
   "metadata": {},
   "outputs": [],
   "source": [
    "categorical.append('age')\n",
    "numeric.remove('age')"
   ]
  },
  {
   "cell_type": "code",
   "execution_count": 815,
   "metadata": {},
   "outputs": [
    {
     "data": {
      "text/plain": [
       "['job',\n",
       " 'marital',\n",
       " 'education',\n",
       " 'default',\n",
       " 'housing',\n",
       " 'loan',\n",
       " 'month',\n",
       " 'day_of_week',\n",
       " 'poutcome',\n",
       " 'age']"
      ]
     },
     "execution_count": 815,
     "metadata": {},
     "output_type": "execute_result"
    }
   ],
   "source": [
    "categorical"
   ]
  },
  {
   "cell_type": "code",
   "execution_count": 816,
   "metadata": {
    "scrolled": true
   },
   "outputs": [
    {
     "name": "stdout",
     "output_type": "stream",
     "text": [
      "104 ms ± 7.17 ms per loop (mean ± std. dev. of 7 runs, 10 loops each)\n",
      "Logistic Regression PR-AUC mean-target encoding on train data: 0.442753133\n",
      "Logistic Regression PR-AUC mean-target encoding on test data: 0.437105762\n"
     ]
    }
   ],
   "source": [
    "mte = MeanTargetEncoder(categorical_list= categorical, smoothing=0).fit(X_train, y_train)\n",
    "%timeit mte = MeanTargetEncoder(categorical_list= categorical, smoothing=10).fit(X_train, y_train)\n",
    "X_train_mt = mte.transform(X_train)\n",
    "X_test_mt = mte.transform(X_test)\n",
    "sc = StandardScaler().fit(X_train[numeric])\n",
    "X_train_mt[numeric] = sc.transform(X_train[numeric])\n",
    "X_test_mt[numeric] = sc.transform(X_test[numeric])\n",
    "lg = LogisticRegression(solver = 'lbfgs', max_iter=1000).fit(X_train_mt, y_train)\n",
    "\n",
    "\n",
    "print('Logistic Regression PR-AUC mean-target encoding on train data: %.9f' %pr_auc_score(y_train, lg.decision_function(X_train_mt)))\n",
    "print('Logistic Regression PR-AUC mean-target encoding on test data: %.9f' %pr_auc_score(y_test, lg.decision_function(X_test_mt)))"
   ]
  },
  {
   "cell_type": "markdown",
   "metadata": {},
   "source": [
    "Возраст, закодираванный счетчиками, только ухудшил качество на 5 тысячных."
   ]
  },
  {
   "cell_type": "markdown",
   "metadata": {},
   "source": [
    "Можно пойти и в обратную сторону. У нас есть признаки \"месяц и день недели\" для звонка. Попробуйте интерпретировать их как числовые (месяц от 0 до 12, дни недели от 0 до 4). Стало ли лучше в этот раз?"
   ]
  },
  {
   "cell_type": "code",
   "execution_count": 817,
   "metadata": {},
   "outputs": [],
   "source": [
    "ategorical = ['job', 'marital', 'education','default', 'housing', 'loan','poutcome']\n",
    "numeric = ['age', 'campaign', 'pdays', 'previous', 'emp.var.rate', 'month','day_of_week', 'cons.price.idx', 'cons.conf.idx', 'euribor3m', 'nr.employed']"
   ]
  },
  {
   "cell_type": "code",
   "execution_count": 818,
   "metadata": {},
   "outputs": [
    {
     "data": {
      "text/plain": [
       "may    13769\n",
       "jul     7174\n",
       "aug     6178\n",
       "jun     5318\n",
       "nov     4101\n",
       "apr     2632\n",
       "oct      718\n",
       "sep      570\n",
       "mar      546\n",
       "dec      182\n",
       "Name: month, dtype: int64"
      ]
     },
     "execution_count": 818,
     "metadata": {},
     "output_type": "execute_result"
    }
   ],
   "source": [
    "df.month.value_counts()"
   ]
  },
  {
   "cell_type": "code",
   "execution_count": 819,
   "metadata": {},
   "outputs": [
    {
     "data": {
      "text/plain": [
       "thu    8623\n",
       "mon    8514\n",
       "wed    8134\n",
       "tue    8090\n",
       "fri    7827\n",
       "Name: day_of_week, dtype: int64"
      ]
     },
     "execution_count": 819,
     "metadata": {},
     "output_type": "execute_result"
    }
   ],
   "source": [
    "df.day_of_week.value_counts()"
   ]
  },
  {
   "cell_type": "code",
   "execution_count": 820,
   "metadata": {},
   "outputs": [],
   "source": [
    "X_train_week = X_train.copy()\n",
    "X_test_week = X_test.copy()"
   ]
  },
  {
   "cell_type": "code",
   "execution_count": 821,
   "metadata": {},
   "outputs": [],
   "source": [
    "X_train_week.month=X_train_week.month.replace(({'mar': 0, 'apr': 1, 'may': 2, 'jun': 3, 'jul': 4, 'aug': 5, 'sep': 6, 'oct': 7, 'nov': 8, 'dec': 9}))\n",
    "X_test_week.month=X_test_week.month.replace(({'mar': 0, 'apr': 1, 'may': 2, 'jun': 3, 'jul': 4, 'aug': 5, 'sep': 6, 'oct': 7, 'nov': 8, 'dec': 9}))\n",
    "X_train_week.day_of_week=X_train_week.day_of_week.replace(({'mon': 0, 'tue': 1, 'wed': 2, 'thu': 3, 'fri' : 4}))\n",
    "X_test_week.day_of_week=X_test_week.day_of_week.replace(({'mon': 0, 'tue': 1, 'wed': 2, 'thu': 3, 'fri' : 4}))"
   ]
  },
  {
   "cell_type": "code",
   "execution_count": 823,
   "metadata": {},
   "outputs": [
    {
     "name": "stdout",
     "output_type": "stream",
     "text": [
      "88.4 ms ± 9.06 ms per loop (mean ± std. dev. of 7 runs, 10 loops each)\n",
      "Logistic Regression PR-AUC mean-target encoding on train data with month and day of week as a numeric feature: 0.4040\n",
      "Logistic Regression PR-AUC mean-target encoding on test data with with month and day of week as a numeric feature: 0.4070\n"
     ]
    }
   ],
   "source": [
    "mte = MeanTargetEncoder(categorical_list= categorical, smoothing=0).fit(X_train_week, y_train)\n",
    "%timeit mte = MeanTargetEncoder(categorical_list= categorical, smoothing=10).fit(X_train_week, y_train)\n",
    "X_train_mt = mte.transform(X_train_week)\n",
    "X_test_mt = mte.transform(X_test_week)\n",
    "sc = StandardScaler().fit(X_train_week[numeric])\n",
    "X_train_mt[numeric] = sc.transform(X_train_week[numeric])\n",
    "X_test_mt[numeric] = sc.transform(X_test_week[numeric])\n",
    "lg = LogisticRegression(solver = 'lbfgs', max_iter=1000).fit(X_train_week, y_train)\n",
    "\n",
    "print('Logistic Regression PR-AUC mean-target encoding on train data with month and day of week as a numeric feature: %.4f' %pr_auc_score(y_train, lg.decision_function(X_train_week)))\n",
    "print('Logistic Regression PR-AUC mean-target encoding on test data with with month and day of week as a numeric feature: %.4f' %pr_auc_score(y_test, lg.decision_function(X_test_week)))"
   ]
  },
  {
   "cell_type": "markdown",
   "metadata": {},
   "source": [
    "__Замечание.__ Усложнение методов вычисления счётчиков не делают результаты модели гарантированно лучше. Особенно с учётом того, что логистическая регрессия не такая сложная модель, чтобы переобучаться. Поэтому вы необязательно должны были получать на каждом шаге всё лучшие и лучшие результаты (но необходимые результаты у вас должны были получиться).\n",
    "\n",
    "Как вы должны были заметить, счётчики являются хорошей альтернативой one-hot-кодированию. Напишите, какие плюсы и минусы использования счётчиков по сравнению с one-hot-кодированием вы заметили.\n",
    "\n",
    "__Ответ:__ "
   ]
  },
  {
   "cell_type": "markdown",
   "metadata": {},
   "source": [
    "# Часть 2. Отбор признаков"
   ]
  },
  {
   "cell_type": "markdown",
   "metadata": {},
   "source": [
    "Важной частью процесса построения модели является отбор признаков. На практике многие признаки оказывают малое влияние на модель (при этом их расчёт занимает время) или даже негативно сказываются на качестве модели. Попробуем несколько подходов отбора признаков, оценим, как они влияют на качество модели и сколько времени занимают.\n",
    "\n",
    "Обратимся к тем же данным про банковский телефонный маркетинг."
   ]
  },
  {
   "cell_type": "code",
   "execution_count": 202,
   "metadata": {},
   "outputs": [],
   "source": [
    "df = pd.read_csv('bank-additional/bank-additional-full.csv', sep=';')\n",
    "\n",
    "X = df.drop(columns=['duration', 'y'])\n",
    "y = (df.y == 'yes')\n",
    "df.contact=df.contact.replace(({'cellular': 0, 'telephone': 1}))\n",
    "\n",
    "X_train, X_test, y_train, y_test = train_test_split(X, y, test_size=0.2, random_state=777, stratify=y)"
   ]
  },
  {
   "cell_type": "markdown",
   "metadata": {},
   "source": [
    "Как вы помните, в данных много категориальных признаков (сейчас давайте интерпретировать возраст как числовой). Давайте закодируем их с помощью one-hot кодирования. Исходные колонки с категориальными признаками можно удалить. Сколько признаков мы получили?"
   ]
  },
  {
   "cell_type": "code",
   "execution_count": 203,
   "metadata": {
    "scrolled": false
   },
   "outputs": [
    {
     "data": {
      "text/html": [
       "<div>\n",
       "<style scoped>\n",
       "    .dataframe tbody tr th:only-of-type {\n",
       "        vertical-align: middle;\n",
       "    }\n",
       "\n",
       "    .dataframe tbody tr th {\n",
       "        vertical-align: top;\n",
       "    }\n",
       "\n",
       "    .dataframe thead th {\n",
       "        text-align: right;\n",
       "    }\n",
       "</style>\n",
       "<table border=\"1\" class=\"dataframe\">\n",
       "  <thead>\n",
       "    <tr style=\"text-align: right;\">\n",
       "      <th></th>\n",
       "      <th>age</th>\n",
       "      <th>job</th>\n",
       "      <th>marital</th>\n",
       "      <th>education</th>\n",
       "      <th>default</th>\n",
       "      <th>housing</th>\n",
       "      <th>loan</th>\n",
       "      <th>contact</th>\n",
       "      <th>month</th>\n",
       "      <th>day_of_week</th>\n",
       "      <th>campaign</th>\n",
       "      <th>pdays</th>\n",
       "      <th>previous</th>\n",
       "      <th>poutcome</th>\n",
       "      <th>emp.var.rate</th>\n",
       "      <th>cons.price.idx</th>\n",
       "      <th>cons.conf.idx</th>\n",
       "      <th>euribor3m</th>\n",
       "      <th>nr.employed</th>\n",
       "    </tr>\n",
       "  </thead>\n",
       "  <tbody>\n",
       "    <tr>\n",
       "      <td>24486</td>\n",
       "      <td>38</td>\n",
       "      <td>technician</td>\n",
       "      <td>married</td>\n",
       "      <td>professional.course</td>\n",
       "      <td>no</td>\n",
       "      <td>yes</td>\n",
       "      <td>no</td>\n",
       "      <td>cellular</td>\n",
       "      <td>nov</td>\n",
       "      <td>mon</td>\n",
       "      <td>2</td>\n",
       "      <td>999</td>\n",
       "      <td>0</td>\n",
       "      <td>nonexistent</td>\n",
       "      <td>-0.1</td>\n",
       "      <td>93.200</td>\n",
       "      <td>-42.0</td>\n",
       "      <td>4.191</td>\n",
       "      <td>5195.8</td>\n",
       "    </tr>\n",
       "    <tr>\n",
       "      <td>20631</td>\n",
       "      <td>33</td>\n",
       "      <td>technician</td>\n",
       "      <td>married</td>\n",
       "      <td>high.school</td>\n",
       "      <td>no</td>\n",
       "      <td>no</td>\n",
       "      <td>no</td>\n",
       "      <td>cellular</td>\n",
       "      <td>aug</td>\n",
       "      <td>wed</td>\n",
       "      <td>1</td>\n",
       "      <td>999</td>\n",
       "      <td>0</td>\n",
       "      <td>nonexistent</td>\n",
       "      <td>1.4</td>\n",
       "      <td>93.444</td>\n",
       "      <td>-36.1</td>\n",
       "      <td>4.965</td>\n",
       "      <td>5228.1</td>\n",
       "    </tr>\n",
       "    <tr>\n",
       "      <td>33638</td>\n",
       "      <td>34</td>\n",
       "      <td>services</td>\n",
       "      <td>divorced</td>\n",
       "      <td>basic.6y</td>\n",
       "      <td>unknown</td>\n",
       "      <td>yes</td>\n",
       "      <td>no</td>\n",
       "      <td>cellular</td>\n",
       "      <td>may</td>\n",
       "      <td>wed</td>\n",
       "      <td>2</td>\n",
       "      <td>999</td>\n",
       "      <td>0</td>\n",
       "      <td>nonexistent</td>\n",
       "      <td>-1.8</td>\n",
       "      <td>92.893</td>\n",
       "      <td>-46.2</td>\n",
       "      <td>1.281</td>\n",
       "      <td>5099.1</td>\n",
       "    </tr>\n",
       "    <tr>\n",
       "      <td>18407</td>\n",
       "      <td>27</td>\n",
       "      <td>blue-collar</td>\n",
       "      <td>single</td>\n",
       "      <td>basic.4y</td>\n",
       "      <td>no</td>\n",
       "      <td>no</td>\n",
       "      <td>no</td>\n",
       "      <td>cellular</td>\n",
       "      <td>jul</td>\n",
       "      <td>thu</td>\n",
       "      <td>1</td>\n",
       "      <td>999</td>\n",
       "      <td>0</td>\n",
       "      <td>nonexistent</td>\n",
       "      <td>1.4</td>\n",
       "      <td>93.918</td>\n",
       "      <td>-42.7</td>\n",
       "      <td>4.968</td>\n",
       "      <td>5228.1</td>\n",
       "    </tr>\n",
       "    <tr>\n",
       "      <td>33138</td>\n",
       "      <td>40</td>\n",
       "      <td>services</td>\n",
       "      <td>married</td>\n",
       "      <td>basic.9y</td>\n",
       "      <td>no</td>\n",
       "      <td>yes</td>\n",
       "      <td>yes</td>\n",
       "      <td>cellular</td>\n",
       "      <td>may</td>\n",
       "      <td>tue</td>\n",
       "      <td>1</td>\n",
       "      <td>999</td>\n",
       "      <td>0</td>\n",
       "      <td>nonexistent</td>\n",
       "      <td>-1.8</td>\n",
       "      <td>92.893</td>\n",
       "      <td>-46.2</td>\n",
       "      <td>1.291</td>\n",
       "      <td>5099.1</td>\n",
       "    </tr>\n",
       "    <tr>\n",
       "      <td>...</td>\n",
       "      <td>...</td>\n",
       "      <td>...</td>\n",
       "      <td>...</td>\n",
       "      <td>...</td>\n",
       "      <td>...</td>\n",
       "      <td>...</td>\n",
       "      <td>...</td>\n",
       "      <td>...</td>\n",
       "      <td>...</td>\n",
       "      <td>...</td>\n",
       "      <td>...</td>\n",
       "      <td>...</td>\n",
       "      <td>...</td>\n",
       "      <td>...</td>\n",
       "      <td>...</td>\n",
       "      <td>...</td>\n",
       "      <td>...</td>\n",
       "      <td>...</td>\n",
       "      <td>...</td>\n",
       "    </tr>\n",
       "    <tr>\n",
       "      <td>23749</td>\n",
       "      <td>31</td>\n",
       "      <td>admin.</td>\n",
       "      <td>married</td>\n",
       "      <td>university.degree</td>\n",
       "      <td>no</td>\n",
       "      <td>no</td>\n",
       "      <td>no</td>\n",
       "      <td>cellular</td>\n",
       "      <td>aug</td>\n",
       "      <td>thu</td>\n",
       "      <td>5</td>\n",
       "      <td>999</td>\n",
       "      <td>0</td>\n",
       "      <td>nonexistent</td>\n",
       "      <td>1.4</td>\n",
       "      <td>93.444</td>\n",
       "      <td>-36.1</td>\n",
       "      <td>4.962</td>\n",
       "      <td>5228.1</td>\n",
       "    </tr>\n",
       "    <tr>\n",
       "      <td>20396</td>\n",
       "      <td>52</td>\n",
       "      <td>management</td>\n",
       "      <td>married</td>\n",
       "      <td>university.degree</td>\n",
       "      <td>unknown</td>\n",
       "      <td>no</td>\n",
       "      <td>no</td>\n",
       "      <td>cellular</td>\n",
       "      <td>aug</td>\n",
       "      <td>tue</td>\n",
       "      <td>5</td>\n",
       "      <td>999</td>\n",
       "      <td>0</td>\n",
       "      <td>nonexistent</td>\n",
       "      <td>1.4</td>\n",
       "      <td>93.444</td>\n",
       "      <td>-36.1</td>\n",
       "      <td>4.966</td>\n",
       "      <td>5228.1</td>\n",
       "    </tr>\n",
       "    <tr>\n",
       "      <td>12996</td>\n",
       "      <td>25</td>\n",
       "      <td>blue-collar</td>\n",
       "      <td>single</td>\n",
       "      <td>basic.4y</td>\n",
       "      <td>no</td>\n",
       "      <td>yes</td>\n",
       "      <td>yes</td>\n",
       "      <td>cellular</td>\n",
       "      <td>jul</td>\n",
       "      <td>tue</td>\n",
       "      <td>3</td>\n",
       "      <td>999</td>\n",
       "      <td>0</td>\n",
       "      <td>nonexistent</td>\n",
       "      <td>1.4</td>\n",
       "      <td>93.918</td>\n",
       "      <td>-42.7</td>\n",
       "      <td>4.962</td>\n",
       "      <td>5228.1</td>\n",
       "    </tr>\n",
       "    <tr>\n",
       "      <td>31206</td>\n",
       "      <td>42</td>\n",
       "      <td>services</td>\n",
       "      <td>married</td>\n",
       "      <td>high.school</td>\n",
       "      <td>no</td>\n",
       "      <td>no</td>\n",
       "      <td>no</td>\n",
       "      <td>cellular</td>\n",
       "      <td>may</td>\n",
       "      <td>wed</td>\n",
       "      <td>1</td>\n",
       "      <td>999</td>\n",
       "      <td>0</td>\n",
       "      <td>nonexistent</td>\n",
       "      <td>-1.8</td>\n",
       "      <td>92.893</td>\n",
       "      <td>-46.2</td>\n",
       "      <td>1.334</td>\n",
       "      <td>5099.1</td>\n",
       "    </tr>\n",
       "    <tr>\n",
       "      <td>19924</td>\n",
       "      <td>47</td>\n",
       "      <td>blue-collar</td>\n",
       "      <td>married</td>\n",
       "      <td>unknown</td>\n",
       "      <td>unknown</td>\n",
       "      <td>yes</td>\n",
       "      <td>no</td>\n",
       "      <td>cellular</td>\n",
       "      <td>aug</td>\n",
       "      <td>fri</td>\n",
       "      <td>3</td>\n",
       "      <td>999</td>\n",
       "      <td>0</td>\n",
       "      <td>nonexistent</td>\n",
       "      <td>1.4</td>\n",
       "      <td>93.444</td>\n",
       "      <td>-36.1</td>\n",
       "      <td>4.966</td>\n",
       "      <td>5228.1</td>\n",
       "    </tr>\n",
       "  </tbody>\n",
       "</table>\n",
       "<p>32950 rows × 19 columns</p>\n",
       "</div>"
      ],
      "text/plain": [
       "       age          job   marital            education  default housing loan  \\\n",
       "24486   38   technician   married  professional.course       no     yes   no   \n",
       "20631   33   technician   married          high.school       no      no   no   \n",
       "33638   34     services  divorced             basic.6y  unknown     yes   no   \n",
       "18407   27  blue-collar    single             basic.4y       no      no   no   \n",
       "33138   40     services   married             basic.9y       no     yes  yes   \n",
       "...    ...          ...       ...                  ...      ...     ...  ...   \n",
       "23749   31       admin.   married    university.degree       no      no   no   \n",
       "20396   52   management   married    university.degree  unknown      no   no   \n",
       "12996   25  blue-collar    single             basic.4y       no     yes  yes   \n",
       "31206   42     services   married          high.school       no      no   no   \n",
       "19924   47  blue-collar   married              unknown  unknown     yes   no   \n",
       "\n",
       "        contact month day_of_week  campaign  pdays  previous     poutcome  \\\n",
       "24486  cellular   nov         mon         2    999         0  nonexistent   \n",
       "20631  cellular   aug         wed         1    999         0  nonexistent   \n",
       "33638  cellular   may         wed         2    999         0  nonexistent   \n",
       "18407  cellular   jul         thu         1    999         0  nonexistent   \n",
       "33138  cellular   may         tue         1    999         0  nonexistent   \n",
       "...         ...   ...         ...       ...    ...       ...          ...   \n",
       "23749  cellular   aug         thu         5    999         0  nonexistent   \n",
       "20396  cellular   aug         tue         5    999         0  nonexistent   \n",
       "12996  cellular   jul         tue         3    999         0  nonexistent   \n",
       "31206  cellular   may         wed         1    999         0  nonexistent   \n",
       "19924  cellular   aug         fri         3    999         0  nonexistent   \n",
       "\n",
       "       emp.var.rate  cons.price.idx  cons.conf.idx  euribor3m  nr.employed  \n",
       "24486          -0.1          93.200          -42.0      4.191       5195.8  \n",
       "20631           1.4          93.444          -36.1      4.965       5228.1  \n",
       "33638          -1.8          92.893          -46.2      1.281       5099.1  \n",
       "18407           1.4          93.918          -42.7      4.968       5228.1  \n",
       "33138          -1.8          92.893          -46.2      1.291       5099.1  \n",
       "...             ...             ...            ...        ...          ...  \n",
       "23749           1.4          93.444          -36.1      4.962       5228.1  \n",
       "20396           1.4          93.444          -36.1      4.966       5228.1  \n",
       "12996           1.4          93.918          -42.7      4.962       5228.1  \n",
       "31206          -1.8          92.893          -46.2      1.334       5099.1  \n",
       "19924           1.4          93.444          -36.1      4.966       5228.1  \n",
       "\n",
       "[32950 rows x 19 columns]"
      ]
     },
     "execution_count": 203,
     "metadata": {},
     "output_type": "execute_result"
    }
   ],
   "source": [
    "X_train"
   ]
  },
  {
   "cell_type": "code",
   "execution_count": 204,
   "metadata": {},
   "outputs": [
    {
     "data": {
      "text/plain": [
       "age                76\n",
       "job                12\n",
       "marital             4\n",
       "education           8\n",
       "default             3\n",
       "housing             3\n",
       "loan                3\n",
       "contact             2\n",
       "month              10\n",
       "day_of_week         5\n",
       "campaign           41\n",
       "pdays              27\n",
       "previous            8\n",
       "poutcome            3\n",
       "emp.var.rate       10\n",
       "cons.price.idx     26\n",
       "cons.conf.idx      26\n",
       "euribor3m         310\n",
       "nr.employed        11\n",
       "dtype: int64"
      ]
     },
     "execution_count": 204,
     "metadata": {},
     "output_type": "execute_result"
    }
   ],
   "source": [
    "X_train.nunique()"
   ]
  },
  {
   "cell_type": "code",
   "execution_count": null,
   "metadata": {},
   "outputs": [],
   "source": [
    "categorical.remove('contact')"
   ]
  },
  {
   "cell_type": "code",
   "execution_count": 206,
   "metadata": {
    "scrolled": true
   },
   "outputs": [
    {
     "ename": "ValueError",
     "evalue": "list.remove(x): x not in list",
     "output_type": "error",
     "traceback": [
      "\u001b[0;31m---------------------------------------------------------------------------\u001b[0m",
      "\u001b[0;31mValueError\u001b[0m                                Traceback (most recent call last)",
      "\u001b[0;32m<ipython-input-206-00733835553d>\u001b[0m in \u001b[0;36m<module>\u001b[0;34m\u001b[0m\n\u001b[0;32m----> 1\u001b[0;31m \u001b[0mcategorical\u001b[0m\u001b[0;34m.\u001b[0m\u001b[0mremove\u001b[0m\u001b[0;34m(\u001b[0m\u001b[0;34m'age'\u001b[0m\u001b[0;34m)\u001b[0m\u001b[0;34m\u001b[0m\u001b[0;34m\u001b[0m\u001b[0m\n\u001b[0m\u001b[1;32m      2\u001b[0m \u001b[0mnumeric\u001b[0m\u001b[0;34m.\u001b[0m\u001b[0mappend\u001b[0m\u001b[0;34m(\u001b[0m\u001b[0;34m'age'\u001b[0m\u001b[0;34m)\u001b[0m\u001b[0;34m\u001b[0m\u001b[0;34m\u001b[0m\u001b[0m\n",
      "\u001b[0;31mValueError\u001b[0m: list.remove(x): x not in list"
     ]
    }
   ],
   "source": [
    "categorical.remove('age')\n",
    "numeric.append('age')"
   ]
  },
  {
   "cell_type": "code",
   "execution_count": null,
   "metadata": {},
   "outputs": [],
   "source": [
    "df.day_of_week"
   ]
  },
  {
   "cell_type": "code",
   "execution_count": 196,
   "metadata": {},
   "outputs": [],
   "source": [
    "df.day_of_week=df.day_of_week.replace(({'cellular': 0, 'telephone': 1}))"
   ]
  },
  {
   "cell_type": "code",
   "execution_count": 197,
   "metadata": {},
   "outputs": [],
   "source": [
    "numeric.append('age')"
   ]
  },
  {
   "cell_type": "code",
   "execution_count": 207,
   "metadata": {},
   "outputs": [
    {
     "data": {
      "text/plain": [
       "['job',\n",
       " 'marital',\n",
       " 'education',\n",
       " 'default',\n",
       " 'housing',\n",
       " 'loan',\n",
       " 'month',\n",
       " 'day_of_week',\n",
       " 'poutcome']"
      ]
     },
     "execution_count": 207,
     "metadata": {},
     "output_type": "execute_result"
    }
   ],
   "source": [
    "categorical"
   ]
  },
  {
   "cell_type": "code",
   "execution_count": 208,
   "metadata": {},
   "outputs": [
    {
     "data": {
      "text/plain": [
       "['campaign',\n",
       " 'pdays',\n",
       " 'previous',\n",
       " 'emp.var.rate',\n",
       " 'cons.price.idx',\n",
       " 'cons.conf.idx',\n",
       " 'euribor3m',\n",
       " 'nr.employed',\n",
       " 'age']"
      ]
     },
     "execution_count": 208,
     "metadata": {},
     "output_type": "execute_result"
    }
   ],
   "source": [
    "numeric"
   ]
  },
  {
   "cell_type": "code",
   "execution_count": 209,
   "metadata": {},
   "outputs": [],
   "source": [
    "column_transformer = ColumnTransformer([\n",
    "    ('encoding', OneHotEncoder(handle_unknown='ignore'), categorical),\n",
    "    ('scaling', StandardScaler(), numeric)\n",
    "])"
   ]
  },
  {
   "cell_type": "code",
   "execution_count": 210,
   "metadata": {},
   "outputs": [],
   "source": [
    "X_train_copy = X_train.copy()\n",
    "X_test_copy = X_test.copy()"
   ]
  },
  {
   "cell_type": "code",
   "execution_count": 211,
   "metadata": {
    "scrolled": true
   },
   "outputs": [],
   "source": [
    "X_train = column_transformer.fit_transform(X_train)\n",
    "X_test = column_transformer.transform(X_test)\n"
   ]
  },
  {
   "cell_type": "code",
   "execution_count": 212,
   "metadata": {},
   "outputs": [
    {
     "data": {
      "text/plain": [
       "(8238, 60)"
      ]
     },
     "execution_count": 212,
     "metadata": {},
     "output_type": "execute_result"
    }
   ],
   "source": [
    "X_test.shape"
   ]
  },
  {
   "cell_type": "markdown",
   "metadata": {},
   "source": [
    "В качестве основной модели будем использовать логистическую регрессию, а целевой метрики — `AUC-PR`. Обучите модель и посчитайте качество на тестовой выборке. Давайте запомним полученное значение."
   ]
  },
  {
   "cell_type": "code",
   "execution_count": 213,
   "metadata": {},
   "outputs": [
    {
     "name": "stdout",
     "output_type": "stream",
     "text": [
      "LogReg AUC-PR first version: 0.44005\n"
     ]
    }
   ],
   "source": [
    "log_reg = LogisticRegression(solver = 'lbfgs', max_iter = 100000).fit(X_train, y_train)\n",
    "pr_auc_part2 = pr_auc_score(y_test, log_reg.decision_function(X_test))\n",
    "print('LogReg AUC-PR first version: %.5f' % pr_auc_part2)"
   ]
  },
  {
   "cell_type": "markdown",
   "metadata": {},
   "source": [
    "### Встроенные методы"
   ]
  },
  {
   "cell_type": "markdown",
   "metadata": {},
   "source": [
    "Допустим, мы хотим оставить только 40 лучших признаков. Попробуем сделать это несколькими способами.\n",
    "\n",
    "Начнём с отборам признаков с помощью линейной модели. Как известно, веса линейной модели означают вклад каждого признака в предсказание модели, а значит, модуль этого вклада можно интерпретировать как важность признаков. Такой метод отбора называются встроенным или embedded method, так как он заложен в особенности модели.\n",
    "\n",
    "__Задание 8 (0.5 балла).__ Оставьте 40 признаков с наибольшим модулем соответствующего параметра линейной модели. Обучите модели заново и оцените её качество. Замерьте скорость такого отбора признаков.\n",
    "\n",
    "Изменилось ли качество? Как?\n",
    "\n"
   ]
  },
  {
   "cell_type": "code",
   "execution_count": 234,
   "metadata": {},
   "outputs": [],
   "source": [
    "weights = log_reg.coef_"
   ]
  },
  {
   "cell_type": "code",
   "execution_count": 235,
   "metadata": {},
   "outputs": [
    {
     "data": {
      "text/plain": [
       "(1, 60)"
      ]
     },
     "execution_count": 235,
     "metadata": {},
     "output_type": "execute_result"
    }
   ],
   "source": [
    "weights.shape"
   ]
  },
  {
   "cell_type": "code",
   "execution_count": 236,
   "metadata": {},
   "outputs": [],
   "source": [
    "sorted_weights = sorted(zip(np.absolute(weights).T, np.arange(0, len(X_train[0]))), reverse=True)"
   ]
  },
  {
   "cell_type": "code",
   "execution_count": 237,
   "metadata": {},
   "outputs": [],
   "source": [
    "X_train_40_features = X_train[:, list(np.array(sorted_weights)[:40, 1])]\n",
    "X_test_40_features = X_test[:, list(np.array(sorted_weights)[:40, 1])]"
   ]
  },
  {
   "cell_type": "code",
   "execution_count": 246,
   "metadata": {},
   "outputs": [
    {
     "name": "stdout",
     "output_type": "stream",
     "text": [
      "5.19 s ± 1.11 s per loop (mean ± std. dev. of 7 runs, 1 loop each)\n",
      "LogReg embedded method AUC-PR : 0.44024\n"
     ]
    }
   ],
   "source": [
    "log_reg8 = LogisticRegression(solver = 'lbfgs', max_iter = 100000).fit(X_train_40_features, y_train)\n",
    "%timeit LogisticRegression(solver = 'lbfgs', max_iter = 100000).fit(X_train_40_features, y_train)\n",
    "auc_embedded_method =pr_auc_score(y_test, log_reg8.decision_function(X_test_40_features))\n",
    "print('LogReg embedded method AUC-PR : %.5f' % auc_embedded_method)"
   ]
  },
  {
   "cell_type": "code",
   "execution_count": 247,
   "metadata": {},
   "outputs": [
    {
     "data": {
      "text/plain": [
       "array([54, 55, 39, 52, 57, 34, 36, 38, 51, 37, 44, 26, 48, 1, 5, 50, 47,\n",
       "       58, 40, 49, 24, 25, 8, 35, 45, 22, 42, 56, 16, 53, 9, 0, 33, 46, 7,\n",
       "       17, 10, 21, 41, 23], dtype=object)"
      ]
     },
     "execution_count": 247,
     "metadata": {},
     "output_type": "execute_result"
    }
   ],
   "source": [
    "np.array(sorted_weights)[:40, 1]"
   ]
  },
  {
   "cell_type": "markdown",
   "metadata": {},
   "source": [
    "Вопрос на засыпку: one-hot кодирование возвращает нам единичные признаки-индикаторы. Попробуйте также отскалировать их, как и обычные числовые, и снова выбрать 40 главных по вкладу признаков. Изменился ли их список? Изменится ли качество?"
   ]
  },
  {
   "cell_type": "code",
   "execution_count": 248,
   "metadata": {},
   "outputs": [],
   "source": [
    "st_sc = StandardScaler().fit(X_train)\n",
    "X_train_scaled = st_sc.transform(X_train)\n",
    "X_test_scaled = st_sc.transform(X_test)"
   ]
  },
  {
   "cell_type": "code",
   "execution_count": 249,
   "metadata": {},
   "outputs": [],
   "source": [
    "log_reg = LogisticRegression(solver = 'lbfgs', max_iter = 100000).fit(X_train_scaled, y_train)\n",
    "weights = log_reg.coef_\n",
    "sorted_weights = sorted(zip(np.absolute(weights).T, np.arange(0, len(X_train[0]))), reverse=True)\n",
    "scaled_X_train_40_features = X_train_scaled[:, list(np.array(sorted_weights)[:40, 1])]\n",
    "scaled_X_test_40_features = X_test_scaled[:, list(np.array(sorted_weights)[:40, 1])]"
   ]
  },
  {
   "cell_type": "code",
   "execution_count": 250,
   "metadata": {},
   "outputs": [
    {
     "data": {
      "text/plain": [
       "array([54, 55, 39, 52, 57, 34, 36, 38, 51, 37, 44, 26, 48, 1, 5, 50, 47,\n",
       "       58, 40, 49, 24, 25, 8, 35, 45, 22, 42, 56, 16, 53, 9, 0, 33, 46, 7,\n",
       "       17, 10, 21, 41, 23], dtype=object)"
      ]
     },
     "execution_count": 250,
     "metadata": {},
     "output_type": "execute_result"
    }
   ],
   "source": [
    "np.array(sorted_weights)[:40, 1]"
   ]
  },
  {
   "cell_type": "code",
   "execution_count": 251,
   "metadata": {
    "scrolled": true
   },
   "outputs": [
    {
     "name": "stdout",
     "output_type": "stream",
     "text": [
      "681 ms ± 15.9 ms per loop (mean ± std. dev. of 7 runs, 1 loop each)\n",
      "LogReg embedded method with scaled categorical features AUC-PR : 0.44031\n"
     ]
    }
   ],
   "source": [
    "log_reg8 = LogisticRegression(solver = 'lbfgs', max_iter = 100000).fit(scaled_X_train_40_features, y_train)\n",
    "%timeit LogisticRegression(solver = 'lbfgs', max_iter = 100000).fit(scaled_X_train_40_features, y_train)\n",
    "auc_embedded_method_scaled = pr_auc_score(y_test, log_reg8.decision_function(scaled_X_test_40_features))\n",
    "print('LogReg embedded method with scaled categorical features AUC-PR : %.5f' % auc_embedded_method_scaled)"
   ]
  },
  {
   "cell_type": "code",
   "execution_count": 252,
   "metadata": {},
   "outputs": [
    {
     "name": "stdout",
     "output_type": "stream",
     "text": [
      "LogReg AUC-PR first version: 0.44005\n",
      "LogReg embedded method AUC-PR : 0.44024\n",
      "LogReg embedded method with scaled categorical features AUC-PR : 0.44031\n"
     ]
    }
   ],
   "source": [
    "print('LogReg AUC-PR first version: %.5f' % pr_auc_part2)\n",
    "print('LogReg embedded method AUC-PR : %.5f' % auc_embedded_method)\n",
    "print('LogReg embedded method with scaled categorical features AUC-PR : %.5f' % auc_embedded_method_scaled)"
   ]
  },
  {
   "cell_type": "markdown",
   "metadata": {},
   "source": [
    "Качество незначительно поднялось после отбора 40 признаков, и еще чуть-чуть после того, как категориальные признаки отскалировали. Набор признаков не изменился."
   ]
  },
  {
   "cell_type": "markdown",
   "metadata": {},
   "source": [
    "### Методы фильтрации\n",
    "\n",
    "\n",
    "Давайте отбирать признаки умнее, а именно через подсчёт некоторой функции для каждого признака. На основании значений этой функции будем оставлять наиболее важные признаки. Методы этого семейства называют фильтрующими или  filter methods. \n",
    "\n",
    "В качестве такой функции будем считать t-статистику:\n",
    "\n",
    "$$t(j) = \\frac{|\\mu_+ - \\mu_-|}{\\sqrt{\\frac{n_+ \\sigma^2_+ + n_- \\sigma^2_-}{n_+ + n_-}}},$$\n",
    "\n",
    "где $\\mu$, $\\sigma$, $n$ соответственно среднее, стандартное отклонение и количество объектов каждого из классов.\n",
    "\n",
    "__Задание 9 (0.5 балла).__ Оставьте 40 признаков с наибольшим значением $t$ и замерьте качество. Не забудьте замерить скорость отбора признаков в этом случае.\n",
    "\n"
   ]
  },
  {
   "cell_type": "code",
   "execution_count": 253,
   "metadata": {},
   "outputs": [],
   "source": [
    "n_plus = np.sum(y_train)\n",
    "n_minus = y_train.shape - n_plus"
   ]
  },
  {
   "cell_type": "code",
   "execution_count": 254,
   "metadata": {},
   "outputs": [],
   "source": [
    "from math import sqrt\n",
    "#for one feature\n",
    "def t_for_one_feature(X, feature, y):\n",
    "    mu_plus = np.mean(X[y==1][feature])\n",
    "    mu_minus = np.mean(X[y==0][feature])\n",
    "    sigma_plus = np.std(X[y==1][feature])\n",
    "    sigma_minus = np.std(X[y==0][feature])\n",
    "    down = sqrt((n_plus * (sigma_plus)**2 + n_minus*(sigma_minus)**2)/(n_plus + n_minus))\n",
    "    return abs(mu_plus - mu_minus)/down"
   ]
  },
  {
   "cell_type": "code",
   "execution_count": 255,
   "metadata": {},
   "outputs": [],
   "source": [
    "list_of_t = []\n",
    "for i in range(0, X_train.shape[1]):\n",
    "    t_for_one_feature(X_train, i, y_train)\n",
    "    list_of_t.append([t_for_one_feature(X_train, i, y_train), i])"
   ]
  },
  {
   "cell_type": "code",
   "execution_count": 256,
   "metadata": {},
   "outputs": [
    {
     "data": {
      "text/plain": [
       "array([0.50531234, 0.45433802, 0.43146923, 0.40885441, 0.40771963,\n",
       "       0.40511537, 0.38859689, 0.38451097, 0.38337073, 0.38030702,\n",
       "       0.37613777, 0.34644813, 0.34438233, 0.3302429 , 0.32317215,\n",
       "       0.31858309, 0.30700495, 0.30082917, 0.29778314, 0.26378257,\n",
       "       0.26292926, 0.26242672, 0.24257629, 0.24192191, 0.23908863,\n",
       "       0.2228332 , 0.2107313 , 0.19524414, 0.19115918, 0.19024696,\n",
       "       0.15122484, 0.1258669 , 0.12173407, 0.118261  , 0.11757183,\n",
       "       0.11507012, 0.11364182, 0.10912097, 0.08048608, 0.07726159])"
      ]
     },
     "execution_count": 256,
     "metadata": {},
     "output_type": "execute_result"
    }
   ],
   "source": [
    "np.array(sorted(list_of_t, reverse=True))[:40, 0]"
   ]
  },
  {
   "cell_type": "code",
   "execution_count": 257,
   "metadata": {},
   "outputs": [],
   "source": [
    "best_40_train_t = X_train[:,list(np.array(sorted(list_of_t, reverse=True))[:40, 1].astype(int))]\n",
    "best_40_test_t = X_test[:,list(np.array(sorted(list_of_t, reverse=True))[:40, 1].astype(int))]"
   ]
  },
  {
   "cell_type": "code",
   "execution_count": 258,
   "metadata": {},
   "outputs": [
    {
     "name": "stdout",
     "output_type": "stream",
     "text": [
      "2.27 s ± 655 ms per loop (mean ± std. dev. of 7 runs, 1 loop each)\n",
      "LogReg embedded method AUC-PR : 0.44100\n"
     ]
    }
   ],
   "source": [
    "log_reg8 = LogisticRegression(solver = 'lbfgs', max_iter = 100000).fit(best_40_train_t, y_train)\n",
    "%timeit LogisticRegression(solver = 'lbfgs', max_iter = 100000).fit(best_40_train_t, y_train)\n",
    "print('LogReg embedded method AUC-PR : %.5f' % pr_auc_score(y_test, log_reg8.decision_function(best_40_test_t)))"
   ]
  },
  {
   "cell_type": "markdown",
   "metadata": {},
   "source": [
    "Качество увеличилось на одну тысяную. По сравнению с остальными результатами, кажется, что немало."
   ]
  },
  {
   "cell_type": "markdown",
   "metadata": {},
   "source": [
    "### Методы-обёртки\n",
    "\n",
    "__Задание 10 (1 балл).__ \n",
    "\n",
    "Третий из рассматриваемых нами методов работает следующим образом: мы исключаем по очереди один из признаков и смотрим, как это влияет на качество. Удаляем признаки таким жадным способом, пока не окажется выполненым некоторое условие (количество признаков или ухудшение качества).\n",
    "\n",
    "Заметим, что нельзя оценивать качество по тестовой выборке, иначе мы можем переобучиться, как, например, при настройке гиперпараметров. Разделите обучающую выборку на 2 части, на одной из них обучайте модель без одного из признаков,  на второй части оценивайте качество. Исходную тестовую выборку стоит использовать только для финальной оценки качества.\n",
    "\n",
    "Снова оставьте только 40 признаков и оцените качество на тестовой выборке. Сколько времени занял такой отбор признаков?"
   ]
  },
  {
   "cell_type": "code",
   "execution_count": 290,
   "metadata": {},
   "outputs": [
    {
     "data": {
      "text/plain": [
       "(32950, 60)"
      ]
     },
     "execution_count": 290,
     "metadata": {},
     "output_type": "execute_result"
    }
   ],
   "source": [
    "X_train.shape #с ohe и scaler"
   ]
  },
  {
   "cell_type": "code",
   "execution_count": 291,
   "metadata": {},
   "outputs": [],
   "source": [
    "X_train_wrappers, X_val_wrappers, y_train_wrappers, y_val_wrappers = train_test_split(X_train, y_train, test_size=0.2, random_state=777, stratify = y_train)"
   ]
  },
  {
   "cell_type": "code",
   "execution_count": 293,
   "metadata": {},
   "outputs": [],
   "source": [
    "X_test_wrappers = X_test.copy()\n",
    "X_test_wrappers2 = X_test.copy()"
   ]
  },
  {
   "cell_type": "code",
   "execution_count": 294,
   "metadata": {},
   "outputs": [],
   "source": [
    "X_train_wrappers2, X_val_wrappers2, y_train_wrappers2, y_val_wrappers2 = X_train_wrappers.copy(), X_val_wrappers.copy(), y_train_wrappers.copy(), y_val_wrappers.copy()"
   ]
  },
  {
   "cell_type": "code",
   "execution_count": 295,
   "metadata": {},
   "outputs": [],
   "source": [
    "log_reg = LogisticRegression(solver = 'lbfgs', max_iter = 10000)"
   ]
  },
  {
   "cell_type": "code",
   "execution_count": 296,
   "metadata": {},
   "outputs": [
    {
     "data": {
      "text/plain": [
       "LogisticRegression(C=1.0, class_weight=None, dual=False, fit_intercept=True,\n",
       "                   intercept_scaling=1, l1_ratio=None, max_iter=10000,\n",
       "                   multi_class='warn', n_jobs=None, penalty='l2',\n",
       "                   random_state=None, solver='lbfgs', tol=0.0001, verbose=0,\n",
       "                   warm_start=False)"
      ]
     },
     "execution_count": 296,
     "metadata": {},
     "output_type": "execute_result"
    }
   ],
   "source": [
    "log_reg.fit(np.delete(X_train_wrappers, 0, 1) , y_train_wrappers)"
   ]
  },
  {
   "cell_type": "code",
   "execution_count": 300,
   "metadata": {},
   "outputs": [],
   "source": [
    "import time\n",
    "from tqdm import tqdm"
   ]
  },
  {
   "cell_type": "code",
   "execution_count": 302,
   "metadata": {},
   "outputs": [
    {
     "name": "stderr",
     "output_type": "stream",
     "text": [
      "\n",
      "  0%|          | 0/20 [00:00<?, ?it/s]\u001b[A"
     ]
    },
    {
     "name": "stdout",
     "output_type": "stream",
     "text": [
      "main 0\n"
     ]
    },
    {
     "name": "stderr",
     "output_type": "stream",
     "text": [
      "\n",
      "  5%|▌         | 1/20 [05:07<1:37:28, 307.83s/it]\u001b[A\n",
      " 10%|█         | 2/20 [09:27<1:28:02, 293.50s/it]\u001b[A\n",
      " 15%|█▌        | 3/20 [13:02<1:16:26, 269.77s/it]\u001b[A\n",
      " 20%|██        | 4/20 [16:12<1:05:35, 245.96s/it]\u001b[A\n",
      " 25%|██▌       | 5/20 [19:02<55:48, 223.26s/it]  \u001b[A\n",
      " 30%|███       | 6/20 [21:49<48:07, 206.24s/it]\u001b[A\n",
      " 35%|███▌      | 7/20 [24:21<41:10, 190.03s/it]\u001b[A\n",
      " 40%|████      | 8/20 [26:50<35:32, 177.74s/it]\u001b[A\n",
      " 45%|████▌     | 9/20 [29:16<30:49, 168.13s/it]\u001b[A\n",
      " 50%|█████     | 10/20 [31:35<26:34, 159.49s/it]\u001b[A\n",
      " 55%|█████▌    | 11/20 [33:51<22:51, 152.43s/it]\u001b[A\n",
      " 60%|██████    | 12/20 [35:52<19:02, 142.87s/it]\u001b[A\n",
      " 65%|██████▌   | 13/20 [37:44<15:36, 133.78s/it]\u001b[A\n",
      " 70%|███████   | 14/20 [39:30<12:32, 125.39s/it]\u001b[A\n",
      " 75%|███████▌  | 15/20 [41:24<10:08, 121.76s/it]\u001b[A\n",
      " 80%|████████  | 16/20 [43:12<07:50, 117.72s/it]\u001b[A\n",
      " 85%|████████▌ | 17/20 [44:52<05:37, 112.58s/it]\u001b[A\n",
      " 90%|█████████ | 18/20 [46:34<03:38, 109.34s/it]\u001b[A\n",
      " 95%|█████████▌| 19/20 [48:06<01:44, 104.21s/it]\u001b[A\n",
      "100%|██████████| 20/20 [49:38<00:00, 148.92s/it]\u001b[A\n"
     ]
    }
   ],
   "source": [
    "start = time.time()\n",
    "prev_auc = 0\n",
    "best_auc = 0\n",
    "print('main', prev_auc)\n",
    "list_auc_best = []\n",
    "for j in tqdm(range(20)):\n",
    "    num_features = X_train_wrappers.shape[1]\n",
    "    list_auc = []\n",
    "    #column_to_kick_out = -1\n",
    "    for i in range (0,num_features):\n",
    "        log_reg.fit(np.delete(X_train_wrappers, i, 1) , y_train_wrappers)\n",
    "        auc_wrappers = pr_auc_score(y_val_wrappers, log_reg.decision_function(np.delete(X_val_wrappers, i, 1)))\n",
    "        \n",
    "        list_auc.append(auc_wrappers)\n",
    "    list_auc = np.array(list_auc)\n",
    "    np.max(list_auc)\n",
    "    if prev_auc > best_auc: \n",
    "        break\n",
    "    prev_auc = best_auc\n",
    "    inx_max = np.argmax(list_auc)\n",
    "    list_auc_best.append(np.max(list_auc))\n",
    "    X_train_wrappers = np.delete(X_train_wrappers, inx_max, 1)\n",
    "    X_val_wrappers = np.delete(X_val_wrappers, inx_max, 1)\n",
    "    X_test_wrappers = np.delete(X_test_wrappers, inx_max, 1)\n",
    "end = time.time()"
   ]
  },
  {
   "cell_type": "code",
   "execution_count": 315,
   "metadata": {},
   "outputs": [
    {
     "name": "stdout",
     "output_type": "stream",
     "text": [
      "2978.4699835777283 seconds\n"
     ]
    }
   ],
   "source": [
    "print(end - start, 'seconds')"
   ]
  },
  {
   "cell_type": "code",
   "execution_count": 303,
   "metadata": {},
   "outputs": [
    {
     "data": {
      "text/plain": [
       "[0.42846447839444496,\n",
       " 0.43032829990305116,\n",
       " 0.4311750556602415,\n",
       " 0.43164566420518724,\n",
       " 0.43194868241098927,\n",
       " 0.43330376362712403,\n",
       " 0.43389794941960363,\n",
       " 0.43496798728062613,\n",
       " 0.435628503023387,\n",
       " 0.4361897107514354,\n",
       " 0.4365419271786217,\n",
       " 0.4367548570359016,\n",
       " 0.4371401482971956,\n",
       " 0.4377829340232953,\n",
       " 0.4378388329500393,\n",
       " 0.4379802026758739,\n",
       " 0.43804057345863867,\n",
       " 0.43856073630123626,\n",
       " 0.4386895614033243,\n",
       " 0.4387002498811316]"
      ]
     },
     "execution_count": 303,
     "metadata": {},
     "output_type": "execute_result"
    }
   ],
   "source": [
    "list_auc_best"
   ]
  },
  {
   "cell_type": "code",
   "execution_count": 324,
   "metadata": {},
   "outputs": [
    {
     "name": "stdout",
     "output_type": "stream",
     "text": [
      "LogReg wrapper method AUC-PR : 0.42679\n"
     ]
    }
   ],
   "source": [
    "log_reg.fit(X_train_wrappers, y_train_wrappers)\n",
    "auc_wrappers = pr_auc_score(y_test, log_reg.decision_function(X_test_wrappers))\n",
    "print('LogReg wrapper method AUC-PR : %.5f' % auc_wrappers)"
   ]
  },
  {
   "cell_type": "markdown",
   "metadata": {},
   "source": [
    "Стоит отметить, что с помощью такого метода можно пойти и в обратную сторону. Попробуйте добавлять по одному самому полезному признаку в выборку до тех пор, пока не наберется 40 штук. Найдется ли порог, при котором добавление следующих признаков будет только ухудшать качество модели?"
   ]
  },
  {
   "cell_type": "code",
   "execution_count": 345,
   "metadata": {},
   "outputs": [
    {
     "name": "stderr",
     "output_type": "stream",
     "text": [
      "\n",
      "\n",
      "  0%|          | 0/40 [00:00<?, ?it/s]\u001b[A\u001b[A\n",
      "\n",
      "  2%|▎         | 1/40 [00:03<02:29,  3.83s/it]\u001b[A\u001b[A\n",
      "\n",
      "  5%|▌         | 2/40 [00:11<03:10,  5.03s/it]\u001b[A\u001b[A\n",
      "\n",
      "  8%|▊         | 3/40 [00:28<05:19,  8.62s/it]\u001b[A\u001b[A\n",
      "\n",
      " 10%|█         | 4/40 [00:47<07:02, 11.73s/it]\u001b[A\u001b[A\n",
      "\n",
      " 12%|█▎        | 5/40 [01:04<07:47, 13.37s/it]\u001b[A\u001b[A\n",
      "\n",
      " 15%|█▌        | 6/40 [01:23<08:25, 14.88s/it]\u001b[A\u001b[A\n",
      "\n",
      " 18%|█▊        | 7/40 [01:43<09:08, 16.61s/it]\u001b[A\u001b[A\n",
      "\n",
      " 20%|██        | 8/40 [02:04<09:31, 17.85s/it]\u001b[A\u001b[A\n",
      "\n",
      " 22%|██▎       | 9/40 [02:25<09:44, 18.86s/it]\u001b[A\u001b[A\n",
      "\n",
      " 25%|██▌       | 10/40 [02:47<09:54, 19.80s/it]\u001b[A\u001b[A\n",
      "\n",
      " 28%|██▊       | 11/40 [03:10<10:01, 20.74s/it]\u001b[A\u001b[A\n",
      "\n",
      " 30%|███       | 12/40 [03:33<09:55, 21.26s/it]\u001b[A\u001b[A\n",
      "\n",
      " 32%|███▎      | 13/40 [03:56<09:49, 21.84s/it]\u001b[A\u001b[A\n",
      "\n",
      " 35%|███▌      | 14/40 [04:21<09:55, 22.89s/it]\u001b[A\u001b[A\n",
      "\n",
      " 38%|███▊      | 15/40 [04:58<11:17, 27.11s/it]\u001b[A\u001b[A\n",
      "\n",
      " 40%|████      | 16/40 [05:47<13:23, 33.48s/it]\u001b[A\u001b[A\n",
      "\n",
      " 42%|████▎     | 17/40 [06:38<14:56, 38.97s/it]\u001b[A\u001b[A\n",
      "\n",
      " 45%|████▌     | 18/40 [07:36<16:18, 44.50s/it]\u001b[A\u001b[A\n",
      "\n",
      " 48%|████▊     | 19/40 [08:28<16:24, 46.87s/it]\u001b[A\u001b[A\n",
      "\n",
      " 50%|█████     | 20/40 [09:40<18:05, 54.27s/it]\u001b[A\u001b[A\n",
      "\n",
      " 52%|█████▎    | 21/40 [10:53<19:00, 60.00s/it]\u001b[A\u001b[A\n",
      "\n",
      " 55%|█████▌    | 22/40 [12:10<19:29, 64.98s/it]\u001b[A\u001b[A\n",
      "\n",
      " 57%|█████▊    | 23/40 [13:23<19:06, 67.47s/it]\u001b[A\u001b[A\n",
      "\n",
      " 60%|██████    | 24/40 [14:37<18:30, 69.41s/it]\u001b[A\u001b[A\n",
      "\n",
      " 62%|██████▎   | 25/40 [15:56<18:03, 72.24s/it]\u001b[A\u001b[A\n",
      "\n",
      " 65%|██████▌   | 26/40 [17:24<17:57, 76.98s/it]\u001b[A\u001b[A\n",
      "\n",
      " 68%|██████▊   | 27/40 [18:53<17:27, 80.60s/it]\u001b[A\u001b[A\n",
      "\n",
      " 70%|███████   | 28/40 [20:23<16:43, 83.62s/it]\u001b[A\u001b[A\n",
      "\n",
      " 72%|███████▎  | 29/40 [22:02<16:10, 88.23s/it]\u001b[A\u001b[A\n",
      "\n",
      " 75%|███████▌  | 30/40 [23:44<15:23, 92.31s/it]\u001b[A\u001b[A\n",
      "\n",
      " 78%|███████▊  | 31/40 [25:22<14:06, 94.06s/it]\u001b[A\u001b[A\n",
      "\n",
      " 80%|████████  | 32/40 [27:07<12:57, 97.18s/it]\u001b[A\u001b[A\n",
      "\n",
      " 82%|████████▎ | 33/40 [29:00<11:53, 101.95s/it]\u001b[A\u001b[A\n",
      "\n",
      " 85%|████████▌ | 34/40 [31:07<10:56, 109.49s/it]\u001b[A\u001b[A\n",
      "\n",
      " 88%|████████▊ | 35/40 [33:20<09:42, 116.44s/it]\u001b[A\u001b[A\n",
      "\n",
      " 90%|█████████ | 36/40 [35:34<08:07, 121.78s/it]\u001b[A\u001b[A\n",
      "\n",
      " 92%|█████████▎| 37/40 [3:41:27<2:51:33, 3431.11s/it]\u001b[A\u001b[A\n",
      "\n",
      " 95%|█████████▌| 38/40 [3:43:51<1:21:29, 2444.97s/it]\u001b[A\u001b[A\n",
      "\n",
      " 98%|█████████▊| 39/40 [3:46:19<29:15, 1755.99s/it]  \u001b[A\u001b[A\n",
      "\n",
      "100%|██████████| 40/40 [3:48:56<00:00, 343.42s/it] \u001b[A\u001b[A\n"
     ]
    }
   ],
   "source": [
    "start = time.time()\n",
    "idxs = []\n",
    "\n",
    "list_auc_best = []\n",
    "for j in tqdm(range(40)):\n",
    "    num_features = X_train_wrappers2.shape[1]\n",
    "    \n",
    "    prev_auc = 0\n",
    "    best_idx = 0\n",
    "    for i in range (0,num_features):\n",
    "        log_reg.fit(X_train_wrappers2[:, idxs + [i]], y_train_wrappers)\n",
    "        auc_wrappers = pr_auc_score(y_val_wrappers, log_reg.decision_function(X_val_wrappers2[:, idxs + [i]]))\n",
    "        if (auc_wrappers > prev_auc) and (i not in idxs):\n",
    "            best_idx = i\n",
    "            prev_auc = auc_wrappers\n",
    "    list_auc_best.append(prev_auc)\n",
    "    idxs.append(best_idx)\n",
    "end = time.time()"
   ]
  },
  {
   "cell_type": "code",
   "execution_count": 346,
   "metadata": {},
   "outputs": [
    {
     "name": "stdout",
     "output_type": "stream",
     "text": [
      "13736.800833702087 seconds\n"
     ]
    }
   ],
   "source": [
    "print(end - start, 'seconds')"
   ]
  },
  {
   "cell_type": "code",
   "execution_count": 350,
   "metadata": {},
   "outputs": [
    {
     "name": "stdout",
     "output_type": "stream",
     "text": [
      "LogReg wrapper method adding features AUC-PR : 0.42713\n"
     ]
    }
   ],
   "source": [
    "log_reg.fit(X_train_wrappers2[:, idxs], y_train_wrappers)\n",
    "auc_wrappers = pr_auc_score(y_test, log_reg.decision_function(X_test_wrappers2[:, idxs]))\n",
    "print('LogReg wrapper method adding features AUC-PR : %.5f' % auc_wrappers)"
   ]
  },
  {
   "cell_type": "code",
   "execution_count": 360,
   "metadata": {
    "scrolled": true
   },
   "outputs": [
    {
     "data": {
      "text/plain": [
       "[0.556305964486265,\n",
       " 0.5507180674258572,\n",
       " 0.5412626258194626,\n",
       " 0.5412626258194626,\n",
       " 0.5313687762281002,\n",
       " 0.5195339808806464,\n",
       " 0.5063654180412572,\n",
       " 0.49542921901914866,\n",
       " 0.4725271143761663,\n",
       " 0.4412970091780643,\n",
       " 0.40957522130665086,\n",
       " 0.3760858177859455,\n",
       " 0.3646283374861287,\n",
       " 0.3646263519387422,\n",
       " 0.34397191894911355,\n",
       " 0.41551957803838035,\n",
       " 0.41878263869503185,\n",
       " 0.42290510542735155,\n",
       " 0.4262200296497775,\n",
       " 0.4288580860667474,\n",
       " 0.4306906510576642,\n",
       " 0.43269728591629775,\n",
       " 0.43334293467317553,\n",
       " 0.4342870728601186,\n",
       " 0.4348313266184414,\n",
       " 0.4353710892226602,\n",
       " 0.43605710254772434,\n",
       " 0.4370836941817745,\n",
       " 0.43732770593004566,\n",
       " 0.4375042557922455,\n",
       " 0.43749330691374594,\n",
       " 0.4374706457265044,\n",
       " 0.43749275254027314,\n",
       " 0.43752654144150305,\n",
       " 0.43758288474156154,\n",
       " 0.4373659474516945,\n",
       " 0.4371715582968756,\n",
       " 0.4370668485862661,\n",
       " 0.4370841798246429,\n",
       " 0.4366606212815868]"
      ]
     },
     "execution_count": 360,
     "metadata": {},
     "output_type": "execute_result"
    }
   ],
   "source": [
    "list_auc_best"
   ]
  },
  {
   "cell_type": "code",
   "execution_count": 361,
   "metadata": {},
   "outputs": [
    {
     "data": {
      "text/plain": [
       "14"
      ]
     },
     "execution_count": 361,
     "metadata": {},
     "output_type": "execute_result"
    }
   ],
   "source": [
    "np.argmin(np.array(list_auc_best))"
   ]
  },
  {
   "cell_type": "markdown",
   "metadata": {},
   "source": [
    "Некоторые признаки могут сильно коррелировать с таргетом,так что сначала при добавлении лучших признаков качество  только падает, а растет с 15 отобранного признака. Поэтому я просто отобрала лучшие 40 признаков, не смотря на падение качества. Например, в датасете есть всего 3 объекта со значением  'yes' в категории default, по-хорошему надо дропнуть, наверное"
   ]
  },
  {
   "cell_type": "code",
   "execution_count": 356,
   "metadata": {},
   "outputs": [
    {
     "data": {
      "text/plain": [
       "no         32588\n",
       "unknown     8597\n",
       "yes            3\n",
       "Name: default, dtype: int64"
      ]
     },
     "execution_count": 356,
     "metadata": {},
     "output_type": "execute_result"
    }
   ],
   "source": [
    "df.default.value_counts()"
   ]
  },
  {
   "cell_type": "markdown",
   "metadata": {},
   "source": [
    "Давайте подведём итоги по отбору признаков. Назовите преимущества и недостатки каждого из методов. Какой метод привёл к наилучшему качеству?\n",
    "\n",
    "**Ответ:** метод-обертки уменьшил качество аж на 2 сотые, хотя при добавлении признаков оно выше, чем при удалении, еще он очень долгий из-за перебора. Встроенные методы увеличили качество незначительно, в четвертом знаке после запятой, а методы фильтрации подняли качество на одну тысячную. Оба метода быстрые и выигрывают в скорости у методов-оберток."
   ]
  },
  {
   "cell_type": "code",
   "execution_count": 363,
   "metadata": {},
   "outputs": [
    {
     "name": "stdout",
     "output_type": "stream",
     "text": [
      "LogReg AUC-PR first version: 0.44005\n",
      "LogReg wrapper method adding features AUC-PR : 0.42713\n"
     ]
    }
   ],
   "source": [
    "print('LogReg AUC-PR first version: %.5f' % pr_auc_part2)\n",
    "print('LogReg wrapper method adding features AUC-PR : %.5f' % auc_wrappers)"
   ]
  },
  {
   "cell_type": "markdown",
   "metadata": {},
   "source": [
    "# Часть 3. Оценка экономического эффекта модели\n",
    "\n",
    "В данной части мы займемся тем, что от вас скорее всего потребуется на реальной работе (помимо перекладки `json`, разумеется). А именно: мы соберем несколько специализированных метрик качества, попытаемся настроить модель на максимизацию _прибыли_ и оценим, сколько вообще получится заработать на этом. Разумеется, здесь будет сделано множество упрощающих жизнь допущений, но обо всем по порядку. \n",
    "\n",
    "__Задание 11 (1 балл).__ Допустим, работники вашего колл-центра получают за один звонок клиенту 1 доллар. При согласии клиента на предлагаемые условия он принесет в банк 10 долларов.\n",
    "\n",
    "Если вы всё прослушали на экономике, то напомним, что выручка — это сколько денег нам принесли клиенты, а прибыль — выручка за вычетом расходов на зарплату и прочее.\n",
    "\n",
    "Загрузите данные о телемаркетинге из предыдущего блока заданий. В этой части не нужно делить выборку - мы будем использовать кросс-валидацию. Используйте 5 фолдов, сделайте `shuffle=True, random_state=500`. По кросс-валидации у вас получится 5 вариантов обучающей и тестовой выборки. Обучите логистическую регрессию на каждой обучающей выборке (воспользуйтесь one-hot для категориальных признаков, гиперпараметры оставьте со значениями по умолчанию) и сделайте предсказания для соответствующих тестовых выборок. Допустим, всем положительным прогнозам ваши сотрудники решили позвонить. Посчитайте на всех тестовых выборках выручку и усредните. Сколько денег вы в среднем заработаете? Также вычислите стандартное отклонение.\n",
    "\n",
    "Сколько из заработанных денег придётся отдать операторам вашего колл-центра?"
   ]
  },
  {
   "cell_type": "code",
   "execution_count": 533,
   "metadata": {},
   "outputs": [],
   "source": [
    "df.contact=df.contact.replace(({'cellular': 0, 'telephone': 1}))"
   ]
  },
  {
   "cell_type": "code",
   "execution_count": 536,
   "metadata": {},
   "outputs": [],
   "source": [
    "categorical = ['job', 'marital','education','default','housing','loan','month','day_of_week','poutcome']\n",
    "numeric = ['campaign', 'pdays','previous', 'emp.var.rate','cons.price.idx', 'cons.conf.idx','euribor3m', 'nr.employed','age']"
   ]
  },
  {
   "cell_type": "code",
   "execution_count": 537,
   "metadata": {},
   "outputs": [
    {
     "data": {
      "text/html": [
       "<div>\n",
       "<style scoped>\n",
       "    .dataframe tbody tr th:only-of-type {\n",
       "        vertical-align: middle;\n",
       "    }\n",
       "\n",
       "    .dataframe tbody tr th {\n",
       "        vertical-align: top;\n",
       "    }\n",
       "\n",
       "    .dataframe thead th {\n",
       "        text-align: right;\n",
       "    }\n",
       "</style>\n",
       "<table border=\"1\" class=\"dataframe\">\n",
       "  <thead>\n",
       "    <tr style=\"text-align: right;\">\n",
       "      <th></th>\n",
       "      <th>age</th>\n",
       "      <th>job</th>\n",
       "      <th>marital</th>\n",
       "      <th>education</th>\n",
       "      <th>default</th>\n",
       "      <th>housing</th>\n",
       "      <th>loan</th>\n",
       "      <th>contact</th>\n",
       "      <th>month</th>\n",
       "      <th>day_of_week</th>\n",
       "      <th>campaign</th>\n",
       "      <th>pdays</th>\n",
       "      <th>previous</th>\n",
       "      <th>poutcome</th>\n",
       "      <th>emp.var.rate</th>\n",
       "      <th>cons.price.idx</th>\n",
       "      <th>cons.conf.idx</th>\n",
       "      <th>euribor3m</th>\n",
       "      <th>nr.employed</th>\n",
       "      <th>y</th>\n",
       "    </tr>\n",
       "  </thead>\n",
       "  <tbody>\n",
       "    <tr>\n",
       "      <td>0</td>\n",
       "      <td>56</td>\n",
       "      <td>housemaid</td>\n",
       "      <td>married</td>\n",
       "      <td>basic.4y</td>\n",
       "      <td>no</td>\n",
       "      <td>no</td>\n",
       "      <td>no</td>\n",
       "      <td>1</td>\n",
       "      <td>may</td>\n",
       "      <td>mon</td>\n",
       "      <td>1</td>\n",
       "      <td>999</td>\n",
       "      <td>0</td>\n",
       "      <td>nonexistent</td>\n",
       "      <td>1.1</td>\n",
       "      <td>93.994</td>\n",
       "      <td>-36.4</td>\n",
       "      <td>4.857</td>\n",
       "      <td>5191.0</td>\n",
       "      <td>0</td>\n",
       "    </tr>\n",
       "    <tr>\n",
       "      <td>1</td>\n",
       "      <td>57</td>\n",
       "      <td>services</td>\n",
       "      <td>married</td>\n",
       "      <td>high.school</td>\n",
       "      <td>unknown</td>\n",
       "      <td>no</td>\n",
       "      <td>no</td>\n",
       "      <td>1</td>\n",
       "      <td>may</td>\n",
       "      <td>mon</td>\n",
       "      <td>1</td>\n",
       "      <td>999</td>\n",
       "      <td>0</td>\n",
       "      <td>nonexistent</td>\n",
       "      <td>1.1</td>\n",
       "      <td>93.994</td>\n",
       "      <td>-36.4</td>\n",
       "      <td>4.857</td>\n",
       "      <td>5191.0</td>\n",
       "      <td>0</td>\n",
       "    </tr>\n",
       "    <tr>\n",
       "      <td>2</td>\n",
       "      <td>37</td>\n",
       "      <td>services</td>\n",
       "      <td>married</td>\n",
       "      <td>high.school</td>\n",
       "      <td>no</td>\n",
       "      <td>yes</td>\n",
       "      <td>no</td>\n",
       "      <td>1</td>\n",
       "      <td>may</td>\n",
       "      <td>mon</td>\n",
       "      <td>1</td>\n",
       "      <td>999</td>\n",
       "      <td>0</td>\n",
       "      <td>nonexistent</td>\n",
       "      <td>1.1</td>\n",
       "      <td>93.994</td>\n",
       "      <td>-36.4</td>\n",
       "      <td>4.857</td>\n",
       "      <td>5191.0</td>\n",
       "      <td>0</td>\n",
       "    </tr>\n",
       "    <tr>\n",
       "      <td>3</td>\n",
       "      <td>40</td>\n",
       "      <td>admin.</td>\n",
       "      <td>married</td>\n",
       "      <td>basic.6y</td>\n",
       "      <td>no</td>\n",
       "      <td>no</td>\n",
       "      <td>no</td>\n",
       "      <td>1</td>\n",
       "      <td>may</td>\n",
       "      <td>mon</td>\n",
       "      <td>1</td>\n",
       "      <td>999</td>\n",
       "      <td>0</td>\n",
       "      <td>nonexistent</td>\n",
       "      <td>1.1</td>\n",
       "      <td>93.994</td>\n",
       "      <td>-36.4</td>\n",
       "      <td>4.857</td>\n",
       "      <td>5191.0</td>\n",
       "      <td>0</td>\n",
       "    </tr>\n",
       "    <tr>\n",
       "      <td>4</td>\n",
       "      <td>56</td>\n",
       "      <td>services</td>\n",
       "      <td>married</td>\n",
       "      <td>high.school</td>\n",
       "      <td>no</td>\n",
       "      <td>no</td>\n",
       "      <td>yes</td>\n",
       "      <td>1</td>\n",
       "      <td>may</td>\n",
       "      <td>mon</td>\n",
       "      <td>1</td>\n",
       "      <td>999</td>\n",
       "      <td>0</td>\n",
       "      <td>nonexistent</td>\n",
       "      <td>1.1</td>\n",
       "      <td>93.994</td>\n",
       "      <td>-36.4</td>\n",
       "      <td>4.857</td>\n",
       "      <td>5191.0</td>\n",
       "      <td>0</td>\n",
       "    </tr>\n",
       "    <tr>\n",
       "      <td>...</td>\n",
       "      <td>...</td>\n",
       "      <td>...</td>\n",
       "      <td>...</td>\n",
       "      <td>...</td>\n",
       "      <td>...</td>\n",
       "      <td>...</td>\n",
       "      <td>...</td>\n",
       "      <td>...</td>\n",
       "      <td>...</td>\n",
       "      <td>...</td>\n",
       "      <td>...</td>\n",
       "      <td>...</td>\n",
       "      <td>...</td>\n",
       "      <td>...</td>\n",
       "      <td>...</td>\n",
       "      <td>...</td>\n",
       "      <td>...</td>\n",
       "      <td>...</td>\n",
       "      <td>...</td>\n",
       "      <td>...</td>\n",
       "    </tr>\n",
       "    <tr>\n",
       "      <td>41183</td>\n",
       "      <td>73</td>\n",
       "      <td>retired</td>\n",
       "      <td>married</td>\n",
       "      <td>professional.course</td>\n",
       "      <td>no</td>\n",
       "      <td>yes</td>\n",
       "      <td>no</td>\n",
       "      <td>0</td>\n",
       "      <td>nov</td>\n",
       "      <td>fri</td>\n",
       "      <td>1</td>\n",
       "      <td>999</td>\n",
       "      <td>0</td>\n",
       "      <td>nonexistent</td>\n",
       "      <td>-1.1</td>\n",
       "      <td>94.767</td>\n",
       "      <td>-50.8</td>\n",
       "      <td>1.028</td>\n",
       "      <td>4963.6</td>\n",
       "      <td>1</td>\n",
       "    </tr>\n",
       "    <tr>\n",
       "      <td>41184</td>\n",
       "      <td>46</td>\n",
       "      <td>blue-collar</td>\n",
       "      <td>married</td>\n",
       "      <td>professional.course</td>\n",
       "      <td>no</td>\n",
       "      <td>no</td>\n",
       "      <td>no</td>\n",
       "      <td>0</td>\n",
       "      <td>nov</td>\n",
       "      <td>fri</td>\n",
       "      <td>1</td>\n",
       "      <td>999</td>\n",
       "      <td>0</td>\n",
       "      <td>nonexistent</td>\n",
       "      <td>-1.1</td>\n",
       "      <td>94.767</td>\n",
       "      <td>-50.8</td>\n",
       "      <td>1.028</td>\n",
       "      <td>4963.6</td>\n",
       "      <td>0</td>\n",
       "    </tr>\n",
       "    <tr>\n",
       "      <td>41185</td>\n",
       "      <td>56</td>\n",
       "      <td>retired</td>\n",
       "      <td>married</td>\n",
       "      <td>university.degree</td>\n",
       "      <td>no</td>\n",
       "      <td>yes</td>\n",
       "      <td>no</td>\n",
       "      <td>0</td>\n",
       "      <td>nov</td>\n",
       "      <td>fri</td>\n",
       "      <td>2</td>\n",
       "      <td>999</td>\n",
       "      <td>0</td>\n",
       "      <td>nonexistent</td>\n",
       "      <td>-1.1</td>\n",
       "      <td>94.767</td>\n",
       "      <td>-50.8</td>\n",
       "      <td>1.028</td>\n",
       "      <td>4963.6</td>\n",
       "      <td>0</td>\n",
       "    </tr>\n",
       "    <tr>\n",
       "      <td>41186</td>\n",
       "      <td>44</td>\n",
       "      <td>technician</td>\n",
       "      <td>married</td>\n",
       "      <td>professional.course</td>\n",
       "      <td>no</td>\n",
       "      <td>no</td>\n",
       "      <td>no</td>\n",
       "      <td>0</td>\n",
       "      <td>nov</td>\n",
       "      <td>fri</td>\n",
       "      <td>1</td>\n",
       "      <td>999</td>\n",
       "      <td>0</td>\n",
       "      <td>nonexistent</td>\n",
       "      <td>-1.1</td>\n",
       "      <td>94.767</td>\n",
       "      <td>-50.8</td>\n",
       "      <td>1.028</td>\n",
       "      <td>4963.6</td>\n",
       "      <td>1</td>\n",
       "    </tr>\n",
       "    <tr>\n",
       "      <td>41187</td>\n",
       "      <td>74</td>\n",
       "      <td>retired</td>\n",
       "      <td>married</td>\n",
       "      <td>professional.course</td>\n",
       "      <td>no</td>\n",
       "      <td>yes</td>\n",
       "      <td>no</td>\n",
       "      <td>0</td>\n",
       "      <td>nov</td>\n",
       "      <td>fri</td>\n",
       "      <td>3</td>\n",
       "      <td>999</td>\n",
       "      <td>1</td>\n",
       "      <td>failure</td>\n",
       "      <td>-1.1</td>\n",
       "      <td>94.767</td>\n",
       "      <td>-50.8</td>\n",
       "      <td>1.028</td>\n",
       "      <td>4963.6</td>\n",
       "      <td>0</td>\n",
       "    </tr>\n",
       "  </tbody>\n",
       "</table>\n",
       "<p>41188 rows × 20 columns</p>\n",
       "</div>"
      ],
      "text/plain": [
       "       age          job  marital            education  default housing loan  \\\n",
       "0       56    housemaid  married             basic.4y       no      no   no   \n",
       "1       57     services  married          high.school  unknown      no   no   \n",
       "2       37     services  married          high.school       no     yes   no   \n",
       "3       40       admin.  married             basic.6y       no      no   no   \n",
       "4       56     services  married          high.school       no      no  yes   \n",
       "...    ...          ...      ...                  ...      ...     ...  ...   \n",
       "41183   73      retired  married  professional.course       no     yes   no   \n",
       "41184   46  blue-collar  married  professional.course       no      no   no   \n",
       "41185   56      retired  married    university.degree       no     yes   no   \n",
       "41186   44   technician  married  professional.course       no      no   no   \n",
       "41187   74      retired  married  professional.course       no     yes   no   \n",
       "\n",
       "       contact month day_of_week  campaign  pdays  previous     poutcome  \\\n",
       "0            1   may         mon         1    999         0  nonexistent   \n",
       "1            1   may         mon         1    999         0  nonexistent   \n",
       "2            1   may         mon         1    999         0  nonexistent   \n",
       "3            1   may         mon         1    999         0  nonexistent   \n",
       "4            1   may         mon         1    999         0  nonexistent   \n",
       "...        ...   ...         ...       ...    ...       ...          ...   \n",
       "41183        0   nov         fri         1    999         0  nonexistent   \n",
       "41184        0   nov         fri         1    999         0  nonexistent   \n",
       "41185        0   nov         fri         2    999         0  nonexistent   \n",
       "41186        0   nov         fri         1    999         0  nonexistent   \n",
       "41187        0   nov         fri         3    999         1      failure   \n",
       "\n",
       "       emp.var.rate  cons.price.idx  cons.conf.idx  euribor3m  nr.employed  y  \n",
       "0               1.1          93.994          -36.4      4.857       5191.0  0  \n",
       "1               1.1          93.994          -36.4      4.857       5191.0  0  \n",
       "2               1.1          93.994          -36.4      4.857       5191.0  0  \n",
       "3               1.1          93.994          -36.4      4.857       5191.0  0  \n",
       "4               1.1          93.994          -36.4      4.857       5191.0  0  \n",
       "...             ...             ...            ...        ...          ... ..  \n",
       "41183          -1.1          94.767          -50.8      1.028       4963.6  1  \n",
       "41184          -1.1          94.767          -50.8      1.028       4963.6  0  \n",
       "41185          -1.1          94.767          -50.8      1.028       4963.6  0  \n",
       "41186          -1.1          94.767          -50.8      1.028       4963.6  1  \n",
       "41187          -1.1          94.767          -50.8      1.028       4963.6  0  \n",
       "\n",
       "[41188 rows x 20 columns]"
      ]
     },
     "execution_count": 537,
     "metadata": {},
     "output_type": "execute_result"
    }
   ],
   "source": [
    "df"
   ]
  },
  {
   "cell_type": "code",
   "execution_count": 546,
   "metadata": {},
   "outputs": [],
   "source": [
    "column_transformer = ColumnTransformer([\n",
    "    ('encoding', OneHotEncoder(handle_unknown='ignore'), categorical),\n",
    "    ('scaling', StandardScaler(), numeric)\n",
    "])\n",
    "\n",
    "pipeline = Pipeline(steps=[\n",
    "    ('encoding_and_scaling', column_transformer),\n",
    "    ('regression', LogisticRegression(solver = 'lbfgs', max_iter=1000))\n",
    "])\n"
   ]
  },
  {
   "cell_type": "code",
   "execution_count": 553,
   "metadata": {},
   "outputs": [],
   "source": [
    "from sklearn.model_selection import KFold\n",
    "cv = KFold(5, True, 500)\n",
    "revenue_list = []\n",
    "num_of_calls_list = []\n",
    "for train, test in cv.split(df):\n",
    "    pl = pipeline.fit(df.iloc[train, : -1], df.iloc[train, -1])\n",
    "    results = pl.predict_proba(df.iloc[test, : -1])[:,1]\n",
    "    positive_pred = results[results > 0.5]\n",
    "    num_of_calls = results[results > 0.5].size\n",
    "    revenue = 10*np.sum(positive_pred)\n",
    "    revenue_list.append(revenue)\n",
    "    num_of_calls_list.append(num_of_calls)"
   ]
  },
  {
   "cell_type": "code",
   "execution_count": 556,
   "metadata": {},
   "outputs": [
    {
     "data": {
      "text/plain": [
       "[292, 321, 335, 320, 305]"
      ]
     },
     "execution_count": 556,
     "metadata": {},
     "output_type": "execute_result"
    }
   ],
   "source": [
    "num_of_calls_list"
   ]
  },
  {
   "cell_type": "code",
   "execution_count": 559,
   "metadata": {},
   "outputs": [
    {
     "data": {
      "text/plain": [
       "[1974.2884083294703,\n",
       " 2134.634321694189,\n",
       " 2273.8176640346132,\n",
       " 2161.656749449282,\n",
       " 2067.0351082775833]"
      ]
     },
     "execution_count": 559,
     "metadata": {},
     "output_type": "execute_result"
    }
   ],
   "source": [
    "revenue_list"
   ]
  },
  {
   "cell_type": "code",
   "execution_count": 569,
   "metadata": {},
   "outputs": [
    {
     "name": "stdout",
     "output_type": "stream",
     "text": [
      "Mean revenue : 2122.29\n",
      "Mean cost of salaries : 314.60\n",
      "Mean profit : 1807.69\n",
      "Standard deviation of revenues  : 99.62\n"
     ]
    }
   ],
   "source": [
    "mean_revenue = np.mean(revenue_list)\n",
    "mean_salary = np.mean(num_of_calls_list)\n",
    "mean_profit = np.mean(revenue_list - mean_salary)\n",
    "std = np.std(revenue_list)\n",
    "print('Mean revenue : %.2f' % mean_revenue)\n",
    "print('Mean cost of salaries : %.2f' % mean_salary)\n",
    "print('Mean profit : %.2f' % mean_profit)\n",
    "print('Standard deviation of revenues  : %.2f' % std)"
   ]
  },
  {
   "cell_type": "markdown",
   "metadata": {},
   "source": [
    "Внесем некоторую долю случайности. Пусть теперь согласный на условия клиент будет приносить не 10 долларов, а случайную величину, равномерно распределенную в интервале $[0;20)$. Проделайте все те же самые действия. Для имитации реальной ситуации **НЕ** фиксируйте `random_seed` при подсчете выручки с клиента. Что получилось?"
   ]
  },
  {
   "cell_type": "code",
   "execution_count": 572,
   "metadata": {},
   "outputs": [
    {
     "data": {
      "text/plain": [
       "(41188, 20)"
      ]
     },
     "execution_count": 572,
     "metadata": {},
     "output_type": "execute_result"
    }
   ],
   "source": [
    "np.random.uniform(0, 20, df.shape).shape"
   ]
  },
  {
   "cell_type": "code",
   "execution_count": 575,
   "metadata": {},
   "outputs": [
    {
     "data": {
      "text/plain": [
       "(305,)"
      ]
     },
     "execution_count": 575,
     "metadata": {},
     "output_type": "execute_result"
    }
   ],
   "source": [
    "positive_pred.shape"
   ]
  },
  {
   "cell_type": "code",
   "execution_count": 586,
   "metadata": {},
   "outputs": [],
   "source": [
    "from sklearn.model_selection import KFold\n",
    "cv = KFold(5, True, 500)\n",
    "revenue_list = []\n",
    "num_of_calls_list = []\n",
    "for train, test in cv.split(df):\n",
    "    pl = pipeline.fit(df.iloc[train, : -1], df.iloc[train, -1])\n",
    "    results = pl.predict_proba(df.iloc[test, : -1])[:,1]\n",
    "    positive_pred = results[results > 0.5]\n",
    "    num_of_calls = results[results > 0.5].size\n",
    "    revenue = np.sum(np.random.uniform(0, 20, positive_pred.shape) * positive_pred)\n",
    "    revenue_list.append(revenue)\n",
    "    num_of_calls_list.append(num_of_calls)"
   ]
  },
  {
   "cell_type": "code",
   "execution_count": 590,
   "metadata": {},
   "outputs": [
    {
     "name": "stdout",
     "output_type": "stream",
     "text": [
      "Mean revenue : 2126.57\n",
      "Mean cost of salaries : 314.60\n",
      "Mean profit : 1811.97\n",
      "Standard deviation of revenues  : 114.62\n"
     ]
    }
   ],
   "source": [
    "mean_revenue = np.mean(revenue_list)\n",
    "mean_profit = np.mean(revenue_list - mean_salary)\n",
    "mean_salary = np.mean(num_of_calls_list)\n",
    "std = np.std(revenue_list)\n",
    "print('Mean revenue : %.2f' % mean_revenue)\n",
    "print('Mean cost of salaries : %.2f' % mean_salary)\n",
    "print('Mean profit : %.2f' % mean_profit)\n",
    "print('Standard deviation of revenues  : %.2f' % std)"
   ]
  },
  {
   "cell_type": "markdown",
   "metadata": {},
   "source": [
    "Настройте по кросс-валидации коэффициент регуляризации модели для максимизации прибыли (считайте как случайную величину выше). Удалось ли получить какой-то выигрыш? При каком коэффициенте регуляризациии прибыль максимальна? Постройте график зависимости ожидаемой прибыли от коэффициента, также укажите стандартные отклонения (вам поможет `plt.errorbar`)."
   ]
  },
  {
   "cell_type": "code",
   "execution_count": 594,
   "metadata": {},
   "outputs": [],
   "source": [
    "def pipeline_pr(C_):\n",
    "    column_transformer = ColumnTransformer([\n",
    "        ('encoding', OneHotEncoder(handle_unknown='ignore'), categorical),\n",
    "        ('scaling', StandardScaler(), numeric)\n",
    "    ])\n",
    "\n",
    "    pipeline = Pipeline(steps=[\n",
    "        ('encoding_and_scaling', column_transformer),\n",
    "        ('regression', LogisticRegression(solver = 'lbfgs', C = C_, max_iter=100000))\n",
    "    ])\n",
    "    return pipeline"
   ]
  },
  {
   "cell_type": "code",
   "execution_count": 599,
   "metadata": {},
   "outputs": [
    {
     "name": "stderr",
     "output_type": "stream",
     "text": [
      "\n",
      "\n",
      "\n",
      "\n",
      "\n",
      "  0%|          | 0/10 [00:00<?, ?it/s]\u001b[A\u001b[A\u001b[A\u001b[A\u001b[A\n",
      "\n",
      "\n",
      "\n",
      "\n",
      " 10%|█         | 1/10 [00:03<00:32,  3.63s/it]\u001b[A\u001b[A\u001b[A\u001b[A\u001b[A"
     ]
    },
    {
     "name": "stdout",
     "output_type": "stream",
     "text": [
      "1590.4198397945215\n"
     ]
    },
    {
     "name": "stderr",
     "output_type": "stream",
     "text": [
      "\n",
      "\n",
      "\n",
      "\n",
      "\n",
      " 20%|██        | 2/10 [00:25<01:13,  9.23s/it]\u001b[A\u001b[A\u001b[A\u001b[A\u001b[A"
     ]
    },
    {
     "name": "stdout",
     "output_type": "stream",
     "text": [
      "1824.396533317912\n"
     ]
    },
    {
     "name": "stderr",
     "output_type": "stream",
     "text": [
      "\n",
      "\n",
      "\n",
      "\n",
      "\n",
      " 30%|███       | 3/10 [00:57<01:50, 15.84s/it]\u001b[A\u001b[A\u001b[A\u001b[A\u001b[A"
     ]
    },
    {
     "name": "stdout",
     "output_type": "stream",
     "text": [
      "1794.3449622766875\n"
     ]
    },
    {
     "name": "stderr",
     "output_type": "stream",
     "text": [
      "\n",
      "\n",
      "\n",
      "\n",
      "\n",
      " 40%|████      | 4/10 [01:28<02:03, 20.58s/it]\u001b[A\u001b[A\u001b[A\u001b[A\u001b[A"
     ]
    },
    {
     "name": "stdout",
     "output_type": "stream",
     "text": [
      "1862.1417653088115\n"
     ]
    },
    {
     "name": "stderr",
     "output_type": "stream",
     "text": [
      "\n",
      "\n",
      "\n",
      "\n",
      "\n",
      " 50%|█████     | 5/10 [01:56<01:53, 22.71s/it]\u001b[A\u001b[A\u001b[A\u001b[A\u001b[A"
     ]
    },
    {
     "name": "stdout",
     "output_type": "stream",
     "text": [
      "1886.4953806183214\n"
     ]
    },
    {
     "name": "stderr",
     "output_type": "stream",
     "text": [
      "\n",
      "\n",
      "\n",
      "\n",
      "\n",
      " 60%|██████    | 6/10 [02:22<01:35, 23.83s/it]\u001b[A\u001b[A\u001b[A\u001b[A\u001b[A"
     ]
    },
    {
     "name": "stdout",
     "output_type": "stream",
     "text": [
      "1877.4479690224696\n"
     ]
    },
    {
     "name": "stderr",
     "output_type": "stream",
     "text": [
      "\n",
      "\n",
      "\n",
      "\n",
      "\n",
      " 70%|███████   | 7/10 [02:51<01:15, 25.27s/it]\u001b[A\u001b[A\u001b[A\u001b[A\u001b[A"
     ]
    },
    {
     "name": "stdout",
     "output_type": "stream",
     "text": [
      "1806.5483952381412\n"
     ]
    },
    {
     "name": "stderr",
     "output_type": "stream",
     "text": [
      "\n",
      "\n",
      "\n",
      "\n",
      "\n",
      " 80%|████████  | 8/10 [03:19<00:52, 26.12s/it]\u001b[A\u001b[A\u001b[A\u001b[A\u001b[A"
     ]
    },
    {
     "name": "stdout",
     "output_type": "stream",
     "text": [
      "1831.7403541149647\n"
     ]
    },
    {
     "name": "stderr",
     "output_type": "stream",
     "text": [
      "\n",
      "\n",
      "\n",
      "\n",
      "\n",
      " 90%|█████████ | 9/10 [03:48<00:26, 26.84s/it]\u001b[A\u001b[A\u001b[A\u001b[A\u001b[A"
     ]
    },
    {
     "name": "stdout",
     "output_type": "stream",
     "text": [
      "1851.3437216687428\n"
     ]
    },
    {
     "name": "stderr",
     "output_type": "stream",
     "text": [
      "\n",
      "\n",
      "\n",
      "\n",
      "\n",
      "100%|██████████| 10/10 [04:15<00:00, 25.57s/it]\u001b[A\u001b[A\u001b[A\u001b[A\u001b[A"
     ]
    },
    {
     "name": "stdout",
     "output_type": "stream",
     "text": [
      "1794.989162776846\n"
     ]
    },
    {
     "name": "stderr",
     "output_type": "stream",
     "text": [
      "\n"
     ]
    }
   ],
   "source": [
    "profit_with_C = []\n",
    "for C in tqdm(np.logspace(-2, 30, 10)):\n",
    "    cv = KFold(5, True, 500)\n",
    "    profit_list = []\n",
    "    for train, test in cv.split(df):\n",
    "        pl = pipeline_pr(C).fit(df.iloc[train, : -1], df.iloc[train, -1])\n",
    "        results = pl.predict_proba(df.iloc[test, : -1])[:,1]\n",
    "        positive_pred = results[results > 0.5]\n",
    "        num_of_calls = results[results > 0.5].size\n",
    "        revenue = np.sum(np.random.uniform(0, 20, positive_pred.shape) * positive_pred)\n",
    "        profit_list.append(revenue - num_of_calls)\n",
    "    print(np.mean(profit_list))\n",
    "    profit_with_C.append(np.mean(profit_list))\n",
    "    \n",
    "    "
   ]
  },
  {
   "cell_type": "code",
   "execution_count": 596,
   "metadata": {},
   "outputs": [
    {
     "data": {
      "text/plain": [
       "[1601.6380078202942,\n",
       " 1785.72851157456,\n",
       " 1763.5713847082359,\n",
       " 1822.785288182004,\n",
       " 1810.9567933308585]"
      ]
     },
     "execution_count": 596,
     "metadata": {},
     "output_type": "execute_result"
    }
   ],
   "source": [
    "profit_with_C"
   ]
  },
  {
   "cell_type": "markdown",
   "metadata": {},
   "source": [
    "Попробуйте запустить перебор несколько раз. Находится ли каждый раз один и тот же \"лучший\" коэффициент? Присутствует ли какая-то закономерность? Какие вы можете сделать из этого выводы?"
   ]
  },
  {
   "cell_type": "code",
   "execution_count": 600,
   "metadata": {},
   "outputs": [
    {
     "name": "stderr",
     "output_type": "stream",
     "text": [
      "\n",
      "\n",
      "\n",
      "\n",
      "\n",
      "  0%|          | 0/10 [00:00<?, ?it/s]\u001b[A\u001b[A\u001b[A\u001b[A\u001b[A\n",
      "\n",
      "\n",
      "\n",
      "\n",
      " 10%|█         | 1/10 [00:04<00:37,  4.15s/it]\u001b[A\u001b[A\u001b[A\u001b[A\u001b[A"
     ]
    },
    {
     "name": "stdout",
     "output_type": "stream",
     "text": [
      "1633.8523181954406\n"
     ]
    },
    {
     "name": "stderr",
     "output_type": "stream",
     "text": [
      "\n",
      "\n",
      "\n",
      "\n",
      "\n",
      " 20%|██        | 2/10 [00:30<01:26, 10.86s/it]\u001b[A\u001b[A\u001b[A\u001b[A\u001b[A"
     ]
    },
    {
     "name": "stdout",
     "output_type": "stream",
     "text": [
      "1825.7019492719933\n"
     ]
    },
    {
     "name": "stderr",
     "output_type": "stream",
     "text": [
      "\n",
      "\n",
      "\n",
      "\n",
      "\n",
      " 30%|███       | 3/10 [01:04<02:03, 17.70s/it]\u001b[A\u001b[A\u001b[A\u001b[A\u001b[A"
     ]
    },
    {
     "name": "stdout",
     "output_type": "stream",
     "text": [
      "1827.7311828184343\n"
     ]
    },
    {
     "name": "stderr",
     "output_type": "stream",
     "text": [
      "\n",
      "\n",
      "\n",
      "\n",
      "\n",
      " 40%|████      | 4/10 [01:32<02:04, 20.81s/it]\u001b[A\u001b[A\u001b[A\u001b[A\u001b[A"
     ]
    },
    {
     "name": "stdout",
     "output_type": "stream",
     "text": [
      "1814.4024463214707\n"
     ]
    },
    {
     "name": "stderr",
     "output_type": "stream",
     "text": [
      "\n",
      "\n",
      "\n",
      "\n",
      "\n",
      " 50%|█████     | 5/10 [02:04<02:00, 24.15s/it]\u001b[A\u001b[A\u001b[A\u001b[A\u001b[A"
     ]
    },
    {
     "name": "stdout",
     "output_type": "stream",
     "text": [
      "1798.2373969727182\n"
     ]
    },
    {
     "name": "stderr",
     "output_type": "stream",
     "text": [
      "\n",
      "\n",
      "\n",
      "\n",
      "\n",
      " 60%|██████    | 6/10 [02:30<01:38, 24.72s/it]\u001b[A\u001b[A\u001b[A\u001b[A\u001b[A"
     ]
    },
    {
     "name": "stdout",
     "output_type": "stream",
     "text": [
      "1762.3010447827746\n"
     ]
    },
    {
     "name": "stderr",
     "output_type": "stream",
     "text": [
      "\n",
      "\n",
      "\n",
      "\n",
      "\n",
      " 70%|███████   | 7/10 [03:00<01:18, 26.26s/it]\u001b[A\u001b[A\u001b[A\u001b[A\u001b[A"
     ]
    },
    {
     "name": "stdout",
     "output_type": "stream",
     "text": [
      "1815.154169026584\n"
     ]
    },
    {
     "name": "stderr",
     "output_type": "stream",
     "text": [
      "\n",
      "\n",
      "\n",
      "\n",
      "\n",
      " 80%|████████  | 8/10 [03:27<00:53, 26.62s/it]\u001b[A\u001b[A\u001b[A\u001b[A\u001b[A"
     ]
    },
    {
     "name": "stdout",
     "output_type": "stream",
     "text": [
      "1796.2846487222873\n"
     ]
    },
    {
     "name": "stderr",
     "output_type": "stream",
     "text": [
      "\n",
      "\n",
      "\n",
      "\n",
      "\n",
      " 90%|█████████ | 9/10 [03:55<00:26, 26.93s/it]\u001b[A\u001b[A\u001b[A\u001b[A\u001b[A"
     ]
    },
    {
     "name": "stdout",
     "output_type": "stream",
     "text": [
      "1827.3921828950545\n"
     ]
    },
    {
     "name": "stderr",
     "output_type": "stream",
     "text": [
      "\n",
      "\n",
      "\n",
      "\n",
      "\n",
      "100%|██████████| 10/10 [04:22<00:00, 26.25s/it]\u001b[A\u001b[A\u001b[A\u001b[A\u001b[A"
     ]
    },
    {
     "name": "stdout",
     "output_type": "stream",
     "text": [
      "1866.4517403450577\n"
     ]
    },
    {
     "name": "stderr",
     "output_type": "stream",
     "text": [
      "\n"
     ]
    }
   ],
   "source": [
    "profit_with_C = []\n",
    "for C in tqdm(np.logspace(-2, 30, 10)):\n",
    "    cv = KFold(5, True, 500)\n",
    "    profit_list = []\n",
    "    for train, test in cv.split(df):\n",
    "        pl = pipeline_pr(C).fit(df.iloc[train, : -1], df.iloc[train, -1])\n",
    "        results = pl.predict_proba(df.iloc[test, : -1])[:,1]\n",
    "        positive_pred = results[results > 0.5]\n",
    "        num_of_calls = results[results > 0.5].size\n",
    "        revenue = np.sum(np.random.uniform(0, 20, positive_pred.shape) * positive_pred)\n",
    "        profit_list.append(revenue - num_of_calls)\n",
    "    print(np.mean(profit_list))\n",
    "    profit_with_C.append(np.mean(profit_list))"
   ]
  },
  {
   "cell_type": "markdown",
   "metadata": {},
   "source": [
    "__Задание 12 (1 балл).__ Выше мы уже описали примерную экономическую модель вашей задачи. Как вы считаете, что для вашего бизнеса важнее — хороший precision или recall модели? Почему?\n",
    "\n",
    "__Ответ:__\n",
    "\n"
   ]
  },
  {
   "cell_type": "markdown",
   "metadata": {},
   "source": [
    "Вспомним, что на самом деле логистическая регрессия предсказывает нам вероятности положительного класса для объекта. Возможно, путем настройки порога бинаризации этих вероятностей мы сможем получить какой-то выигрыш? Проверьте ваши рассуждения выше с помощью настройки порога бинаризации на кросс-валидации для максимизации прибыли. Воспользуйтесь сеткой от 0 до 1 с шагом 0.01. Напомним, что снижение порога дает нам более высокий recall и более низкий precision, и наоборот."
   ]
  },
  {
   "cell_type": "code",
   "execution_count": null,
   "metadata": {},
   "outputs": [],
   "source": [
    "#your code here"
   ]
  },
  {
   "cell_type": "markdown",
   "metadata": {},
   "source": [
    "Постройте график зависимости прибыли от порога бинаризации, также отметьте на нем стандартные отклонения. Выделите наилучший порог. \n",
    "\n",
    "\n",
    "__Вопрос:__ Замечаете ли вы какую-то закономерность? Для правильного ответа на этот вопрос попробуйте запустить несколько раз и задумайтесь, почему порог получается в какой-то конкретной области?"
   ]
  },
  {
   "cell_type": "code",
   "execution_count": null,
   "metadata": {},
   "outputs": [],
   "source": [
    "#your code here"
   ]
  },
  {
   "cell_type": "markdown",
   "metadata": {},
   "source": [
    "Каковы значения precision и recall на выбранном пороге? Оцените по кросс-валидации. Также вычислите стандартное отклонение."
   ]
  },
  {
   "cell_type": "code",
   "execution_count": null,
   "metadata": {},
   "outputs": [],
   "source": [
    "#your code here"
   ]
  },
  {
   "cell_type": "markdown",
   "metadata": {},
   "source": [
    "Как вы, вероятно, уже поняли, ваша модель склоняется к более высокому recall. Попробуйте оценить качество модели с помощью `PR-AUC` в зоне recall $\\geq$ 0.5. Сделайте это следующим образом - выберите только те пороги, на которых достигается необходимый recall, затем интерпретируйте отсеченный в единичном квадрате прямоугольник как новый единичный квадрат и посчитайте площадь под отсеченной кривой. "
   ]
  },
  {
   "cell_type": "code",
   "execution_count": null,
   "metadata": {},
   "outputs": [],
   "source": [
    "#your code here"
   ]
  },
  {
   "cell_type": "markdown",
   "metadata": {},
   "source": [
    "__Бонус (0.01 балла):__ что вы кушали в день сдачи данного ДЗ на завтрак?\n",
    "\n",
    "__Ответ:__ омлет"
   ]
  },
  {
   "cell_type": "markdown",
   "metadata": {},
   "source": [
    "__Социализационный бонус (0.1 балл).__\n",
    "Введены новые ограничения, занятия теперь дистанционные. Но это не значит, что не надо общаться с друзьями! Созвонитесь в зуме (или любым другим способом) хотя бы с двумя студентами курса МО-1 этого года, приложите скриншот созвона с включенными камерами и напишите очень кратко, на какие темы были беседы.\n",
    "\n",
    "__Ответ:__\n",
    "\n",
    "![photo_2021-10-12_23-45-30.jpg]"
   ]
  },
  {
   "cell_type": "code",
   "execution_count": null,
   "metadata": {},
   "outputs": [],
   "source": []
  }
 ],
 "metadata": {
  "kernelspec": {
   "display_name": "Python 3",
   "language": "python",
   "name": "python3"
  },
  "language_info": {
   "codemirror_mode": {
    "name": "ipython",
    "version": 3
   },
   "file_extension": ".py",
   "mimetype": "text/x-python",
   "name": "python",
   "nbconvert_exporter": "python",
   "pygments_lexer": "ipython3",
   "version": "3.7.4"
  }
 },
 "nbformat": 4,
 "nbformat_minor": 4
}
